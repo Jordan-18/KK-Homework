{
  "cells": [
    {
      "cell_type": "markdown",
      "metadata": {
        "id": "ENxOKpN9Oxo9"
      },
      "source": [
        "# **Libraries and Dataset**"
      ]
    },
    {
      "cell_type": "code",
      "execution_count": 1,
      "metadata": {
        "id": "9J-taP_VZBKX"
      },
      "outputs": [],
      "source": [
        "import numpy as np\n",
        "import pandas as pd\n",
        "import seaborn  as sns\n",
        "from sklearn.model_selection import train_test_split\n",
        "from sklearn.preprocessing import LabelEncoder, OneHotEncoder, StandardScaler,MinMaxScaler\n",
        "from sklearn.model_selection import cross_val_score, GridSearchCV\n",
        "import matplotlib.pyplot as plt\n",
        "from sklearn.metrics import confusion_matrix,classification_report, ConfusionMatrixDisplay"
      ]
    },
    {
      "cell_type": "code",
      "execution_count": 2,
      "metadata": {
        "id": "PF6y1Jx8ZBKb"
      },
      "outputs": [],
      "source": [
        "dataset = pd.read_csv('data/market_cluster.csv', encoding='latin1')\n"
      ]
    },
    {
      "cell_type": "code",
      "execution_count": 3,
      "metadata": {
        "colab": {
          "base_uri": "https://localhost:8080/",
          "height": 206
        },
        "id": "tJhiivZTZBKb",
        "outputId": "08d4e63f-057f-4657-bbd0-59adb7448bab"
      },
      "outputs": [
        {
          "data": {
            "text/html": [
              "<div>\n",
              "<style scoped>\n",
              "    .dataframe tbody tr th:only-of-type {\n",
              "        vertical-align: middle;\n",
              "    }\n",
              "\n",
              "    .dataframe tbody tr th {\n",
              "        vertical-align: top;\n",
              "    }\n",
              "\n",
              "    .dataframe thead th {\n",
              "        text-align: right;\n",
              "    }\n",
              "</style>\n",
              "<table border=\"1\" class=\"dataframe\">\n",
              "  <thead>\n",
              "    <tr style=\"text-align: right;\">\n",
              "      <th></th>\n",
              "      <th>Order ID</th>\n",
              "      <th>Customer Name</th>\n",
              "      <th>Category</th>\n",
              "      <th>Sub Category</th>\n",
              "      <th>City</th>\n",
              "      <th>Order Date</th>\n",
              "      <th>Region</th>\n",
              "      <th>Sales</th>\n",
              "      <th>Discount</th>\n",
              "      <th>Profit</th>\n",
              "      <th>State</th>\n",
              "      <th>profit_margin</th>\n",
              "      <th>Cluster</th>\n",
              "    </tr>\n",
              "  </thead>\n",
              "  <tbody>\n",
              "    <tr>\n",
              "      <th>0</th>\n",
              "      <td>OD1</td>\n",
              "      <td>Harish</td>\n",
              "      <td>Oil &amp; Masala</td>\n",
              "      <td>Masalas</td>\n",
              "      <td>Vellore</td>\n",
              "      <td>11-08-2017</td>\n",
              "      <td>North</td>\n",
              "      <td>1254</td>\n",
              "      <td>0.12</td>\n",
              "      <td>401.28</td>\n",
              "      <td>Tamil Nadu</td>\n",
              "      <td>0.32</td>\n",
              "      <td>Medium</td>\n",
              "    </tr>\n",
              "    <tr>\n",
              "      <th>1</th>\n",
              "      <td>OD2</td>\n",
              "      <td>Sudha</td>\n",
              "      <td>Beverages</td>\n",
              "      <td>Health Drinks</td>\n",
              "      <td>Krishnagiri</td>\n",
              "      <td>11-08-2017</td>\n",
              "      <td>South</td>\n",
              "      <td>749</td>\n",
              "      <td>0.18</td>\n",
              "      <td>149.80</td>\n",
              "      <td>Tamil Nadu</td>\n",
              "      <td>0.20</td>\n",
              "      <td>Medium</td>\n",
              "    </tr>\n",
              "    <tr>\n",
              "      <th>2</th>\n",
              "      <td>OD3</td>\n",
              "      <td>Hussain</td>\n",
              "      <td>Food Grains</td>\n",
              "      <td>Atta &amp; Flour</td>\n",
              "      <td>Perambalur</td>\n",
              "      <td>06-12-2017</td>\n",
              "      <td>West</td>\n",
              "      <td>2360</td>\n",
              "      <td>0.21</td>\n",
              "      <td>165.20</td>\n",
              "      <td>Tamil Nadu</td>\n",
              "      <td>0.07</td>\n",
              "      <td>Low</td>\n",
              "    </tr>\n",
              "    <tr>\n",
              "      <th>3</th>\n",
              "      <td>OD4</td>\n",
              "      <td>Jackson</td>\n",
              "      <td>Fruits &amp; Veggies</td>\n",
              "      <td>Fresh Vegetables</td>\n",
              "      <td>Dharmapuri</td>\n",
              "      <td>10-11-2016</td>\n",
              "      <td>South</td>\n",
              "      <td>896</td>\n",
              "      <td>0.25</td>\n",
              "      <td>89.60</td>\n",
              "      <td>Tamil Nadu</td>\n",
              "      <td>0.10</td>\n",
              "      <td>Low</td>\n",
              "    </tr>\n",
              "    <tr>\n",
              "      <th>4</th>\n",
              "      <td>OD5</td>\n",
              "      <td>Ridhesh</td>\n",
              "      <td>Food Grains</td>\n",
              "      <td>Organic Staples</td>\n",
              "      <td>Ooty</td>\n",
              "      <td>10-11-2016</td>\n",
              "      <td>South</td>\n",
              "      <td>2355</td>\n",
              "      <td>0.26</td>\n",
              "      <td>918.45</td>\n",
              "      <td>Tamil Nadu</td>\n",
              "      <td>0.39</td>\n",
              "      <td>High</td>\n",
              "    </tr>\n",
              "  </tbody>\n",
              "</table>\n",
              "</div>"
            ],
            "text/plain": [
              "  Order ID Customer Name          Category      Sub Category         City  \\\n",
              "0      OD1        Harish      Oil & Masala           Masalas      Vellore   \n",
              "1      OD2         Sudha         Beverages     Health Drinks  Krishnagiri   \n",
              "2      OD3       Hussain       Food Grains      Atta & Flour   Perambalur   \n",
              "3      OD4       Jackson  Fruits & Veggies  Fresh Vegetables   Dharmapuri   \n",
              "4      OD5       Ridhesh       Food Grains   Organic Staples         Ooty   \n",
              "\n",
              "   Order Date Region  Sales  Discount  Profit       State  profit_margin  \\\n",
              "0  11-08-2017  North   1254      0.12  401.28  Tamil Nadu           0.32   \n",
              "1  11-08-2017  South    749      0.18  149.80  Tamil Nadu           0.20   \n",
              "2  06-12-2017   West   2360      0.21  165.20  Tamil Nadu           0.07   \n",
              "3  10-11-2016  South    896      0.25   89.60  Tamil Nadu           0.10   \n",
              "4  10-11-2016  South   2355      0.26  918.45  Tamil Nadu           0.39   \n",
              "\n",
              "  Cluster  \n",
              "0  Medium  \n",
              "1  Medium  \n",
              "2     Low  \n",
              "3     Low  \n",
              "4    High  "
            ]
          },
          "execution_count": 3,
          "metadata": {},
          "output_type": "execute_result"
        }
      ],
      "source": [
        "dataset.head()"
      ]
    },
    {
      "cell_type": "code",
      "execution_count": 4,
      "metadata": {
        "colab": {
          "base_uri": "https://localhost:8080/"
        },
        "id": "LInQP5rWZBKe",
        "outputId": "22e7bb1e-552c-4882-8822-66cf9e5f48da"
      },
      "outputs": [
        {
          "name": "stdout",
          "output_type": "stream",
          "text": [
            "<class 'pandas.core.frame.DataFrame'>\n",
            "RangeIndex: 9994 entries, 0 to 9993\n",
            "Data columns (total 13 columns):\n",
            " #   Column         Non-Null Count  Dtype  \n",
            "---  ------         --------------  -----  \n",
            " 0   Order ID       9994 non-null   object \n",
            " 1   Customer Name  9994 non-null   object \n",
            " 2   Category       9994 non-null   object \n",
            " 3   Sub Category   9994 non-null   object \n",
            " 4   City           9994 non-null   object \n",
            " 5   Order Date     9994 non-null   object \n",
            " 6   Region         9994 non-null   object \n",
            " 7   Sales          9994 non-null   int64  \n",
            " 8   Discount       9994 non-null   float64\n",
            " 9   Profit         9994 non-null   float64\n",
            " 10  State          9994 non-null   object \n",
            " 11  profit_margin  9994 non-null   float64\n",
            " 12  Cluster        9994 non-null   object \n",
            "dtypes: float64(3), int64(1), object(9)\n",
            "memory usage: 1015.1+ KB\n"
          ]
        }
      ],
      "source": [
        "dataset.info()"
      ]
    },
    {
      "cell_type": "code",
      "execution_count": 5,
      "metadata": {},
      "outputs": [
        {
          "data": {
            "text/html": [
              "<div>\n",
              "<style scoped>\n",
              "    .dataframe tbody tr th:only-of-type {\n",
              "        vertical-align: middle;\n",
              "    }\n",
              "\n",
              "    .dataframe tbody tr th {\n",
              "        vertical-align: top;\n",
              "    }\n",
              "\n",
              "    .dataframe thead th {\n",
              "        text-align: right;\n",
              "    }\n",
              "</style>\n",
              "<table border=\"1\" class=\"dataframe\">\n",
              "  <thead>\n",
              "    <tr style=\"text-align: right;\">\n",
              "      <th></th>\n",
              "      <th>Sales</th>\n",
              "      <th>Discount</th>\n",
              "      <th>Profit</th>\n",
              "      <th>profit_margin</th>\n",
              "    </tr>\n",
              "  </thead>\n",
              "  <tbody>\n",
              "    <tr>\n",
              "      <th>count</th>\n",
              "      <td>9994.000000</td>\n",
              "      <td>9994.000000</td>\n",
              "      <td>9994.000000</td>\n",
              "      <td>9994.000000</td>\n",
              "    </tr>\n",
              "    <tr>\n",
              "      <th>mean</th>\n",
              "      <td>1496.596158</td>\n",
              "      <td>0.226817</td>\n",
              "      <td>374.937082</td>\n",
              "      <td>0.250228</td>\n",
              "    </tr>\n",
              "    <tr>\n",
              "      <th>std</th>\n",
              "      <td>577.559036</td>\n",
              "      <td>0.074636</td>\n",
              "      <td>239.932881</td>\n",
              "      <td>0.118919</td>\n",
              "    </tr>\n",
              "    <tr>\n",
              "      <th>min</th>\n",
              "      <td>500.000000</td>\n",
              "      <td>0.100000</td>\n",
              "      <td>25.250000</td>\n",
              "      <td>0.050000</td>\n",
              "    </tr>\n",
              "    <tr>\n",
              "      <th>25%</th>\n",
              "      <td>1000.000000</td>\n",
              "      <td>0.160000</td>\n",
              "      <td>180.022500</td>\n",
              "      <td>0.150000</td>\n",
              "    </tr>\n",
              "    <tr>\n",
              "      <th>50%</th>\n",
              "      <td>1498.000000</td>\n",
              "      <td>0.230000</td>\n",
              "      <td>320.780000</td>\n",
              "      <td>0.250000</td>\n",
              "    </tr>\n",
              "    <tr>\n",
              "      <th>75%</th>\n",
              "      <td>1994.750000</td>\n",
              "      <td>0.290000</td>\n",
              "      <td>525.627500</td>\n",
              "      <td>0.350000</td>\n",
              "    </tr>\n",
              "    <tr>\n",
              "      <th>max</th>\n",
              "      <td>2500.000000</td>\n",
              "      <td>0.350000</td>\n",
              "      <td>1120.950000</td>\n",
              "      <td>0.450000</td>\n",
              "    </tr>\n",
              "  </tbody>\n",
              "</table>\n",
              "</div>"
            ],
            "text/plain": [
              "             Sales     Discount       Profit  profit_margin\n",
              "count  9994.000000  9994.000000  9994.000000    9994.000000\n",
              "mean   1496.596158     0.226817   374.937082       0.250228\n",
              "std     577.559036     0.074636   239.932881       0.118919\n",
              "min     500.000000     0.100000    25.250000       0.050000\n",
              "25%    1000.000000     0.160000   180.022500       0.150000\n",
              "50%    1498.000000     0.230000   320.780000       0.250000\n",
              "75%    1994.750000     0.290000   525.627500       0.350000\n",
              "max    2500.000000     0.350000  1120.950000       0.450000"
            ]
          },
          "execution_count": 5,
          "metadata": {},
          "output_type": "execute_result"
        }
      ],
      "source": [
        "dataset.describe()"
      ]
    },
    {
      "cell_type": "code",
      "execution_count": 6,
      "metadata": {},
      "outputs": [
        {
          "name": "stdout",
          "output_type": "stream",
          "text": [
            "<class 'pandas.core.frame.DataFrame'>\n",
            "RangeIndex: 9994 entries, 0 to 9993\n",
            "Data columns (total 13 columns):\n",
            " #   Column         Non-Null Count  Dtype  \n",
            "---  ------         --------------  -----  \n",
            " 0   Order ID       9994 non-null   object \n",
            " 1   Customer Name  9994 non-null   object \n",
            " 2   Category       9994 non-null   object \n",
            " 3   Sub Category   9994 non-null   object \n",
            " 4   City           9994 non-null   object \n",
            " 5   Order Date     9994 non-null   object \n",
            " 6   Region         9994 non-null   object \n",
            " 7   Sales          9994 non-null   int64  \n",
            " 8   Discount       9994 non-null   float64\n",
            " 9   Profit         9994 non-null   float64\n",
            " 10  State          9994 non-null   object \n",
            " 11  profit_margin  9994 non-null   float64\n",
            " 12  Cluster        9994 non-null   object \n",
            "dtypes: float64(3), int64(1), object(9)\n",
            "memory usage: 1015.1+ KB\n"
          ]
        }
      ],
      "source": [
        "dataset.info()"
      ]
    },
    {
      "cell_type": "markdown",
      "metadata": {},
      "source": [
        "# **Data Cleaning & Preprocessing**"
      ]
    },
    {
      "cell_type": "code",
      "execution_count": 7,
      "metadata": {},
      "outputs": [],
      "source": [
        "dataset.drop(['Order ID'], axis=1, inplace=True)"
      ]
    },
    {
      "cell_type": "code",
      "execution_count": 8,
      "metadata": {},
      "outputs": [
        {
          "data": {
            "text/plain": [
              "Customer Name    0\n",
              "Category         0\n",
              "Sub Category     0\n",
              "City             0\n",
              "Order Date       0\n",
              "Region           0\n",
              "Sales            0\n",
              "Discount         0\n",
              "Profit           0\n",
              "State            0\n",
              "profit_margin    0\n",
              "Cluster          0\n",
              "dtype: int64"
            ]
          },
          "execution_count": 8,
          "metadata": {},
          "output_type": "execute_result"
        }
      ],
      "source": [
        "dataset.isna().sum()"
      ]
    },
    {
      "cell_type": "code",
      "execution_count": 9,
      "metadata": {},
      "outputs": [],
      "source": [
        "dataset.dropna(inplace=True)"
      ]
    },
    {
      "cell_type": "code",
      "execution_count": 10,
      "metadata": {},
      "outputs": [],
      "source": [
        "def remove_outliers(data: pd.DataFrame, column: str) -> pd.Series:\n",
        "    q3, q1 = np.nanpercentile(data[column], [75, 25])\n",
        "    iqr = q3 - q1\n",
        "    upper_bound = q3 + 1.5 * iqr\n",
        "    lower_bound = q1 - 1.5 * iqr\n",
        "    data = data[(data[column] > lower_bound) & (data[column] < upper_bound)]\n",
        "\n",
        "    return data\n",
        "\n",
        "dataset = remove_outliers(dataset, 'Discount')\n",
        "dataset = remove_outliers(dataset, 'Sales')\n",
        "dataset = remove_outliers(dataset, 'Profit')"
      ]
    },
    {
      "cell_type": "code",
      "execution_count": 11,
      "metadata": {},
      "outputs": [
        {
          "data": {
            "text/html": [
              "<div>\n",
              "<style scoped>\n",
              "    .dataframe tbody tr th:only-of-type {\n",
              "        vertical-align: middle;\n",
              "    }\n",
              "\n",
              "    .dataframe tbody tr th {\n",
              "        vertical-align: top;\n",
              "    }\n",
              "\n",
              "    .dataframe thead th {\n",
              "        text-align: right;\n",
              "    }\n",
              "</style>\n",
              "<table border=\"1\" class=\"dataframe\">\n",
              "  <thead>\n",
              "    <tr style=\"text-align: right;\">\n",
              "      <th></th>\n",
              "      <th>Customer Name</th>\n",
              "      <th>Category</th>\n",
              "      <th>Sub Category</th>\n",
              "      <th>City</th>\n",
              "      <th>Order Date</th>\n",
              "      <th>Region</th>\n",
              "      <th>Sales</th>\n",
              "      <th>Discount</th>\n",
              "      <th>Profit</th>\n",
              "      <th>State</th>\n",
              "      <th>profit_margin</th>\n",
              "      <th>Cluster</th>\n",
              "    </tr>\n",
              "  </thead>\n",
              "  <tbody>\n",
              "    <tr>\n",
              "      <th>0</th>\n",
              "      <td>Harish</td>\n",
              "      <td>Oil &amp; Masala</td>\n",
              "      <td>Masalas</td>\n",
              "      <td>Vellore</td>\n",
              "      <td>11-08-2017</td>\n",
              "      <td>North</td>\n",
              "      <td>1254</td>\n",
              "      <td>0.12</td>\n",
              "      <td>401.28</td>\n",
              "      <td>Tamil Nadu</td>\n",
              "      <td>0.32</td>\n",
              "      <td>Medium</td>\n",
              "    </tr>\n",
              "    <tr>\n",
              "      <th>1</th>\n",
              "      <td>Sudha</td>\n",
              "      <td>Beverages</td>\n",
              "      <td>Health Drinks</td>\n",
              "      <td>Krishnagiri</td>\n",
              "      <td>11-08-2017</td>\n",
              "      <td>South</td>\n",
              "      <td>749</td>\n",
              "      <td>0.18</td>\n",
              "      <td>149.80</td>\n",
              "      <td>Tamil Nadu</td>\n",
              "      <td>0.20</td>\n",
              "      <td>Medium</td>\n",
              "    </tr>\n",
              "    <tr>\n",
              "      <th>2</th>\n",
              "      <td>Hussain</td>\n",
              "      <td>Food Grains</td>\n",
              "      <td>Atta &amp; Flour</td>\n",
              "      <td>Perambalur</td>\n",
              "      <td>06-12-2017</td>\n",
              "      <td>West</td>\n",
              "      <td>2360</td>\n",
              "      <td>0.21</td>\n",
              "      <td>165.20</td>\n",
              "      <td>Tamil Nadu</td>\n",
              "      <td>0.07</td>\n",
              "      <td>Low</td>\n",
              "    </tr>\n",
              "    <tr>\n",
              "      <th>3</th>\n",
              "      <td>Jackson</td>\n",
              "      <td>Fruits &amp; Veggies</td>\n",
              "      <td>Fresh Vegetables</td>\n",
              "      <td>Dharmapuri</td>\n",
              "      <td>10-11-2016</td>\n",
              "      <td>South</td>\n",
              "      <td>896</td>\n",
              "      <td>0.25</td>\n",
              "      <td>89.60</td>\n",
              "      <td>Tamil Nadu</td>\n",
              "      <td>0.10</td>\n",
              "      <td>Low</td>\n",
              "    </tr>\n",
              "    <tr>\n",
              "      <th>4</th>\n",
              "      <td>Ridhesh</td>\n",
              "      <td>Food Grains</td>\n",
              "      <td>Organic Staples</td>\n",
              "      <td>Ooty</td>\n",
              "      <td>10-11-2016</td>\n",
              "      <td>South</td>\n",
              "      <td>2355</td>\n",
              "      <td>0.26</td>\n",
              "      <td>918.45</td>\n",
              "      <td>Tamil Nadu</td>\n",
              "      <td>0.39</td>\n",
              "      <td>High</td>\n",
              "    </tr>\n",
              "  </tbody>\n",
              "</table>\n",
              "</div>"
            ],
            "text/plain": [
              "  Customer Name          Category      Sub Category         City  Order Date  \\\n",
              "0        Harish      Oil & Masala           Masalas      Vellore  11-08-2017   \n",
              "1         Sudha         Beverages     Health Drinks  Krishnagiri  11-08-2017   \n",
              "2       Hussain       Food Grains      Atta & Flour   Perambalur  06-12-2017   \n",
              "3       Jackson  Fruits & Veggies  Fresh Vegetables   Dharmapuri  10-11-2016   \n",
              "4       Ridhesh       Food Grains   Organic Staples         Ooty  10-11-2016   \n",
              "\n",
              "  Region  Sales  Discount  Profit       State  profit_margin Cluster  \n",
              "0  North   1254      0.12  401.28  Tamil Nadu           0.32  Medium  \n",
              "1  South    749      0.18  149.80  Tamil Nadu           0.20  Medium  \n",
              "2   West   2360      0.21  165.20  Tamil Nadu           0.07     Low  \n",
              "3  South    896      0.25   89.60  Tamil Nadu           0.10     Low  \n",
              "4  South   2355      0.26  918.45  Tamil Nadu           0.39    High  "
            ]
          },
          "execution_count": 11,
          "metadata": {},
          "output_type": "execute_result"
        }
      ],
      "source": [
        "dataset.head()"
      ]
    },
    {
      "cell_type": "code",
      "execution_count": 12,
      "metadata": {},
      "outputs": [
        {
          "data": {
            "text/plain": [
              "<AxesSubplot:xlabel='Cluster', ylabel='Count'>"
            ]
          },
          "execution_count": 12,
          "metadata": {},
          "output_type": "execute_result"
        },
        {
          "data": {
            "image/png": "[encoded data removed]",
            "text/plain": [
              "<Figure size 640x480 with 1 Axes>"
            ]
          },
          "metadata": {},
          "output_type": "display_data"
        }
      ],
      "source": [
        "sns.histplot(dataset['Cluster'])"
      ]
    },
    {
      "cell_type": "code",
      "execution_count": 13,
      "metadata": {},
      "outputs": [],
      "source": [
        "encoder = LabelEncoder()\n",
        "scaler = StandardScaler()\n",
        "onehot = OneHotEncoder()\n",
        "minmaxscaler = MinMaxScaler()"
      ]
    },
    {
      "cell_type": "code",
      "execution_count": 14,
      "metadata": {},
      "outputs": [],
      "source": [
        "dataset[\"Order Date\"] = pd.to_datetime(dataset[\"Order Date\"])\n",
        "dataset[\"Order Date\"] = dataset[\"Order Date\"].dt.month\n",
        "\n",
        "# dataset[\"Customer Name\"] = onehot.fit_transform(dataset[\"Customer Name\"].values.reshape(-1, 1)).toarray()\n",
        "# dataset[\"Category\"] = onehot.fit_transform(dataset[\"Category\"].values.reshape(-1, 1)).toarray()\n",
        "# dataset[\"City\"] = onehot.fit_transform(dataset[\"City\"].values.reshape(-1, 1)).toarray()\n",
        "# dataset[\"Region\"] = onehot.fit_transform(dataset[\"Region\"].values.reshape(-1, 1)).toarray()\n",
        "# dataset[\"State\"] = onehot.fit_transform(dataset[\"State\"].values.reshape(-1, 1)).toarray()\n",
        "# dataset[\"Sub Category\"] = onehot.fit_transform(dataset[\"Sub Category\"].values.reshape(-1, 1)).toarray()\n",
        "\n",
        "dataset[\"Customer Name\"] = encoder.fit_transform(dataset[\"Customer Name\"])\n",
        "dataset[\"Category\"] = encoder.fit_transform(dataset[\"Category\"])\n",
        "dataset[\"City\"] = encoder.fit_transform(dataset[\"City\"])\n",
        "dataset[\"Region\"] = encoder.fit_transform(dataset[\"Region\"])\n",
        "dataset[\"State\"] = encoder.fit_transform(dataset[\"State\"])\n",
        "dataset[\"Sub Category\"] = encoder.fit_transform(dataset[\"Sub Category\"])\n",
        "\n",
        "dataset[\"Order Date\"] = encoder.fit_transform(dataset[\"Order Date\"])"
      ]
    },
    {
      "cell_type": "code",
      "execution_count": 15,
      "metadata": {},
      "outputs": [],
      "source": [
        "dataset[[\"Sales\", \"Discount\", \"profit_margin\",\"Profit\"]] = scaler.fit_transform(dataset[[\"Sales\", \"Discount\", \"profit_margin\",\"Profit\"]])"
      ]
    },
    {
      "cell_type": "code",
      "execution_count": 16,
      "metadata": {},
      "outputs": [],
      "source": [
        "class_to_numeric = {'Low': 0, 'Medium': 1, 'High': 2}\n",
        "dataset['Cluster'] = [class_to_numeric[label] for label in dataset['Cluster']]"
      ]
    },
    {
      "cell_type": "code",
      "execution_count": 17,
      "metadata": {},
      "outputs": [
        {
          "data": {
            "text/html": [
              "<div>\n",
              "<style scoped>\n",
              "    .dataframe tbody tr th:only-of-type {\n",
              "        vertical-align: middle;\n",
              "    }\n",
              "\n",
              "    .dataframe tbody tr th {\n",
              "        vertical-align: top;\n",
              "    }\n",
              "\n",
              "    .dataframe thead th {\n",
              "        text-align: right;\n",
              "    }\n",
              "</style>\n",
              "<table border=\"1\" class=\"dataframe\">\n",
              "  <thead>\n",
              "    <tr style=\"text-align: right;\">\n",
              "      <th></th>\n",
              "      <th>Customer Name</th>\n",
              "      <th>Category</th>\n",
              "      <th>Sub Category</th>\n",
              "      <th>City</th>\n",
              "      <th>Order Date</th>\n",
              "      <th>Region</th>\n",
              "      <th>Sales</th>\n",
              "      <th>Discount</th>\n",
              "      <th>Profit</th>\n",
              "      <th>State</th>\n",
              "      <th>profit_margin</th>\n",
              "      <th>Cluster</th>\n",
              "    </tr>\n",
              "  </thead>\n",
              "  <tbody>\n",
              "    <tr>\n",
              "      <th>0</th>\n",
              "      <td>12</td>\n",
              "      <td>5</td>\n",
              "      <td>14</td>\n",
              "      <td>21</td>\n",
              "      <td>10</td>\n",
              "      <td>2</td>\n",
              "      <td>-0.414559</td>\n",
              "      <td>-1.430908</td>\n",
              "      <td>0.124389</td>\n",
              "      <td>0</td>\n",
              "      <td>0.595874</td>\n",
              "      <td>1</td>\n",
              "    </tr>\n",
              "    <tr>\n",
              "      <th>1</th>\n",
              "      <td>37</td>\n",
              "      <td>1</td>\n",
              "      <td>13</td>\n",
              "      <td>8</td>\n",
              "      <td>10</td>\n",
              "      <td>3</td>\n",
              "      <td>-1.291968</td>\n",
              "      <td>-0.627370</td>\n",
              "      <td>-0.941183</td>\n",
              "      <td>0</td>\n",
              "      <td>-0.416872</td>\n",
              "      <td>1</td>\n",
              "    </tr>\n",
              "    <tr>\n",
              "      <th>2</th>\n",
              "      <td>14</td>\n",
              "      <td>3</td>\n",
              "      <td>0</td>\n",
              "      <td>13</td>\n",
              "      <td>5</td>\n",
              "      <td>4</td>\n",
              "      <td>1.507054</td>\n",
              "      <td>-0.225601</td>\n",
              "      <td>-0.875930</td>\n",
              "      <td>0</td>\n",
              "      <td>-1.514014</td>\n",
              "      <td>0</td>\n",
              "    </tr>\n",
              "    <tr>\n",
              "      <th>3</th>\n",
              "      <td>15</td>\n",
              "      <td>4</td>\n",
              "      <td>12</td>\n",
              "      <td>4</td>\n",
              "      <td>9</td>\n",
              "      <td>3</td>\n",
              "      <td>-1.036563</td>\n",
              "      <td>0.310092</td>\n",
              "      <td>-1.196262</td>\n",
              "      <td>0</td>\n",
              "      <td>-1.260827</td>\n",
              "      <td>0</td>\n",
              "    </tr>\n",
              "    <tr>\n",
              "      <th>4</th>\n",
              "      <td>28</td>\n",
              "      <td>3</td>\n",
              "      <td>18</td>\n",
              "      <td>12</td>\n",
              "      <td>9</td>\n",
              "      <td>3</td>\n",
              "      <td>1.498367</td>\n",
              "      <td>0.444015</td>\n",
              "      <td>2.315743</td>\n",
              "      <td>0</td>\n",
              "      <td>1.186643</td>\n",
              "      <td>2</td>\n",
              "    </tr>\n",
              "  </tbody>\n",
              "</table>\n",
              "</div>"
            ],
            "text/plain": [
              "   Customer Name  Category  Sub Category  City  Order Date  Region     Sales  \\\n",
              "0             12         5            14    21          10       2 -0.414559   \n",
              "1             37         1            13     8          10       3 -1.291968   \n",
              "2             14         3             0    13           5       4  1.507054   \n",
              "3             15         4            12     4           9       3 -1.036563   \n",
              "4             28         3            18    12           9       3  1.498367   \n",
              "\n",
              "   Discount    Profit  State  profit_margin  Cluster  \n",
              "0 -1.430908  0.124389      0       0.595874        1  \n",
              "1 -0.627370 -0.941183      0      -0.416872        1  \n",
              "2 -0.225601 -0.875930      0      -1.514014        0  \n",
              "3  0.310092 -1.196262      0      -1.260827        0  \n",
              "4  0.444015  2.315743      0       1.186643        2  "
            ]
          },
          "execution_count": 17,
          "metadata": {},
          "output_type": "execute_result"
        }
      ],
      "source": [
        "dataset.head()"
      ]
    },
    {
      "cell_type": "markdown",
      "metadata": {
        "id": "iVVBNffUZBKf"
      },
      "source": [
        "# **Split Data**"
      ]
    },
    {
      "cell_type": "code",
      "execution_count": 18,
      "metadata": {
        "id": "4qJbO_FaZBKh"
      },
      "outputs": [],
      "source": [
        "X = dataset.drop(['Cluster','Sub Category','State','profit_margin'],axis=1)\n",
        "y = dataset['Cluster']"
      ]
    },
    {
      "cell_type": "code",
      "execution_count": 19,
      "metadata": {
        "colab": {
          "base_uri": "https://localhost:8080/",
          "height": 206
        },
        "id": "8iy2g1HGZBKi",
        "outputId": "b6c33087-aeef-45cb-d8d8-42a810efd28a"
      },
      "outputs": [
        {
          "data": {
            "text/html": [
              "<div>\n",
              "<style scoped>\n",
              "    .dataframe tbody tr th:only-of-type {\n",
              "        vertical-align: middle;\n",
              "    }\n",
              "\n",
              "    .dataframe tbody tr th {\n",
              "        vertical-align: top;\n",
              "    }\n",
              "\n",
              "    .dataframe thead th {\n",
              "        text-align: right;\n",
              "    }\n",
              "</style>\n",
              "<table border=\"1\" class=\"dataframe\">\n",
              "  <thead>\n",
              "    <tr style=\"text-align: right;\">\n",
              "      <th></th>\n",
              "      <th>Customer Name</th>\n",
              "      <th>Category</th>\n",
              "      <th>City</th>\n",
              "      <th>Order Date</th>\n",
              "      <th>Region</th>\n",
              "      <th>Sales</th>\n",
              "      <th>Discount</th>\n",
              "      <th>Profit</th>\n",
              "    </tr>\n",
              "  </thead>\n",
              "  <tbody>\n",
              "    <tr>\n",
              "      <th>0</th>\n",
              "      <td>12</td>\n",
              "      <td>5</td>\n",
              "      <td>21</td>\n",
              "      <td>10</td>\n",
              "      <td>2</td>\n",
              "      <td>-0.414559</td>\n",
              "      <td>-1.430908</td>\n",
              "      <td>0.124389</td>\n",
              "    </tr>\n",
              "    <tr>\n",
              "      <th>1</th>\n",
              "      <td>37</td>\n",
              "      <td>1</td>\n",
              "      <td>8</td>\n",
              "      <td>10</td>\n",
              "      <td>3</td>\n",
              "      <td>-1.291968</td>\n",
              "      <td>-0.627370</td>\n",
              "      <td>-0.941183</td>\n",
              "    </tr>\n",
              "    <tr>\n",
              "      <th>2</th>\n",
              "      <td>14</td>\n",
              "      <td>3</td>\n",
              "      <td>13</td>\n",
              "      <td>5</td>\n",
              "      <td>4</td>\n",
              "      <td>1.507054</td>\n",
              "      <td>-0.225601</td>\n",
              "      <td>-0.875930</td>\n",
              "    </tr>\n",
              "    <tr>\n",
              "      <th>3</th>\n",
              "      <td>15</td>\n",
              "      <td>4</td>\n",
              "      <td>4</td>\n",
              "      <td>9</td>\n",
              "      <td>3</td>\n",
              "      <td>-1.036563</td>\n",
              "      <td>0.310092</td>\n",
              "      <td>-1.196262</td>\n",
              "    </tr>\n",
              "    <tr>\n",
              "      <th>4</th>\n",
              "      <td>28</td>\n",
              "      <td>3</td>\n",
              "      <td>12</td>\n",
              "      <td>9</td>\n",
              "      <td>3</td>\n",
              "      <td>1.498367</td>\n",
              "      <td>0.444015</td>\n",
              "      <td>2.315743</td>\n",
              "    </tr>\n",
              "  </tbody>\n",
              "</table>\n",
              "</div>"
            ],
            "text/plain": [
              "   Customer Name  Category  City  Order Date  Region     Sales  Discount  \\\n",
              "0             12         5    21          10       2 -0.414559 -1.430908   \n",
              "1             37         1     8          10       3 -1.291968 -0.627370   \n",
              "2             14         3    13           5       4  1.507054 -0.225601   \n",
              "3             15         4     4           9       3 -1.036563  0.310092   \n",
              "4             28         3    12           9       3  1.498367  0.444015   \n",
              "\n",
              "     Profit  \n",
              "0  0.124389  \n",
              "1 -0.941183  \n",
              "2 -0.875930  \n",
              "3 -1.196262  \n",
              "4  2.315743  "
            ]
          },
          "execution_count": 19,
          "metadata": {},
          "output_type": "execute_result"
        }
      ],
      "source": [
        "X.head()"
      ]
    },
    {
      "cell_type": "code",
      "execution_count": 20,
      "metadata": {
        "id": "7tyhjwY2ZBKj"
      },
      "outputs": [],
      "source": [
        "X_train, X_temp, y_train, y_temp = train_test_split(X, y, test_size=0.2, random_state=42)\n",
        "X_val, X_test, y_val, y_test = train_test_split(X_temp, y_temp, test_size=0.5, random_state=42)"
      ]
    },
    {
      "cell_type": "code",
      "execution_count": 21,
      "metadata": {},
      "outputs": [
        {
          "data": {
            "text/plain": [
              "<AxesSubplot:>"
            ]
          },
          "execution_count": 21,
          "metadata": {},
          "output_type": "execute_result"
        },
        {
          "data": {
            "image/png": "[encoded data removed]",
            "text/plain": [
              "<Figure size 640x480 with 2 Axes>"
            ]
          },
          "metadata": {},
          "output_type": "display_data"
        }
      ],
      "source": [
        "heatcol = X.corr()\n",
        "sns.heatmap(heatcol,cmap=\"BrBG\",annot=True)"
      ]
    },
    {
      "cell_type": "code",
      "execution_count": 22,
      "metadata": {
        "colab": {
          "base_uri": "https://localhost:8080/"
        },
        "id": "ERs6RMJLeqBK",
        "outputId": "bd44d89b-8d3c-485b-d780-317f954e57fa"
      },
      "outputs": [
        {
          "name": "stdout",
          "output_type": "stream",
          "text": [
            "Dimension of Train set (7960, 8)\n",
            "Dimension of Val set (995, 8)\n",
            "Dimension of Test set (996, 8) \n",
            "\n",
            "Number of numeric features: 8\n"
          ]
        }
      ],
      "source": [
        "print(\"Dimension of Train set\",X_train.shape)\n",
        "print(\"Dimension of Val set\",X_val.shape)\n",
        "print(\"Dimension of Test set\",X_test.shape,\"\\n\")\n",
        "\n",
        "num_cols = X_train._get_numeric_data().columns\n",
        "print(\"Number of numeric features:\",num_cols.size)"
      ]
    },
    {
      "cell_type": "markdown",
      "metadata": {
        "id": "-v-NPFufZBKj"
      },
      "source": [
        "# **RNN**"
      ]
    },
    {
      "cell_type": "code",
      "execution_count": 23,
      "metadata": {},
      "outputs": [],
      "source": [
        "from tensorflow.keras.models import Sequential\n",
        "from tensorflow.keras.layers import Dense,SimpleRNN,Dropout\n",
        "from tensorflow.keras.utils import to_categorical, plot_model\n",
        "from scikeras.wrappers import KerasClassifier, KerasRegressor\n",
        "from sklearn.model_selection import GridSearchCV"
      ]
    },
    {
      "cell_type": "code",
      "execution_count": 24,
      "metadata": {},
      "outputs": [],
      "source": [
        "y_train = to_categorical(y_train, num_classes=3)\n",
        "y_val = to_categorical(y_val, num_classes=3)"
      ]
    },
    {
      "cell_type": "code",
      "execution_count": 25,
      "metadata": {},
      "outputs": [],
      "source": [
        "def create_model(units=64,optimizer='adam',loss='categorical_crossentropy'):\n",
        "    model = Sequential()\n",
        "    model.add(SimpleRNN(units, return_sequences=False, input_shape=(X_train.shape[1], 1)))\n",
        "    model.add(Dense(units, activation='relu'))\n",
        "    model.add(Dense(units=3, activation='sigmoid'))\n",
        "    model.compile(loss=loss, optimizer=optimizer, metrics=['categorical_accuracy'])\n",
        "    \n",
        "    return model"
      ]
    },
    {
      "cell_type": "code",
      "execution_count": 26,
      "metadata": {},
      "outputs": [],
      "source": [
        "# model = KerasClassifier(build_fn=create_model, epochs=100, batch_size=32, verbose=0, validation_data=(X_val, y_val))\n",
        "# model = KerasClassifier(build_fn=create_model, units=32, epochs=100, batch_size=32, verbose=0)\n",
        "model = KerasClassifier(build_fn=create_model, units=32, epochs=100, batch_size=32, verbose=0)\n",
        "\n",
        "\n",
        "param_grid = {\n",
        "    'optimizer': ['adam', 'sgd', 'rmsprop'],\n",
        "    'units': [32, 64, 128],\n",
        "    'loss' : ['categorical_crossentropy','binary_crossentropy','hinge','kullback_leibler_divergence']\n",
        "}"
      ]
    },
    {
      "cell_type": "code",
      "execution_count": 27,
      "metadata": {},
      "outputs": [
        {
          "name": "stderr",
          "output_type": "stream",
          "text": [
            "c:\\Users\\Asus\\anaconda3\\lib\\site-packages\\scikeras\\wrappers.py:915: UserWarning: ``build_fn`` will be renamed to ``model`` in a future release, at which point use of ``build_fn`` will raise an Error instead.\n",
            "  X, y = self._initialize(X, y)\n"
          ]
        },
        {
          "name": "stderr",
          "output_type": "stream",
          "text": [
            "c:\\Users\\Asus\\anaconda3\\lib\\site-packages\\scikeras\\wrappers.py:915: UserWarning: ``build_fn`` will be renamed to ``model`` in a future release, at which point use of ``build_fn`` will raise an Error instead.\n",
            "  X, y = self._initialize(X, y)\n",
            "c:\\Users\\Asus\\anaconda3\\lib\\site-packages\\scikeras\\wrappers.py:915: UserWarning: ``build_fn`` will be renamed to ``model`` in a future release, at which point use of ``build_fn`` will raise an Error instead.\n",
            "  X, y = self._initialize(X, y)\n",
            "c:\\Users\\Asus\\anaconda3\\lib\\site-packages\\scikeras\\wrappers.py:915: UserWarning: ``build_fn`` will be renamed to ``model`` in a future release, at which point use of ``build_fn`` will raise an Error instead.\n",
            "  X, y = self._initialize(X, y)\n",
            "c:\\Users\\Asus\\anaconda3\\lib\\site-packages\\scikeras\\wrappers.py:915: UserWarning: ``build_fn`` will be renamed to ``model`` in a future release, at which point use of ``build_fn`` will raise an Error instead.\n",
            "  X, y = self._initialize(X, y)\n",
            "c:\\Users\\Asus\\anaconda3\\lib\\site-packages\\scikeras\\wrappers.py:915: UserWarning: ``build_fn`` will be renamed to ``model`` in a future release, at which point use of ``build_fn`` will raise an Error instead.\n",
            "  X, y = self._initialize(X, y)\n",
            "c:\\Users\\Asus\\anaconda3\\lib\\site-packages\\scikeras\\wrappers.py:915: UserWarning: ``build_fn`` will be renamed to ``model`` in a future release, at which point use of ``build_fn`` will raise an Error instead.\n",
            "  X, y = self._initialize(X, y)\n",
            "c:\\Users\\Asus\\anaconda3\\lib\\site-packages\\scikeras\\wrappers.py:915: UserWarning: ``build_fn`` will be renamed to ``model`` in a future release, at which point use of ``build_fn`` will raise an Error instead.\n",
            "  X, y = self._initialize(X, y)\n",
            "c:\\Users\\Asus\\anaconda3\\lib\\site-packages\\scikeras\\wrappers.py:915: UserWarning: ``build_fn`` will be renamed to ``model`` in a future release, at which point use of ``build_fn`` will raise an Error instead.\n",
            "  X, y = self._initialize(X, y)\n",
            "c:\\Users\\Asus\\anaconda3\\lib\\site-packages\\scikeras\\wrappers.py:915: UserWarning: ``build_fn`` will be renamed to ``model`` in a future release, at which point use of ``build_fn`` will raise an Error instead.\n",
            "  X, y = self._initialize(X, y)\n",
            "c:\\Users\\Asus\\anaconda3\\lib\\site-packages\\scikeras\\wrappers.py:915: UserWarning: ``build_fn`` will be renamed to ``model`` in a future release, at which point use of ``build_fn`` will raise an Error instead.\n",
            "  X, y = self._initialize(X, y)\n",
            "c:\\Users\\Asus\\anaconda3\\lib\\site-packages\\scikeras\\wrappers.py:915: UserWarning: ``build_fn`` will be renamed to ``model`` in a future release, at which point use of ``build_fn`` will raise an Error instead.\n",
            "  X, y = self._initialize(X, y)\n",
            "c:\\Users\\Asus\\anaconda3\\lib\\site-packages\\scikeras\\wrappers.py:915: UserWarning: ``build_fn`` will be renamed to ``model`` in a future release, at which point use of ``build_fn`` will raise an Error instead.\n",
            "  X, y = self._initialize(X, y)\n",
            "c:\\Users\\Asus\\anaconda3\\lib\\site-packages\\scikeras\\wrappers.py:915: UserWarning: ``build_fn`` will be renamed to ``model`` in a future release, at which point use of ``build_fn`` will raise an Error instead.\n",
            "  X, y = self._initialize(X, y)\n",
            "c:\\Users\\Asus\\anaconda3\\lib\\site-packages\\scikeras\\wrappers.py:915: UserWarning: ``build_fn`` will be renamed to ``model`` in a future release, at which point use of ``build_fn`` will raise an Error instead.\n",
            "  X, y = self._initialize(X, y)\n",
            "c:\\Users\\Asus\\anaconda3\\lib\\site-packages\\scikeras\\wrappers.py:915: UserWarning: ``build_fn`` will be renamed to ``model`` in a future release, at which point use of ``build_fn`` will raise an Error instead.\n",
            "  X, y = self._initialize(X, y)\n",
            "c:\\Users\\Asus\\anaconda3\\lib\\site-packages\\scikeras\\wrappers.py:915: UserWarning: ``build_fn`` will be renamed to ``model`` in a future release, at which point use of ``build_fn`` will raise an Error instead.\n",
            "  X, y = self._initialize(X, y)\n",
            "c:\\Users\\Asus\\anaconda3\\lib\\site-packages\\scikeras\\wrappers.py:915: UserWarning: ``build_fn`` will be renamed to ``model`` in a future release, at which point use of ``build_fn`` will raise an Error instead.\n",
            "  X, y = self._initialize(X, y)\n",
            "c:\\Users\\Asus\\anaconda3\\lib\\site-packages\\scikeras\\wrappers.py:915: UserWarning: ``build_fn`` will be renamed to ``model`` in a future release, at which point use of ``build_fn`` will raise an Error instead.\n",
            "  X, y = self._initialize(X, y)\n",
            "c:\\Users\\Asus\\anaconda3\\lib\\site-packages\\scikeras\\wrappers.py:915: UserWarning: ``build_fn`` will be renamed to ``model`` in a future release, at which point use of ``build_fn`` will raise an Error instead.\n",
            "  X, y = self._initialize(X, y)\n",
            "c:\\Users\\Asus\\anaconda3\\lib\\site-packages\\scikeras\\wrappers.py:915: UserWarning: ``build_fn`` will be renamed to ``model`` in a future release, at which point use of ``build_fn`` will raise an Error instead.\n",
            "  X, y = self._initialize(X, y)\n",
            "c:\\Users\\Asus\\anaconda3\\lib\\site-packages\\scikeras\\wrappers.py:915: UserWarning: ``build_fn`` will be renamed to ``model`` in a future release, at which point use of ``build_fn`` will raise an Error instead.\n",
            "  X, y = self._initialize(X, y)\n",
            "c:\\Users\\Asus\\anaconda3\\lib\\site-packages\\scikeras\\wrappers.py:915: UserWarning: ``build_fn`` will be renamed to ``model`` in a future release, at which point use of ``build_fn`` will raise an Error instead.\n",
            "  X, y = self._initialize(X, y)\n",
            "c:\\Users\\Asus\\anaconda3\\lib\\site-packages\\scikeras\\wrappers.py:915: UserWarning: ``build_fn`` will be renamed to ``model`` in a future release, at which point use of ``build_fn`` will raise an Error instead.\n",
            "  X, y = self._initialize(X, y)\n",
            "c:\\Users\\Asus\\anaconda3\\lib\\site-packages\\scikeras\\wrappers.py:915: UserWarning: ``build_fn`` will be renamed to ``model`` in a future release, at which point use of ``build_fn`` will raise an Error instead.\n",
            "  X, y = self._initialize(X, y)\n",
            "c:\\Users\\Asus\\anaconda3\\lib\\site-packages\\scikeras\\wrappers.py:915: UserWarning: ``build_fn`` will be renamed to ``model`` in a future release, at which point use of ``build_fn`` will raise an Error instead.\n",
            "  X, y = self._initialize(X, y)\n",
            "c:\\Users\\Asus\\anaconda3\\lib\\site-packages\\scikeras\\wrappers.py:915: UserWarning: ``build_fn`` will be renamed to ``model`` in a future release, at which point use of ``build_fn`` will raise an Error instead.\n",
            "  X, y = self._initialize(X, y)\n",
            "c:\\Users\\Asus\\anaconda3\\lib\\site-packages\\scikeras\\wrappers.py:915: UserWarning: ``build_fn`` will be renamed to ``model`` in a future release, at which point use of ``build_fn`` will raise an Error instead.\n",
            "  X, y = self._initialize(X, y)\n",
            "c:\\Users\\Asus\\anaconda3\\lib\\site-packages\\scikeras\\wrappers.py:915: UserWarning: ``build_fn`` will be renamed to ``model`` in a future release, at which point use of ``build_fn`` will raise an Error instead.\n",
            "  X, y = self._initialize(X, y)\n",
            "c:\\Users\\Asus\\anaconda3\\lib\\site-packages\\scikeras\\wrappers.py:915: UserWarning: ``build_fn`` will be renamed to ``model`` in a future release, at which point use of ``build_fn`` will raise an Error instead.\n",
            "  X, y = self._initialize(X, y)\n",
            "c:\\Users\\Asus\\anaconda3\\lib\\site-packages\\scikeras\\wrappers.py:915: UserWarning: ``build_fn`` will be renamed to ``model`` in a future release, at which point use of ``build_fn`` will raise an Error instead.\n",
            "  X, y = self._initialize(X, y)\n",
            "c:\\Users\\Asus\\anaconda3\\lib\\site-packages\\scikeras\\wrappers.py:915: UserWarning: ``build_fn`` will be renamed to ``model`` in a future release, at which point use of ``build_fn`` will raise an Error instead.\n",
            "  X, y = self._initialize(X, y)\n",
            "c:\\Users\\Asus\\anaconda3\\lib\\site-packages\\scikeras\\wrappers.py:915: UserWarning: ``build_fn`` will be renamed to ``model`` in a future release, at which point use of ``build_fn`` will raise an Error instead.\n",
            "  X, y = self._initialize(X, y)\n",
            "c:\\Users\\Asus\\anaconda3\\lib\\site-packages\\scikeras\\wrappers.py:915: UserWarning: ``build_fn`` will be renamed to ``model`` in a future release, at which point use of ``build_fn`` will raise an Error instead.\n",
            "  X, y = self._initialize(X, y)\n",
            "c:\\Users\\Asus\\anaconda3\\lib\\site-packages\\scikeras\\wrappers.py:915: UserWarning: ``build_fn`` will be renamed to ``model`` in a future release, at which point use of ``build_fn`` will raise an Error instead.\n",
            "  X, y = self._initialize(X, y)\n",
            "c:\\Users\\Asus\\anaconda3\\lib\\site-packages\\scikeras\\wrappers.py:915: UserWarning: ``build_fn`` will be renamed to ``model`` in a future release, at which point use of ``build_fn`` will raise an Error instead.\n",
            "  X, y = self._initialize(X, y)\n",
            "c:\\Users\\Asus\\anaconda3\\lib\\site-packages\\scikeras\\wrappers.py:915: UserWarning: ``build_fn`` will be renamed to ``model`` in a future release, at which point use of ``build_fn`` will raise an Error instead.\n",
            "  X, y = self._initialize(X, y)\n",
            "c:\\Users\\Asus\\anaconda3\\lib\\site-packages\\scikeras\\wrappers.py:915: UserWarning: ``build_fn`` will be renamed to ``model`` in a future release, at which point use of ``build_fn`` will raise an Error instead.\n",
            "  X, y = self._initialize(X, y)\n",
            "c:\\Users\\Asus\\anaconda3\\lib\\site-packages\\scikeras\\wrappers.py:915: UserWarning: ``build_fn`` will be renamed to ``model`` in a future release, at which point use of ``build_fn`` will raise an Error instead.\n",
            "  X, y = self._initialize(X, y)\n",
            "c:\\Users\\Asus\\anaconda3\\lib\\site-packages\\scikeras\\wrappers.py:915: UserWarning: ``build_fn`` will be renamed to ``model`` in a future release, at which point use of ``build_fn`` will raise an Error instead.\n",
            "  X, y = self._initialize(X, y)\n",
            "c:\\Users\\Asus\\anaconda3\\lib\\site-packages\\scikeras\\wrappers.py:915: UserWarning: ``build_fn`` will be renamed to ``model`` in a future release, at which point use of ``build_fn`` will raise an Error instead.\n",
            "  X, y = self._initialize(X, y)\n",
            "c:\\Users\\Asus\\anaconda3\\lib\\site-packages\\scikeras\\wrappers.py:915: UserWarning: ``build_fn`` will be renamed to ``model`` in a future release, at which point use of ``build_fn`` will raise an Error instead.\n",
            "  X, y = self._initialize(X, y)\n",
            "c:\\Users\\Asus\\anaconda3\\lib\\site-packages\\scikeras\\wrappers.py:915: UserWarning: ``build_fn`` will be renamed to ``model`` in a future release, at which point use of ``build_fn`` will raise an Error instead.\n",
            "  X, y = self._initialize(X, y)\n",
            "c:\\Users\\Asus\\anaconda3\\lib\\site-packages\\scikeras\\wrappers.py:915: UserWarning: ``build_fn`` will be renamed to ``model`` in a future release, at which point use of ``build_fn`` will raise an Error instead.\n",
            "  X, y = self._initialize(X, y)\n",
            "c:\\Users\\Asus\\anaconda3\\lib\\site-packages\\scikeras\\wrappers.py:915: UserWarning: ``build_fn`` will be renamed to ``model`` in a future release, at which point use of ``build_fn`` will raise an Error instead.\n",
            "  X, y = self._initialize(X, y)\n",
            "c:\\Users\\Asus\\anaconda3\\lib\\site-packages\\scikeras\\wrappers.py:915: UserWarning: ``build_fn`` will be renamed to ``model`` in a future release, at which point use of ``build_fn`` will raise an Error instead.\n",
            "  X, y = self._initialize(X, y)\n",
            "c:\\Users\\Asus\\anaconda3\\lib\\site-packages\\scikeras\\wrappers.py:915: UserWarning: ``build_fn`` will be renamed to ``model`` in a future release, at which point use of ``build_fn`` will raise an Error instead.\n",
            "  X, y = self._initialize(X, y)\n",
            "c:\\Users\\Asus\\anaconda3\\lib\\site-packages\\scikeras\\wrappers.py:915: UserWarning: ``build_fn`` will be renamed to ``model`` in a future release, at which point use of ``build_fn`` will raise an Error instead.\n",
            "  X, y = self._initialize(X, y)\n",
            "c:\\Users\\Asus\\anaconda3\\lib\\site-packages\\scikeras\\wrappers.py:915: UserWarning: ``build_fn`` will be renamed to ``model`` in a future release, at which point use of ``build_fn`` will raise an Error instead.\n",
            "  X, y = self._initialize(X, y)\n",
            "c:\\Users\\Asus\\anaconda3\\lib\\site-packages\\scikeras\\wrappers.py:915: UserWarning: ``build_fn`` will be renamed to ``model`` in a future release, at which point use of ``build_fn`` will raise an Error instead.\n",
            "  X, y = self._initialize(X, y)\n",
            "c:\\Users\\Asus\\anaconda3\\lib\\site-packages\\scikeras\\wrappers.py:915: UserWarning: ``build_fn`` will be renamed to ``model`` in a future release, at which point use of ``build_fn`` will raise an Error instead.\n",
            "  X, y = self._initialize(X, y)\n",
            "c:\\Users\\Asus\\anaconda3\\lib\\site-packages\\scikeras\\wrappers.py:915: UserWarning: ``build_fn`` will be renamed to ``model`` in a future release, at which point use of ``build_fn`` will raise an Error instead.\n",
            "  X, y = self._initialize(X, y)\n",
            "c:\\Users\\Asus\\anaconda3\\lib\\site-packages\\scikeras\\wrappers.py:915: UserWarning: ``build_fn`` will be renamed to ``model`` in a future release, at which point use of ``build_fn`` will raise an Error instead.\n",
            "  X, y = self._initialize(X, y)\n",
            "c:\\Users\\Asus\\anaconda3\\lib\\site-packages\\scikeras\\wrappers.py:915: UserWarning: ``build_fn`` will be renamed to ``model`` in a future release, at which point use of ``build_fn`` will raise an Error instead.\n",
            "  X, y = self._initialize(X, y)\n",
            "c:\\Users\\Asus\\anaconda3\\lib\\site-packages\\scikeras\\wrappers.py:915: UserWarning: ``build_fn`` will be renamed to ``model`` in a future release, at which point use of ``build_fn`` will raise an Error instead.\n",
            "  X, y = self._initialize(X, y)\n",
            "c:\\Users\\Asus\\anaconda3\\lib\\site-packages\\scikeras\\wrappers.py:915: UserWarning: ``build_fn`` will be renamed to ``model`` in a future release, at which point use of ``build_fn`` will raise an Error instead.\n",
            "  X, y = self._initialize(X, y)\n",
            "c:\\Users\\Asus\\anaconda3\\lib\\site-packages\\scikeras\\wrappers.py:915: UserWarning: ``build_fn`` will be renamed to ``model`` in a future release, at which point use of ``build_fn`` will raise an Error instead.\n",
            "  X, y = self._initialize(X, y)\n",
            "c:\\Users\\Asus\\anaconda3\\lib\\site-packages\\scikeras\\wrappers.py:915: UserWarning: ``build_fn`` will be renamed to ``model`` in a future release, at which point use of ``build_fn`` will raise an Error instead.\n",
            "  X, y = self._initialize(X, y)\n",
            "c:\\Users\\Asus\\anaconda3\\lib\\site-packages\\scikeras\\wrappers.py:915: UserWarning: ``build_fn`` will be renamed to ``model`` in a future release, at which point use of ``build_fn`` will raise an Error instead.\n",
            "  X, y = self._initialize(X, y)\n",
            "c:\\Users\\Asus\\anaconda3\\lib\\site-packages\\scikeras\\wrappers.py:915: UserWarning: ``build_fn`` will be renamed to ``model`` in a future release, at which point use of ``build_fn`` will raise an Error instead.\n",
            "  X, y = self._initialize(X, y)\n",
            "c:\\Users\\Asus\\anaconda3\\lib\\site-packages\\scikeras\\wrappers.py:915: UserWarning: ``build_fn`` will be renamed to ``model`` in a future release, at which point use of ``build_fn`` will raise an Error instead.\n",
            "  X, y = self._initialize(X, y)\n",
            "c:\\Users\\Asus\\anaconda3\\lib\\site-packages\\scikeras\\wrappers.py:915: UserWarning: ``build_fn`` will be renamed to ``model`` in a future release, at which point use of ``build_fn`` will raise an Error instead.\n",
            "  X, y = self._initialize(X, y)\n",
            "c:\\Users\\Asus\\anaconda3\\lib\\site-packages\\scikeras\\wrappers.py:915: UserWarning: ``build_fn`` will be renamed to ``model`` in a future release, at which point use of ``build_fn`` will raise an Error instead.\n",
            "  X, y = self._initialize(X, y)\n",
            "c:\\Users\\Asus\\anaconda3\\lib\\site-packages\\scikeras\\wrappers.py:915: UserWarning: ``build_fn`` will be renamed to ``model`` in a future release, at which point use of ``build_fn`` will raise an Error instead.\n",
            "  X, y = self._initialize(X, y)\n",
            "c:\\Users\\Asus\\anaconda3\\lib\\site-packages\\scikeras\\wrappers.py:915: UserWarning: ``build_fn`` will be renamed to ``model`` in a future release, at which point use of ``build_fn`` will raise an Error instead.\n",
            "  X, y = self._initialize(X, y)\n",
            "c:\\Users\\Asus\\anaconda3\\lib\\site-packages\\scikeras\\wrappers.py:915: UserWarning: ``build_fn`` will be renamed to ``model`` in a future release, at which point use of ``build_fn`` will raise an Error instead.\n",
            "  X, y = self._initialize(X, y)\n",
            "c:\\Users\\Asus\\anaconda3\\lib\\site-packages\\scikeras\\wrappers.py:915: UserWarning: ``build_fn`` will be renamed to ``model`` in a future release, at which point use of ``build_fn`` will raise an Error instead.\n",
            "  X, y = self._initialize(X, y)\n",
            "c:\\Users\\Asus\\anaconda3\\lib\\site-packages\\scikeras\\wrappers.py:915: UserWarning: ``build_fn`` will be renamed to ``model`` in a future release, at which point use of ``build_fn`` will raise an Error instead.\n",
            "  X, y = self._initialize(X, y)\n",
            "c:\\Users\\Asus\\anaconda3\\lib\\site-packages\\scikeras\\wrappers.py:915: UserWarning: ``build_fn`` will be renamed to ``model`` in a future release, at which point use of ``build_fn`` will raise an Error instead.\n",
            "  X, y = self._initialize(X, y)\n",
            "c:\\Users\\Asus\\anaconda3\\lib\\site-packages\\scikeras\\wrappers.py:915: UserWarning: ``build_fn`` will be renamed to ``model`` in a future release, at which point use of ``build_fn`` will raise an Error instead.\n",
            "  X, y = self._initialize(X, y)\n",
            "c:\\Users\\Asus\\anaconda3\\lib\\site-packages\\scikeras\\wrappers.py:915: UserWarning: ``build_fn`` will be renamed to ``model`` in a future release, at which point use of ``build_fn`` will raise an Error instead.\n",
            "  X, y = self._initialize(X, y)\n",
            "c:\\Users\\Asus\\anaconda3\\lib\\site-packages\\scikeras\\wrappers.py:915: UserWarning: ``build_fn`` will be renamed to ``model`` in a future release, at which point use of ``build_fn`` will raise an Error instead.\n",
            "  X, y = self._initialize(X, y)\n",
            "c:\\Users\\Asus\\anaconda3\\lib\\site-packages\\sklearn\\model_selection\\_validation.py:425: FitFailedWarning: \n",
            "54 fits failed out of a total of 72.\n",
            "The score on these train-test partitions for these parameters will be set to nan.\n",
            "If these failures are not expected, you can try to debug them by setting error_score='raise'.\n",
            "\n",
            "Below are more details about the failures:\n",
            "--------------------------------------------------------------------------------\n",
            "18 fits failed with the following error:\n",
            "Traceback (most recent call last):\n",
            "  File \"c:\\Users\\Asus\\anaconda3\\lib\\site-packages\\sklearn\\model_selection\\_validation.py\", line 729, in _fit_and_score\n",
            "    estimator.fit(X_train, y_train, **fit_params)\n",
            "  File \"c:\\Users\\Asus\\anaconda3\\lib\\site-packages\\scikeras\\wrappers.py\", line 1491, in fit\n",
            "    super().fit(X=X, y=y, sample_weight=sample_weight, **kwargs)\n",
            "  File \"c:\\Users\\Asus\\anaconda3\\lib\\site-packages\\scikeras\\wrappers.py\", line 760, in fit\n",
            "    self._fit(\n",
            "  File \"c:\\Users\\Asus\\anaconda3\\lib\\site-packages\\scikeras\\wrappers.py\", line 926, in _fit\n",
            "    self._check_model_compatibility(y)\n",
            "  File \"c:\\Users\\Asus\\anaconda3\\lib\\site-packages\\scikeras\\wrappers.py\", line 569, in _check_model_compatibility\n",
            "    raise ValueError(\n",
            "ValueError: loss=binary_crossentropy but model compiled with categorical_crossentropy. Data may not match loss function!\n",
            "\n",
            "--------------------------------------------------------------------------------\n",
            "18 fits failed with the following error:\n",
            "Traceback (most recent call last):\n",
            "  File \"c:\\Users\\Asus\\anaconda3\\lib\\site-packages\\sklearn\\model_selection\\_validation.py\", line 729, in _fit_and_score\n",
            "    estimator.fit(X_train, y_train, **fit_params)\n",
            "  File \"c:\\Users\\Asus\\anaconda3\\lib\\site-packages\\scikeras\\wrappers.py\", line 1491, in fit\n",
            "    super().fit(X=X, y=y, sample_weight=sample_weight, **kwargs)\n",
            "  File \"c:\\Users\\Asus\\anaconda3\\lib\\site-packages\\scikeras\\wrappers.py\", line 760, in fit\n",
            "    self._fit(\n",
            "  File \"c:\\Users\\Asus\\anaconda3\\lib\\site-packages\\scikeras\\wrappers.py\", line 926, in _fit\n",
            "    self._check_model_compatibility(y)\n",
            "  File \"c:\\Users\\Asus\\anaconda3\\lib\\site-packages\\scikeras\\wrappers.py\", line 569, in _check_model_compatibility\n",
            "    raise ValueError(\n",
            "ValueError: loss=hinge but model compiled with categorical_crossentropy. Data may not match loss function!\n",
            "\n",
            "--------------------------------------------------------------------------------\n",
            "18 fits failed with the following error:\n",
            "Traceback (most recent call last):\n",
            "  File \"c:\\Users\\Asus\\anaconda3\\lib\\site-packages\\sklearn\\model_selection\\_validation.py\", line 729, in _fit_and_score\n",
            "    estimator.fit(X_train, y_train, **fit_params)\n",
            "  File \"c:\\Users\\Asus\\anaconda3\\lib\\site-packages\\scikeras\\wrappers.py\", line 1491, in fit\n",
            "    super().fit(X=X, y=y, sample_weight=sample_weight, **kwargs)\n",
            "  File \"c:\\Users\\Asus\\anaconda3\\lib\\site-packages\\scikeras\\wrappers.py\", line 760, in fit\n",
            "    self._fit(\n",
            "  File \"c:\\Users\\Asus\\anaconda3\\lib\\site-packages\\scikeras\\wrappers.py\", line 926, in _fit\n",
            "    self._check_model_compatibility(y)\n",
            "  File \"c:\\Users\\Asus\\anaconda3\\lib\\site-packages\\scikeras\\wrappers.py\", line 569, in _check_model_compatibility\n",
            "    raise ValueError(\n",
            "ValueError: loss=kullback_leibler_divergence but model compiled with categorical_crossentropy. Data may not match loss function!\n",
            "\n",
            "  warnings.warn(some_fits_failed_message, FitFailedWarning)\n",
            "c:\\Users\\Asus\\anaconda3\\lib\\site-packages\\sklearn\\model_selection\\_search.py:979: UserWarning: One or more of the test scores are non-finite: [0.9821608  0.97135678 0.95565327 0.98329146 0.96733668 0.94987437\n",
            " 0.97286432 0.9678392  0.95062814        nan        nan        nan\n",
            "        nan        nan        nan        nan        nan        nan\n",
            "        nan        nan        nan        nan        nan        nan\n",
            "        nan        nan        nan        nan        nan        nan\n",
            "        nan        nan        nan        nan        nan        nan]\n",
            "  warnings.warn(\n",
            "c:\\Users\\Asus\\anaconda3\\lib\\site-packages\\scikeras\\wrappers.py:915: UserWarning: ``build_fn`` will be renamed to ``model`` in a future release, at which point use of ``build_fn`` will raise an Error instead.\n",
            "  X, y = self._initialize(X, y)\n"
          ]
        }
      ],
      "source": [
        "grid = GridSearchCV(estimator=model, param_grid=param_grid, cv=2, scoring='accuracy')\n",
        "grid_result = grid.fit(X_train, y_train)"
      ]
    },
    {
      "cell_type": "code",
      "execution_count": 28,
      "metadata": {},
      "outputs": [
        {
          "name": "stdout",
          "output_type": "stream",
          "text": [
            "Best: 0.983291 using {'loss': 'categorical_crossentropy', 'optimizer': 'sgd', 'units': 32}\n"
          ]
        }
      ],
      "source": [
        "print(\"Best: %f using %s\" % (grid_result.best_score_, grid_result.best_params_))\n",
        "\n",
        "# best_model = grid_result.best_estimator_\n",
        "# accuracy = best_model.score(X_val, y_val)\n",
        "# print(\"Validation Accuracy: %.2f%%\" % (accuracy * 100))"
      ]
    },
    {
      "cell_type": "code",
      "execution_count": 29,
      "metadata": {},
      "outputs": [],
      "source": [
        "optimizer = grid_result.best_params_['optimizer']\n",
        "units = grid_result.best_params_['units']\n",
        "loss = grid_result.best_params_['loss']"
      ]
    },
    {
      "cell_type": "code",
      "execution_count": 30,
      "metadata": {},
      "outputs": [
        {
          "name": "stdout",
          "output_type": "stream",
          "text": [
            "Epoch 1/100\n",
            "249/249 [==============================] - 8s 13ms/step - loss: 0.8234 - mean_absolute_error: 0.4445 - val_loss: 0.6038 - val_mean_absolute_error: 0.3896\n",
            "Epoch 2/100\n",
            "249/249 [==============================] - 2s 8ms/step - loss: 0.4730 - mean_absolute_error: 0.3500 - val_loss: 0.3911 - val_mean_absolute_error: 0.3204\n",
            "Epoch 3/100\n",
            "249/249 [==============================] - 2s 9ms/step - loss: 0.3228 - mean_absolute_error: 0.2984 - val_loss: 0.2747 - val_mean_absolute_error: 0.2817\n",
            "Epoch 4/100\n",
            "249/249 [==============================] - 2s 9ms/step - loss: 0.2502 - mean_absolute_error: 0.2735 - val_loss: 0.2468 - val_mean_absolute_error: 0.2685\n",
            "Epoch 5/100\n",
            "249/249 [==============================] - 2s 8ms/step - loss: 0.2096 - mean_absolute_error: 0.2594 - val_loss: 0.1874 - val_mean_absolute_error: 0.2532\n",
            "Epoch 6/100\n",
            "249/249 [==============================] - 2s 7ms/step - loss: 0.1821 - mean_absolute_error: 0.2506 - val_loss: 0.1691 - val_mean_absolute_error: 0.2457\n",
            "Epoch 7/100\n",
            "249/249 [==============================] - 2s 7ms/step - loss: 0.1657 - mean_absolute_error: 0.2446 - val_loss: 0.1516 - val_mean_absolute_error: 0.2414\n",
            "Epoch 8/100\n",
            "249/249 [==============================] - 2s 7ms/step - loss: 0.1547 - mean_absolute_error: 0.2398 - val_loss: 0.1535 - val_mean_absolute_error: 0.2366\n",
            "Epoch 9/100\n",
            "249/249 [==============================] - 2s 8ms/step - loss: 0.1424 - mean_absolute_error: 0.2355 - val_loss: 0.1291 - val_mean_absolute_error: 0.2335\n",
            "Epoch 10/100\n",
            "249/249 [==============================] - 2s 7ms/step - loss: 0.1306 - mean_absolute_error: 0.2314 - val_loss: 0.1478 - val_mean_absolute_error: 0.2325\n",
            "Epoch 11/100\n",
            "249/249 [==============================] - 2s 7ms/step - loss: 0.1221 - mean_absolute_error: 0.2284 - val_loss: 0.1193 - val_mean_absolute_error: 0.2266\n",
            "Epoch 12/100\n",
            "249/249 [==============================] - 2s 7ms/step - loss: 0.1171 - mean_absolute_error: 0.2256 - val_loss: 0.1140 - val_mean_absolute_error: 0.2203\n",
            "Epoch 13/100\n",
            "249/249 [==============================] - 2s 7ms/step - loss: 0.1108 - mean_absolute_error: 0.2229 - val_loss: 0.1263 - val_mean_absolute_error: 0.2237\n",
            "Epoch 14/100\n",
            "249/249 [==============================] - 2s 7ms/step - loss: 0.1054 - mean_absolute_error: 0.2202 - val_loss: 0.1068 - val_mean_absolute_error: 0.2177\n",
            "Epoch 15/100\n",
            "249/249 [==============================] - 2s 7ms/step - loss: 0.1029 - mean_absolute_error: 0.2188 - val_loss: 0.1485 - val_mean_absolute_error: 0.2263\n",
            "Epoch 16/100\n",
            "249/249 [==============================] - 2s 7ms/step - loss: 0.1009 - mean_absolute_error: 0.2172 - val_loss: 0.1079 - val_mean_absolute_error: 0.2196\n",
            "Epoch 17/100\n",
            "249/249 [==============================] - 2s 7ms/step - loss: 0.0946 - mean_absolute_error: 0.2157 - val_loss: 0.0888 - val_mean_absolute_error: 0.2133\n",
            "Epoch 18/100\n",
            "249/249 [==============================] - 2s 7ms/step - loss: 0.0926 - mean_absolute_error: 0.2135 - val_loss: 0.0973 - val_mean_absolute_error: 0.2152\n",
            "Epoch 19/100\n",
            "249/249 [==============================] - 2s 7ms/step - loss: 0.0924 - mean_absolute_error: 0.2117 - val_loss: 0.0989 - val_mean_absolute_error: 0.2107\n",
            "Epoch 20/100\n",
            "249/249 [==============================] - 2s 7ms/step - loss: 0.0890 - mean_absolute_error: 0.2110 - val_loss: 0.0791 - val_mean_absolute_error: 0.2065\n",
            "Epoch 21/100\n",
            "249/249 [==============================] - 2s 7ms/step - loss: 0.0862 - mean_absolute_error: 0.2086 - val_loss: 0.0744 - val_mean_absolute_error: 0.2078\n",
            "Epoch 22/100\n",
            "249/249 [==============================] - 2s 7ms/step - loss: 0.0836 - mean_absolute_error: 0.2076 - val_loss: 0.0761 - val_mean_absolute_error: 0.2068\n",
            "Epoch 23/100\n",
            "249/249 [==============================] - 2s 7ms/step - loss: 0.0875 - mean_absolute_error: 0.2069 - val_loss: 0.0816 - val_mean_absolute_error: 0.2056\n",
            "Epoch 24/100\n",
            "249/249 [==============================] - 2s 7ms/step - loss: 0.0793 - mean_absolute_error: 0.2054 - val_loss: 0.0677 - val_mean_absolute_error: 0.2031\n",
            "Epoch 25/100\n",
            "249/249 [==============================] - 2s 7ms/step - loss: 0.0794 - mean_absolute_error: 0.2046 - val_loss: 0.0665 - val_mean_absolute_error: 0.2013\n",
            "Epoch 26/100\n",
            "249/249 [==============================] - 2s 7ms/step - loss: 0.0789 - mean_absolute_error: 0.2028 - val_loss: 0.0650 - val_mean_absolute_error: 0.1977\n",
            "Epoch 27/100\n",
            "249/249 [==============================] - 2s 7ms/step - loss: 0.0724 - mean_absolute_error: 0.2010 - val_loss: 0.0748 - val_mean_absolute_error: 0.1948\n",
            "Epoch 28/100\n",
            "249/249 [==============================] - 2s 8ms/step - loss: 0.0711 - mean_absolute_error: 0.2000 - val_loss: 0.0790 - val_mean_absolute_error: 0.1988\n",
            "Epoch 29/100\n",
            "249/249 [==============================] - 2s 7ms/step - loss: 0.0792 - mean_absolute_error: 0.1997 - val_loss: 0.0685 - val_mean_absolute_error: 0.1943\n",
            "Epoch 30/100\n",
            "249/249 [==============================] - 2s 7ms/step - loss: 0.0711 - mean_absolute_error: 0.1976 - val_loss: 0.0759 - val_mean_absolute_error: 0.1917\n",
            "Epoch 31/100\n",
            "249/249 [==============================] - 2s 7ms/step - loss: 0.0711 - mean_absolute_error: 0.1972 - val_loss: 0.0668 - val_mean_absolute_error: 0.1936\n",
            "Epoch 32/100\n",
            "249/249 [==============================] - 2s 7ms/step - loss: 0.0691 - mean_absolute_error: 0.1963 - val_loss: 0.0653 - val_mean_absolute_error: 0.1902\n",
            "Epoch 33/100\n",
            "249/249 [==============================] - 2s 7ms/step - loss: 0.0708 - mean_absolute_error: 0.1954 - val_loss: 0.1067 - val_mean_absolute_error: 0.1988\n",
            "Epoch 34/100\n",
            "249/249 [==============================] - 2s 7ms/step - loss: 0.0656 - mean_absolute_error: 0.1950 - val_loss: 0.0621 - val_mean_absolute_error: 0.1884\n",
            "Epoch 35/100\n",
            "249/249 [==============================] - 2s 7ms/step - loss: 0.0650 - mean_absolute_error: 0.1931 - val_loss: 0.0613 - val_mean_absolute_error: 0.1862\n",
            "Epoch 36/100\n",
            "249/249 [==============================] - 2s 7ms/step - loss: 0.0656 - mean_absolute_error: 0.1924 - val_loss: 0.0801 - val_mean_absolute_error: 0.1921\n",
            "Epoch 37/100\n",
            "249/249 [==============================] - 2s 8ms/step - loss: 0.0591 - mean_absolute_error: 0.1910 - val_loss: 0.0658 - val_mean_absolute_error: 0.1883\n",
            "Epoch 38/100\n",
            "249/249 [==============================] - 2s 7ms/step - loss: 0.0649 - mean_absolute_error: 0.1904 - val_loss: 0.0996 - val_mean_absolute_error: 0.1835\n",
            "Epoch 39/100\n",
            "249/249 [==============================] - 2s 7ms/step - loss: 0.0622 - mean_absolute_error: 0.1900 - val_loss: 0.0553 - val_mean_absolute_error: 0.1863\n",
            "Epoch 40/100\n",
            "249/249 [==============================] - 2s 7ms/step - loss: 0.0601 - mean_absolute_error: 0.1895 - val_loss: 0.0523 - val_mean_absolute_error: 0.1855\n",
            "Epoch 41/100\n",
            "249/249 [==============================] - 2s 7ms/step - loss: 0.0625 - mean_absolute_error: 0.1882 - val_loss: 0.0825 - val_mean_absolute_error: 0.1869\n",
            "Epoch 42/100\n",
            "249/249 [==============================] - 2s 7ms/step - loss: 0.0565 - mean_absolute_error: 0.1878 - val_loss: 0.0621 - val_mean_absolute_error: 0.1838\n",
            "Epoch 43/100\n",
            "249/249 [==============================] - 2s 7ms/step - loss: 0.0601 - mean_absolute_error: 0.1860 - val_loss: 0.0701 - val_mean_absolute_error: 0.1806\n",
            "Epoch 44/100\n",
            "249/249 [==============================] - 2s 7ms/step - loss: 0.0612 - mean_absolute_error: 0.1856 - val_loss: 0.0566 - val_mean_absolute_error: 0.1824\n",
            "Epoch 45/100\n",
            "249/249 [==============================] - 2s 7ms/step - loss: 0.0564 - mean_absolute_error: 0.1849 - val_loss: 0.0698 - val_mean_absolute_error: 0.1864\n",
            "Epoch 46/100\n",
            "249/249 [==============================] - 2s 7ms/step - loss: 0.0557 - mean_absolute_error: 0.1839 - val_loss: 0.0577 - val_mean_absolute_error: 0.1783\n",
            "Epoch 47/100\n",
            "249/249 [==============================] - 2s 7ms/step - loss: 0.0561 - mean_absolute_error: 0.1833 - val_loss: 0.0533 - val_mean_absolute_error: 0.1818\n",
            "Epoch 48/100\n",
            "249/249 [==============================] - 2s 7ms/step - loss: 0.0529 - mean_absolute_error: 0.1836 - val_loss: 0.0589 - val_mean_absolute_error: 0.1800\n",
            "Epoch 49/100\n",
            "249/249 [==============================] - 2s 8ms/step - loss: 0.0586 - mean_absolute_error: 0.1826 - val_loss: 0.0942 - val_mean_absolute_error: 0.1777\n",
            "Epoch 50/100\n",
            "249/249 [==============================] - 2s 7ms/step - loss: 0.0615 - mean_absolute_error: 0.1817 - val_loss: 0.0574 - val_mean_absolute_error: 0.1771\n",
            "Epoch 51/100\n",
            "249/249 [==============================] - 2s 7ms/step - loss: 0.0516 - mean_absolute_error: 0.1812 - val_loss: 0.0584 - val_mean_absolute_error: 0.1813\n",
            "Epoch 52/100\n",
            "249/249 [==============================] - 2s 7ms/step - loss: 0.0526 - mean_absolute_error: 0.1805 - val_loss: 0.1105 - val_mean_absolute_error: 0.1847\n",
            "Epoch 53/100\n",
            "249/249 [==============================] - 2s 7ms/step - loss: 0.0605 - mean_absolute_error: 0.1799 - val_loss: 0.0443 - val_mean_absolute_error: 0.1781\n",
            "Epoch 54/100\n",
            "249/249 [==============================] - 2s 7ms/step - loss: 0.0586 - mean_absolute_error: 0.1797 - val_loss: 0.0744 - val_mean_absolute_error: 0.1791\n",
            "Epoch 55/100\n",
            "249/249 [==============================] - 2s 8ms/step - loss: 0.0544 - mean_absolute_error: 0.1792 - val_loss: 0.0840 - val_mean_absolute_error: 0.1792\n",
            "Epoch 56/100\n",
            "249/249 [==============================] - 2s 7ms/step - loss: 0.0615 - mean_absolute_error: 0.1781 - val_loss: 0.0782 - val_mean_absolute_error: 0.1775\n",
            "Epoch 57/100\n",
            "249/249 [==============================] - 2s 7ms/step - loss: 0.0521 - mean_absolute_error: 0.1782 - val_loss: 0.0452 - val_mean_absolute_error: 0.1783\n",
            "Epoch 58/100\n",
            "249/249 [==============================] - 2s 8ms/step - loss: 0.0474 - mean_absolute_error: 0.1776 - val_loss: 0.0634 - val_mean_absolute_error: 0.1773\n",
            "Epoch 59/100\n",
            "249/249 [==============================] - 2s 7ms/step - loss: 0.0496 - mean_absolute_error: 0.1771 - val_loss: 0.0426 - val_mean_absolute_error: 0.1762\n",
            "Epoch 60/100\n",
            "249/249 [==============================] - 2s 7ms/step - loss: 0.0508 - mean_absolute_error: 0.1770 - val_loss: 0.0844 - val_mean_absolute_error: 0.1811\n",
            "Epoch 61/100\n",
            "249/249 [==============================] - 2s 7ms/step - loss: 0.0516 - mean_absolute_error: 0.1755 - val_loss: 0.0481 - val_mean_absolute_error: 0.1698\n",
            "Epoch 62/100\n",
            "249/249 [==============================] - 2s 7ms/step - loss: 0.0497 - mean_absolute_error: 0.1753 - val_loss: 0.0468 - val_mean_absolute_error: 0.1692\n",
            "Epoch 63/100\n",
            "249/249 [==============================] - 2s 6ms/step - loss: 0.0498 - mean_absolute_error: 0.1746 - val_loss: 0.0526 - val_mean_absolute_error: 0.1754\n",
            "Epoch 64/100\n",
            "249/249 [==============================] - 1s 6ms/step - loss: 0.0536 - mean_absolute_error: 0.1741 - val_loss: 0.0490 - val_mean_absolute_error: 0.1690\n",
            "Epoch 65/100\n",
            "249/249 [==============================] - 1s 6ms/step - loss: 0.0523 - mean_absolute_error: 0.1735 - val_loss: 0.0579 - val_mean_absolute_error: 0.1747\n",
            "Epoch 66/100\n",
            "249/249 [==============================] - 1s 6ms/step - loss: 0.0524 - mean_absolute_error: 0.1732 - val_loss: 0.0490 - val_mean_absolute_error: 0.1710\n",
            "Epoch 67/100\n",
            "249/249 [==============================] - 1s 6ms/step - loss: 0.0605 - mean_absolute_error: 0.1737 - val_loss: 0.0442 - val_mean_absolute_error: 0.1678\n",
            "Epoch 68/100\n",
            "249/249 [==============================] - 2s 7ms/step - loss: 0.0505 - mean_absolute_error: 0.1726 - val_loss: 0.0580 - val_mean_absolute_error: 0.1681\n",
            "Epoch 69/100\n",
            "249/249 [==============================] - 2s 8ms/step - loss: 0.0461 - mean_absolute_error: 0.1715 - val_loss: 0.0486 - val_mean_absolute_error: 0.1704\n",
            "Epoch 70/100\n",
            "249/249 [==============================] - 2s 8ms/step - loss: 0.0451 - mean_absolute_error: 0.1718 - val_loss: 0.0567 - val_mean_absolute_error: 0.1740\n",
            "Epoch 71/100\n",
            "249/249 [==============================] - 2s 8ms/step - loss: 0.0600 - mean_absolute_error: 0.1720 - val_loss: 0.0725 - val_mean_absolute_error: 0.1740\n",
            "Epoch 72/100\n",
            "249/249 [==============================] - 2s 7ms/step - loss: 0.0429 - mean_absolute_error: 0.1703 - val_loss: 0.0511 - val_mean_absolute_error: 0.1669\n",
            "Epoch 73/100\n",
            "249/249 [==============================] - 2s 10ms/step - loss: 0.0521 - mean_absolute_error: 0.1697 - val_loss: 0.0522 - val_mean_absolute_error: 0.1637\n",
            "Epoch 74/100\n",
            "249/249 [==============================] - 3s 10ms/step - loss: 0.0465 - mean_absolute_error: 0.1696 - val_loss: 0.0598 - val_mean_absolute_error: 0.1681\n",
            "Epoch 75/100\n",
            "249/249 [==============================] - 2s 9ms/step - loss: 0.0455 - mean_absolute_error: 0.1690 - val_loss: 0.0921 - val_mean_absolute_error: 0.1700\n",
            "Epoch 76/100\n",
            "249/249 [==============================] - 2s 8ms/step - loss: 0.0446 - mean_absolute_error: 0.1687 - val_loss: 0.0460 - val_mean_absolute_error: 0.1699\n",
            "Epoch 77/100\n",
            "249/249 [==============================] - 2s 7ms/step - loss: 0.0436 - mean_absolute_error: 0.1686 - val_loss: 0.0389 - val_mean_absolute_error: 0.1660\n",
            "Epoch 78/100\n",
            "249/249 [==============================] - 2s 9ms/step - loss: 0.0464 - mean_absolute_error: 0.1685 - val_loss: 0.0448 - val_mean_absolute_error: 0.1709\n",
            "Epoch 79/100\n",
            "249/249 [==============================] - 2s 9ms/step - loss: 0.0461 - mean_absolute_error: 0.1686 - val_loss: 0.0668 - val_mean_absolute_error: 0.1704\n",
            "Epoch 80/100\n",
            "249/249 [==============================] - 2s 8ms/step - loss: 0.0444 - mean_absolute_error: 0.1675 - val_loss: 0.0921 - val_mean_absolute_error: 0.1681\n",
            "Epoch 81/100\n",
            "249/249 [==============================] - 2s 7ms/step - loss: 0.0426 - mean_absolute_error: 0.1675 - val_loss: 0.0489 - val_mean_absolute_error: 0.1662\n",
            "Epoch 82/100\n",
            "249/249 [==============================] - 2s 6ms/step - loss: 0.0378 - mean_absolute_error: 0.1680 - val_loss: 0.0384 - val_mean_absolute_error: 0.1663\n",
            "Epoch 83/100\n",
            "249/249 [==============================] - 2s 8ms/step - loss: 0.0413 - mean_absolute_error: 0.1668 - val_loss: 0.0398 - val_mean_absolute_error: 0.1618\n",
            "Epoch 84/100\n",
            "249/249 [==============================] - 2s 10ms/step - loss: 0.0376 - mean_absolute_error: 0.1666 - val_loss: 0.0480 - val_mean_absolute_error: 0.1665\n",
            "Epoch 85/100\n",
            "249/249 [==============================] - 2s 7ms/step - loss: 0.0432 - mean_absolute_error: 0.1667 - val_loss: 0.1177 - val_mean_absolute_error: 0.1659\n",
            "Epoch 86/100\n",
            "249/249 [==============================] - 2s 7ms/step - loss: 0.0405 - mean_absolute_error: 0.1662 - val_loss: 0.0574 - val_mean_absolute_error: 0.1644\n",
            "Epoch 87/100\n",
            "249/249 [==============================] - 2s 7ms/step - loss: 0.0414 - mean_absolute_error: 0.1648 - val_loss: 0.0460 - val_mean_absolute_error: 0.1613\n",
            "Epoch 88/100\n",
            "249/249 [==============================] - 2s 8ms/step - loss: 0.0380 - mean_absolute_error: 0.1645 - val_loss: 0.0375 - val_mean_absolute_error: 0.1619\n",
            "Epoch 89/100\n",
            "249/249 [==============================] - 2s 7ms/step - loss: 0.0424 - mean_absolute_error: 0.1643 - val_loss: 0.0622 - val_mean_absolute_error: 0.1640\n",
            "Epoch 90/100\n",
            "249/249 [==============================] - 2s 7ms/step - loss: 0.0367 - mean_absolute_error: 0.1634 - val_loss: 0.0475 - val_mean_absolute_error: 0.1599\n",
            "Epoch 91/100\n",
            "249/249 [==============================] - 1s 6ms/step - loss: 0.0378 - mean_absolute_error: 0.1644 - val_loss: 0.0351 - val_mean_absolute_error: 0.1600\n",
            "Epoch 92/100\n",
            "249/249 [==============================] - 2s 6ms/step - loss: 0.0438 - mean_absolute_error: 0.1635 - val_loss: 0.0621 - val_mean_absolute_error: 0.1621\n",
            "Epoch 93/100\n",
            "249/249 [==============================] - 2s 6ms/step - loss: 0.0438 - mean_absolute_error: 0.1626 - val_loss: 0.0354 - val_mean_absolute_error: 0.1631\n",
            "Epoch 94/100\n",
            "249/249 [==============================] - 2s 7ms/step - loss: 0.0377 - mean_absolute_error: 0.1626 - val_loss: 0.0431 - val_mean_absolute_error: 0.1642\n",
            "Epoch 95/100\n",
            "249/249 [==============================] - 2s 7ms/step - loss: 0.0474 - mean_absolute_error: 0.1631 - val_loss: 0.0546 - val_mean_absolute_error: 0.1582\n",
            "Epoch 96/100\n",
            "249/249 [==============================] - 2s 7ms/step - loss: 0.0438 - mean_absolute_error: 0.1618 - val_loss: 0.0354 - val_mean_absolute_error: 0.1603\n",
            "Epoch 97/100\n",
            "249/249 [==============================] - 2s 7ms/step - loss: 0.0463 - mean_absolute_error: 0.1628 - val_loss: 0.0440 - val_mean_absolute_error: 0.1585\n",
            "Epoch 98/100\n",
            "249/249 [==============================] - 1s 6ms/step - loss: 0.0391 - mean_absolute_error: 0.1616 - val_loss: 0.0471 - val_mean_absolute_error: 0.1605\n",
            "Epoch 99/100\n",
            "249/249 [==============================] - 1s 6ms/step - loss: 0.0400 - mean_absolute_error: 0.1611 - val_loss: 0.0448 - val_mean_absolute_error: 0.1568\n",
            "Epoch 100/100\n",
            "249/249 [==============================] - 2s 6ms/step - loss: 0.0359 - mean_absolute_error: 0.1617 - val_loss: 0.0400 - val_mean_absolute_error: 0.1567\n",
            "32/32 [==============================] - 0s 4ms/step - loss: 0.0400 - mean_absolute_error: 0.1567\n",
            "Accuracy:  [0.03999854996800423, 0.15673400461673737]\n"
          ]
        }
      ],
      "source": [
        "model = Sequential()\n",
        "model.add(SimpleRNN(64, return_sequences = False, input_shape=(X_train.shape[1], 1)))\n",
        "\n",
        "model.add(Dense(units, activation='relu'))\n",
        "model.add(Dense(units=3, activation='sigmoid'))\n",
        "\n",
        "model.compile(loss=loss, optimizer=optimizer, metrics=['mean_absolute_error'])\n",
        "\n",
        "history = model.fit(X_train, y_train, epochs=100, batch_size=32, validation_data=(X_val, y_val))\n",
        "\n",
        "accuracy = model.evaluate(X_val, y_val)\n",
        "print(\"Accuracy: \", accuracy)"
      ]
    },
    {
      "cell_type": "code",
      "execution_count": 31,
      "metadata": {},
      "outputs": [
        {
          "name": "stdout",
          "output_type": "stream",
          "text": [
            "Model: \"sequential_73\"\n",
            "_________________________________________________________________\n",
            " Layer (type)                Output Shape              Param #   \n",
            "=================================================================\n",
            " simple_rnn_73 (SimpleRNN)   (None, 64)                4224      \n",
            "                                                                 \n",
            " dense_146 (Dense)           (None, 32)                2080      \n",
            "                                                                 \n",
            " dense_147 (Dense)           (None, 3)                 99        \n",
            "                                                                 \n",
            "=================================================================\n",
            "Total params: 6403 (25.01 KB)\n",
            "Trainable params: 6403 (25.01 KB)\n",
            "Non-trainable params: 0 (0.00 Byte)\n",
            "_________________________________________________________________\n"
          ]
        }
      ],
      "source": [
        "model.summary()"
      ]
    },
    {
      "cell_type": "code",
      "execution_count": 37,
      "metadata": {},
      "outputs": [
        {
          "name": "stdout",
          "output_type": "stream",
          "text": [
            "INFO:tensorflow:Assets written to: C:\\Users\\Asus\\AppData\\Local\\Temp\\tmpj5ooq9gc\\assets\n"
          ]
        },
        {
          "name": "stderr",
          "output_type": "stream",
          "text": [
            "INFO:tensorflow:Assets written to: C:\\Users\\Asus\\AppData\\Local\\Temp\\tmpj5ooq9gc\\assets\n"
          ]
        },
        {
          "data": {
            "text/plain": [
              "['model/rnn_model.pkl']"
            ]
          },
          "execution_count": 37,
          "metadata": {},
          "output_type": "execute_result"
        }
      ],
      "source": [
        "import joblib\n",
        "joblib.dump(model, 'model/rnn_model.pkl')"
      ]
    },
    {
      "cell_type": "code",
      "execution_count": 38,
      "metadata": {},
      "outputs": [
        {
          "name": "stdout",
          "output_type": "stream",
          "text": [
            "You must install pydot (`pip install pydot`) and install graphviz (see instructions at https://graphviz.gitlab.io/download/) for plot_model to work.\n"
          ]
        }
      ],
      "source": [
        "plot_model(model, to_file='mlp-mnist.png', show_shapes=True)"
      ]
    },
    {
      "cell_type": "code",
      "execution_count": 39,
      "metadata": {},
      "outputs": [
        {
          "name": "stdout",
          "output_type": "stream",
          "text": [
            "11/32 [=========>....................] - ETA: 0s"
          ]
        },
        {
          "name": "stdout",
          "output_type": "stream",
          "text": [
            "32/32 [==============================] - 0s 5ms/step\n"
          ]
        }
      ],
      "source": [
        "predictions = model.predict(X_test)\n",
        "y_pred = np.argmax(predictions, axis=1)"
      ]
    },
    {
      "cell_type": "code",
      "execution_count": 40,
      "metadata": {},
      "outputs": [
        {
          "data": {
            "image/png": "[encoded data removed]",
            "text/plain": [
              "<Figure size 1200x500 with 2 Axes>"
            ]
          },
          "metadata": {},
          "output_type": "display_data"
        }
      ],
      "source": [
        "plt.figure(figsize=(12, 5))\n",
        "plt.subplot(1, 2, 1)\n",
        "plt.plot(history.history['loss'])\n",
        "plt.plot(history.history['val_loss'])\n",
        "plt.title('Loss over epochs')\n",
        "plt.ylabel('Loss')\n",
        "plt.xlabel('Epoch')\n",
        "plt.legend(['Train', 'Validation'], loc='best')\n",
        "\n",
        "plt.subplot(1, 2, 2)\n",
        "plt.plot(history.history['mean_absolute_error'])\n",
        "plt.plot(history.history['val_mean_absolute_error'])\n",
        "plt.title('Accuracy over epochs')\n",
        "plt.ylabel('Accuracy')\n",
        "plt.xlabel('Epoch')\n",
        "plt.legend(['Train', 'Validation'], loc='best')\n",
        "\n",
        "plt.tight_layout()\n",
        "plt.show()\n"
      ]
    },
    {
      "cell_type": "code",
      "execution_count": 41,
      "metadata": {},
      "outputs": [
        {
          "data": {
            "image/png": "[encoded data removed]",
            "text/plain": [
              "<Figure size 640x480 with 2 Axes>"
            ]
          },
          "metadata": {},
          "output_type": "display_data"
        },
        {
          "name": "stdout",
          "output_type": "stream",
          "text": [
            "              precision    recall  f1-score   support\n",
            "\n",
            "           0       0.99      0.99      0.99       327\n",
            "           1       0.98      0.96      0.97       352\n",
            "           2       0.97      0.99      0.98       317\n",
            "\n",
            "    accuracy                           0.98       996\n",
            "   macro avg       0.98      0.98      0.98       996\n",
            "weighted avg       0.98      0.98      0.98       996\n",
            "\n"
          ]
        }
      ],
      "source": [
        "cm = confusion_matrix(y_test, y_pred)\n",
        "disp = ConfusionMatrixDisplay(confusion_matrix=cm)\n",
        "disp.plot(cmap='Blues', values_format='d')\n",
        "plt.title(\"Confusion Matrix: RNN\")\n",
        "plt.show()\n",
        "\n",
        "print(classification_report(y_test, y_pred))"
      ]
    }
  ],
  "metadata": {
    "colab": {
      "provenance": []
    },
    "kernelspec": {
      "display_name": "base",
      "language": "python",
      "name": "python3"
    },
    "language_info": {
      "codemirror_mode": {
        "name": "ipython",
        "version": 3
      },
      "file_extension": ".py",
      "mimetype": "text/x-python",
      "name": "python",
      "nbconvert_exporter": "python",
      "pygments_lexer": "ipython3",
      "version": "3.9.13"
    }
  },
  "nbformat": 4,
  "nbformat_minor": 0
}
