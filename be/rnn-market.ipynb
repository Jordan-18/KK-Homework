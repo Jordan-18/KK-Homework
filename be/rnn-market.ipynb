{
  "cells": [
    {
      "cell_type": "markdown",
      "metadata": {
        "id": "ENxOKpN9Oxo9"
      },
      "source": [
        "# **Libraries and Dataset**"
      ]
    },
    {
      "cell_type": "code",
      "execution_count": 33,
      "metadata": {
        "id": "9J-taP_VZBKX"
      },
      "outputs": [],
      "source": [
        "import numpy as np\n",
        "import pandas as pd\n",
        "import seaborn  as sns\n",
        "from sklearn.model_selection import train_test_split\n",
        "from sklearn.preprocessing import LabelEncoder, OneHotEncoder, StandardScaler,MinMaxScaler\n",
        "from sklearn.model_selection import cross_val_score, GridSearchCV\n",
        "import matplotlib.pyplot as plt\n",
        "from sklearn.metrics import confusion_matrix,classification_report, ConfusionMatrixDisplay"
      ]
    },
    {
      "cell_type": "code",
      "execution_count": 34,
      "metadata": {
        "id": "PF6y1Jx8ZBKb"
      },
      "outputs": [],
      "source": [
        "dataset = pd.read_csv('data/market_cluster.csv', encoding='latin1')\n"
      ]
    },
    {
      "cell_type": "code",
      "execution_count": 35,
      "metadata": {
        "colab": {
          "base_uri": "https://localhost:8080/",
          "height": 206
        },
        "id": "tJhiivZTZBKb",
        "outputId": "08d4e63f-057f-4657-bbd0-59adb7448bab"
      },
      "outputs": [
        {
          "data": {
            "text/html": [
              "<div>\n",
              "<style scoped>\n",
              "    .dataframe tbody tr th:only-of-type {\n",
              "        vertical-align: middle;\n",
              "    }\n",
              "\n",
              "    .dataframe tbody tr th {\n",
              "        vertical-align: top;\n",
              "    }\n",
              "\n",
              "    .dataframe thead th {\n",
              "        text-align: right;\n",
              "    }\n",
              "</style>\n",
              "<table border=\"1\" class=\"dataframe\">\n",
              "  <thead>\n",
              "    <tr style=\"text-align: right;\">\n",
              "      <th></th>\n",
              "      <th>Order ID</th>\n",
              "      <th>Customer Name</th>\n",
              "      <th>Category</th>\n",
              "      <th>Sub Category</th>\n",
              "      <th>City</th>\n",
              "      <th>Order Date</th>\n",
              "      <th>Region</th>\n",
              "      <th>Sales</th>\n",
              "      <th>Discount</th>\n",
              "      <th>Profit</th>\n",
              "      <th>State</th>\n",
              "      <th>profit_margin</th>\n",
              "      <th>Cluster</th>\n",
              "    </tr>\n",
              "  </thead>\n",
              "  <tbody>\n",
              "    <tr>\n",
              "      <th>0</th>\n",
              "      <td>OD1</td>\n",
              "      <td>Harish</td>\n",
              "      <td>Oil &amp; Masala</td>\n",
              "      <td>Masalas</td>\n",
              "      <td>Vellore</td>\n",
              "      <td>11-08-2017</td>\n",
              "      <td>North</td>\n",
              "      <td>1254</td>\n",
              "      <td>0.12</td>\n",
              "      <td>401.28</td>\n",
              "      <td>Tamil Nadu</td>\n",
              "      <td>0.32</td>\n",
              "      <td>Medium</td>\n",
              "    </tr>\n",
              "    <tr>\n",
              "      <th>1</th>\n",
              "      <td>OD2</td>\n",
              "      <td>Sudha</td>\n",
              "      <td>Beverages</td>\n",
              "      <td>Health Drinks</td>\n",
              "      <td>Krishnagiri</td>\n",
              "      <td>11-08-2017</td>\n",
              "      <td>South</td>\n",
              "      <td>749</td>\n",
              "      <td>0.18</td>\n",
              "      <td>149.80</td>\n",
              "      <td>Tamil Nadu</td>\n",
              "      <td>0.20</td>\n",
              "      <td>Medium</td>\n",
              "    </tr>\n",
              "    <tr>\n",
              "      <th>2</th>\n",
              "      <td>OD3</td>\n",
              "      <td>Hussain</td>\n",
              "      <td>Food Grains</td>\n",
              "      <td>Atta &amp; Flour</td>\n",
              "      <td>Perambalur</td>\n",
              "      <td>06-12-2017</td>\n",
              "      <td>West</td>\n",
              "      <td>2360</td>\n",
              "      <td>0.21</td>\n",
              "      <td>165.20</td>\n",
              "      <td>Tamil Nadu</td>\n",
              "      <td>0.07</td>\n",
              "      <td>Low</td>\n",
              "    </tr>\n",
              "    <tr>\n",
              "      <th>3</th>\n",
              "      <td>OD4</td>\n",
              "      <td>Jackson</td>\n",
              "      <td>Fruits &amp; Veggies</td>\n",
              "      <td>Fresh Vegetables</td>\n",
              "      <td>Dharmapuri</td>\n",
              "      <td>10-11-2016</td>\n",
              "      <td>South</td>\n",
              "      <td>896</td>\n",
              "      <td>0.25</td>\n",
              "      <td>89.60</td>\n",
              "      <td>Tamil Nadu</td>\n",
              "      <td>0.10</td>\n",
              "      <td>Low</td>\n",
              "    </tr>\n",
              "    <tr>\n",
              "      <th>4</th>\n",
              "      <td>OD5</td>\n",
              "      <td>Ridhesh</td>\n",
              "      <td>Food Grains</td>\n",
              "      <td>Organic Staples</td>\n",
              "      <td>Ooty</td>\n",
              "      <td>10-11-2016</td>\n",
              "      <td>South</td>\n",
              "      <td>2355</td>\n",
              "      <td>0.26</td>\n",
              "      <td>918.45</td>\n",
              "      <td>Tamil Nadu</td>\n",
              "      <td>0.39</td>\n",
              "      <td>High</td>\n",
              "    </tr>\n",
              "  </tbody>\n",
              "</table>\n",
              "</div>"
            ],
            "text/plain": [
              "  Order ID Customer Name          Category      Sub Category         City  \\\n",
              "0      OD1        Harish      Oil & Masala           Masalas      Vellore   \n",
              "1      OD2         Sudha         Beverages     Health Drinks  Krishnagiri   \n",
              "2      OD3       Hussain       Food Grains      Atta & Flour   Perambalur   \n",
              "3      OD4       Jackson  Fruits & Veggies  Fresh Vegetables   Dharmapuri   \n",
              "4      OD5       Ridhesh       Food Grains   Organic Staples         Ooty   \n",
              "\n",
              "   Order Date Region  Sales  Discount  Profit       State  profit_margin  \\\n",
              "0  11-08-2017  North   1254      0.12  401.28  Tamil Nadu           0.32   \n",
              "1  11-08-2017  South    749      0.18  149.80  Tamil Nadu           0.20   \n",
              "2  06-12-2017   West   2360      0.21  165.20  Tamil Nadu           0.07   \n",
              "3  10-11-2016  South    896      0.25   89.60  Tamil Nadu           0.10   \n",
              "4  10-11-2016  South   2355      0.26  918.45  Tamil Nadu           0.39   \n",
              "\n",
              "  Cluster  \n",
              "0  Medium  \n",
              "1  Medium  \n",
              "2     Low  \n",
              "3     Low  \n",
              "4    High  "
            ]
          },
          "execution_count": 35,
          "metadata": {},
          "output_type": "execute_result"
        }
      ],
      "source": [
        "dataset.head()"
      ]
    },
    {
      "cell_type": "code",
      "execution_count": 36,
      "metadata": {
        "colab": {
          "base_uri": "https://localhost:8080/"
        },
        "id": "LInQP5rWZBKe",
        "outputId": "22e7bb1e-552c-4882-8822-66cf9e5f48da"
      },
      "outputs": [
        {
          "name": "stdout",
          "output_type": "stream",
          "text": [
            "<class 'pandas.core.frame.DataFrame'>\n",
            "RangeIndex: 9994 entries, 0 to 9993\n",
            "Data columns (total 13 columns):\n",
            " #   Column         Non-Null Count  Dtype  \n",
            "---  ------         --------------  -----  \n",
            " 0   Order ID       9994 non-null   object \n",
            " 1   Customer Name  9994 non-null   object \n",
            " 2   Category       9994 non-null   object \n",
            " 3   Sub Category   9994 non-null   object \n",
            " 4   City           9994 non-null   object \n",
            " 5   Order Date     9994 non-null   object \n",
            " 6   Region         9994 non-null   object \n",
            " 7   Sales          9994 non-null   int64  \n",
            " 8   Discount       9994 non-null   float64\n",
            " 9   Profit         9994 non-null   float64\n",
            " 10  State          9994 non-null   object \n",
            " 11  profit_margin  9994 non-null   float64\n",
            " 12  Cluster        9994 non-null   object \n",
            "dtypes: float64(3), int64(1), object(9)\n",
            "memory usage: 1015.1+ KB\n"
          ]
        }
      ],
      "source": [
        "dataset.info()"
      ]
    },
    {
      "cell_type": "code",
      "execution_count": 37,
      "metadata": {},
      "outputs": [
        {
          "data": {
            "text/html": [
              "<div>\n",
              "<style scoped>\n",
              "    .dataframe tbody tr th:only-of-type {\n",
              "        vertical-align: middle;\n",
              "    }\n",
              "\n",
              "    .dataframe tbody tr th {\n",
              "        vertical-align: top;\n",
              "    }\n",
              "\n",
              "    .dataframe thead th {\n",
              "        text-align: right;\n",
              "    }\n",
              "</style>\n",
              "<table border=\"1\" class=\"dataframe\">\n",
              "  <thead>\n",
              "    <tr style=\"text-align: right;\">\n",
              "      <th></th>\n",
              "      <th>Sales</th>\n",
              "      <th>Discount</th>\n",
              "      <th>Profit</th>\n",
              "      <th>profit_margin</th>\n",
              "    </tr>\n",
              "  </thead>\n",
              "  <tbody>\n",
              "    <tr>\n",
              "      <th>count</th>\n",
              "      <td>9994.000000</td>\n",
              "      <td>9994.000000</td>\n",
              "      <td>9994.000000</td>\n",
              "      <td>9994.000000</td>\n",
              "    </tr>\n",
              "    <tr>\n",
              "      <th>mean</th>\n",
              "      <td>1496.596158</td>\n",
              "      <td>0.226817</td>\n",
              "      <td>374.937082</td>\n",
              "      <td>0.250228</td>\n",
              "    </tr>\n",
              "    <tr>\n",
              "      <th>std</th>\n",
              "      <td>577.559036</td>\n",
              "      <td>0.074636</td>\n",
              "      <td>239.932881</td>\n",
              "      <td>0.118919</td>\n",
              "    </tr>\n",
              "    <tr>\n",
              "      <th>min</th>\n",
              "      <td>500.000000</td>\n",
              "      <td>0.100000</td>\n",
              "      <td>25.250000</td>\n",
              "      <td>0.050000</td>\n",
              "    </tr>\n",
              "    <tr>\n",
              "      <th>25%</th>\n",
              "      <td>1000.000000</td>\n",
              "      <td>0.160000</td>\n",
              "      <td>180.022500</td>\n",
              "      <td>0.150000</td>\n",
              "    </tr>\n",
              "    <tr>\n",
              "      <th>50%</th>\n",
              "      <td>1498.000000</td>\n",
              "      <td>0.230000</td>\n",
              "      <td>320.780000</td>\n",
              "      <td>0.250000</td>\n",
              "    </tr>\n",
              "    <tr>\n",
              "      <th>75%</th>\n",
              "      <td>1994.750000</td>\n",
              "      <td>0.290000</td>\n",
              "      <td>525.627500</td>\n",
              "      <td>0.350000</td>\n",
              "    </tr>\n",
              "    <tr>\n",
              "      <th>max</th>\n",
              "      <td>2500.000000</td>\n",
              "      <td>0.350000</td>\n",
              "      <td>1120.950000</td>\n",
              "      <td>0.450000</td>\n",
              "    </tr>\n",
              "  </tbody>\n",
              "</table>\n",
              "</div>"
            ],
            "text/plain": [
              "             Sales     Discount       Profit  profit_margin\n",
              "count  9994.000000  9994.000000  9994.000000    9994.000000\n",
              "mean   1496.596158     0.226817   374.937082       0.250228\n",
              "std     577.559036     0.074636   239.932881       0.118919\n",
              "min     500.000000     0.100000    25.250000       0.050000\n",
              "25%    1000.000000     0.160000   180.022500       0.150000\n",
              "50%    1498.000000     0.230000   320.780000       0.250000\n",
              "75%    1994.750000     0.290000   525.627500       0.350000\n",
              "max    2500.000000     0.350000  1120.950000       0.450000"
            ]
          },
          "execution_count": 37,
          "metadata": {},
          "output_type": "execute_result"
        }
      ],
      "source": [
        "dataset.describe()"
      ]
    },
    {
      "cell_type": "code",
      "execution_count": 38,
      "metadata": {},
      "outputs": [
        {
          "name": "stdout",
          "output_type": "stream",
          "text": [
            "<class 'pandas.core.frame.DataFrame'>\n",
            "RangeIndex: 9994 entries, 0 to 9993\n",
            "Data columns (total 13 columns):\n",
            " #   Column         Non-Null Count  Dtype  \n",
            "---  ------         --------------  -----  \n",
            " 0   Order ID       9994 non-null   object \n",
            " 1   Customer Name  9994 non-null   object \n",
            " 2   Category       9994 non-null   object \n",
            " 3   Sub Category   9994 non-null   object \n",
            " 4   City           9994 non-null   object \n",
            " 5   Order Date     9994 non-null   object \n",
            " 6   Region         9994 non-null   object \n",
            " 7   Sales          9994 non-null   int64  \n",
            " 8   Discount       9994 non-null   float64\n",
            " 9   Profit         9994 non-null   float64\n",
            " 10  State          9994 non-null   object \n",
            " 11  profit_margin  9994 non-null   float64\n",
            " 12  Cluster        9994 non-null   object \n",
            "dtypes: float64(3), int64(1), object(9)\n",
            "memory usage: 1015.1+ KB\n"
          ]
        }
      ],
      "source": [
        "dataset.info()"
      ]
    },
    {
      "cell_type": "markdown",
      "metadata": {},
      "source": [
        "# **Data Cleaning & Preprocessing**"
      ]
    },
    {
      "cell_type": "code",
      "execution_count": 39,
      "metadata": {},
      "outputs": [],
      "source": [
        "dataset.drop(['Order ID'], axis=1, inplace=True)"
      ]
    },
    {
      "cell_type": "code",
      "execution_count": 40,
      "metadata": {},
      "outputs": [
        {
          "data": {
            "text/plain": [
              "Customer Name    0\n",
              "Category         0\n",
              "Sub Category     0\n",
              "City             0\n",
              "Order Date       0\n",
              "Region           0\n",
              "Sales            0\n",
              "Discount         0\n",
              "Profit           0\n",
              "State            0\n",
              "profit_margin    0\n",
              "Cluster          0\n",
              "dtype: int64"
            ]
          },
          "execution_count": 40,
          "metadata": {},
          "output_type": "execute_result"
        }
      ],
      "source": [
        "dataset.isna().sum()"
      ]
    },
    {
      "cell_type": "code",
      "execution_count": 41,
      "metadata": {},
      "outputs": [],
      "source": [
        "dataset.dropna(inplace=True)"
      ]
    },
    {
      "cell_type": "code",
      "execution_count": 42,
      "metadata": {},
      "outputs": [],
      "source": [
        "def remove_outliers(data: pd.DataFrame, column: str) -> pd.Series:\n",
        "    q3, q1 = np.nanpercentile(data[column], [75, 25])\n",
        "    iqr = q3 - q1\n",
        "    upper_bound = q3 + 1.5 * iqr\n",
        "    lower_bound = q1 - 1.5 * iqr\n",
        "    data = data[(data[column] > lower_bound) & (data[column] < upper_bound)]\n",
        "\n",
        "    return data\n",
        "\n",
        "dataset = remove_outliers(dataset, 'Discount')\n",
        "dataset = remove_outliers(dataset, 'Sales')\n",
        "dataset = remove_outliers(dataset, 'Profit')"
      ]
    },
    {
      "cell_type": "code",
      "execution_count": 43,
      "metadata": {},
      "outputs": [
        {
          "data": {
            "text/html": [
              "<div>\n",
              "<style scoped>\n",
              "    .dataframe tbody tr th:only-of-type {\n",
              "        vertical-align: middle;\n",
              "    }\n",
              "\n",
              "    .dataframe tbody tr th {\n",
              "        vertical-align: top;\n",
              "    }\n",
              "\n",
              "    .dataframe thead th {\n",
              "        text-align: right;\n",
              "    }\n",
              "</style>\n",
              "<table border=\"1\" class=\"dataframe\">\n",
              "  <thead>\n",
              "    <tr style=\"text-align: right;\">\n",
              "      <th></th>\n",
              "      <th>Customer Name</th>\n",
              "      <th>Category</th>\n",
              "      <th>Sub Category</th>\n",
              "      <th>City</th>\n",
              "      <th>Order Date</th>\n",
              "      <th>Region</th>\n",
              "      <th>Sales</th>\n",
              "      <th>Discount</th>\n",
              "      <th>Profit</th>\n",
              "      <th>State</th>\n",
              "      <th>profit_margin</th>\n",
              "      <th>Cluster</th>\n",
              "    </tr>\n",
              "  </thead>\n",
              "  <tbody>\n",
              "    <tr>\n",
              "      <th>0</th>\n",
              "      <td>Harish</td>\n",
              "      <td>Oil &amp; Masala</td>\n",
              "      <td>Masalas</td>\n",
              "      <td>Vellore</td>\n",
              "      <td>11-08-2017</td>\n",
              "      <td>North</td>\n",
              "      <td>1254</td>\n",
              "      <td>0.12</td>\n",
              "      <td>401.28</td>\n",
              "      <td>Tamil Nadu</td>\n",
              "      <td>0.32</td>\n",
              "      <td>Medium</td>\n",
              "    </tr>\n",
              "    <tr>\n",
              "      <th>1</th>\n",
              "      <td>Sudha</td>\n",
              "      <td>Beverages</td>\n",
              "      <td>Health Drinks</td>\n",
              "      <td>Krishnagiri</td>\n",
              "      <td>11-08-2017</td>\n",
              "      <td>South</td>\n",
              "      <td>749</td>\n",
              "      <td>0.18</td>\n",
              "      <td>149.80</td>\n",
              "      <td>Tamil Nadu</td>\n",
              "      <td>0.20</td>\n",
              "      <td>Medium</td>\n",
              "    </tr>\n",
              "    <tr>\n",
              "      <th>2</th>\n",
              "      <td>Hussain</td>\n",
              "      <td>Food Grains</td>\n",
              "      <td>Atta &amp; Flour</td>\n",
              "      <td>Perambalur</td>\n",
              "      <td>06-12-2017</td>\n",
              "      <td>West</td>\n",
              "      <td>2360</td>\n",
              "      <td>0.21</td>\n",
              "      <td>165.20</td>\n",
              "      <td>Tamil Nadu</td>\n",
              "      <td>0.07</td>\n",
              "      <td>Low</td>\n",
              "    </tr>\n",
              "    <tr>\n",
              "      <th>3</th>\n",
              "      <td>Jackson</td>\n",
              "      <td>Fruits &amp; Veggies</td>\n",
              "      <td>Fresh Vegetables</td>\n",
              "      <td>Dharmapuri</td>\n",
              "      <td>10-11-2016</td>\n",
              "      <td>South</td>\n",
              "      <td>896</td>\n",
              "      <td>0.25</td>\n",
              "      <td>89.60</td>\n",
              "      <td>Tamil Nadu</td>\n",
              "      <td>0.10</td>\n",
              "      <td>Low</td>\n",
              "    </tr>\n",
              "    <tr>\n",
              "      <th>4</th>\n",
              "      <td>Ridhesh</td>\n",
              "      <td>Food Grains</td>\n",
              "      <td>Organic Staples</td>\n",
              "      <td>Ooty</td>\n",
              "      <td>10-11-2016</td>\n",
              "      <td>South</td>\n",
              "      <td>2355</td>\n",
              "      <td>0.26</td>\n",
              "      <td>918.45</td>\n",
              "      <td>Tamil Nadu</td>\n",
              "      <td>0.39</td>\n",
              "      <td>High</td>\n",
              "    </tr>\n",
              "  </tbody>\n",
              "</table>\n",
              "</div>"
            ],
            "text/plain": [
              "  Customer Name          Category      Sub Category         City  Order Date  \\\n",
              "0        Harish      Oil & Masala           Masalas      Vellore  11-08-2017   \n",
              "1         Sudha         Beverages     Health Drinks  Krishnagiri  11-08-2017   \n",
              "2       Hussain       Food Grains      Atta & Flour   Perambalur  06-12-2017   \n",
              "3       Jackson  Fruits & Veggies  Fresh Vegetables   Dharmapuri  10-11-2016   \n",
              "4       Ridhesh       Food Grains   Organic Staples         Ooty  10-11-2016   \n",
              "\n",
              "  Region  Sales  Discount  Profit       State  profit_margin Cluster  \n",
              "0  North   1254      0.12  401.28  Tamil Nadu           0.32  Medium  \n",
              "1  South    749      0.18  149.80  Tamil Nadu           0.20  Medium  \n",
              "2   West   2360      0.21  165.20  Tamil Nadu           0.07     Low  \n",
              "3  South    896      0.25   89.60  Tamil Nadu           0.10     Low  \n",
              "4  South   2355      0.26  918.45  Tamil Nadu           0.39    High  "
            ]
          },
          "execution_count": 43,
          "metadata": {},
          "output_type": "execute_result"
        }
      ],
      "source": [
        "dataset.head()"
      ]
    },
    {
      "cell_type": "code",
      "execution_count": 44,
      "metadata": {},
      "outputs": [
        {
          "data": {
            "text/plain": [
              "<AxesSubplot:xlabel='Cluster', ylabel='Count'>"
            ]
          },
          "execution_count": 44,
          "metadata": {},
          "output_type": "execute_result"
        },
        {
          "data": {
            "image/png": "[encoded data removed]",
            "text/plain": [
              "<Figure size 640x480 with 1 Axes>"
            ]
          },
          "metadata": {},
          "output_type": "display_data"
        }
      ],
      "source": [
        "sns.histplot(dataset['Cluster'])"
      ]
    },
    {
      "cell_type": "code",
      "execution_count": 45,
      "metadata": {},
      "outputs": [],
      "source": [
        "encoder = LabelEncoder()\n",
        "scaler = StandardScaler()\n",
        "onehot = OneHotEncoder()\n",
        "minmaxscaler = MinMaxScaler()"
      ]
    },
    {
      "cell_type": "code",
      "execution_count": 46,
      "metadata": {},
      "outputs": [],
      "source": [
        "dataset[\"Order Date\"] = pd.to_datetime(dataset[\"Order Date\"])\n",
        "dataset[\"Order Date\"] = dataset[\"Order Date\"].dt.month\n",
        "dataset[\"Customer Name\"] = onehot.fit_transform(dataset[\"Customer Name\"].values.reshape(-1, 1)).toarray()\n",
        "dataset[\"Category\"] = onehot.fit_transform(dataset[\"Category\"].values.reshape(-1, 1)).toarray()\n",
        "dataset[\"City\"] = onehot.fit_transform(dataset[\"City\"].values.reshape(-1, 1)).toarray()\n",
        "dataset[\"Region\"] = onehot.fit_transform(dataset[\"Region\"].values.reshape(-1, 1)).toarray()\n",
        "dataset[\"State\"] = onehot.fit_transform(dataset[\"State\"].values.reshape(-1, 1)).toarray()\n",
        "dataset[\"Sub Category\"] = onehot.fit_transform(dataset[\"Sub Category\"].values.reshape(-1, 1)).toarray()\n",
        "dataset[\"Order Date\"] = encoder.fit_transform(dataset[\"Order Date\"])"
      ]
    },
    {
      "cell_type": "code",
      "execution_count": 47,
      "metadata": {},
      "outputs": [],
      "source": [
        "dataset[[\"Sales\", \"Discount\", \"profit_margin\",\"Profit\"]] = scaler.fit_transform(dataset[[\"Sales\", \"Discount\", \"profit_margin\",\"Profit\"]])"
      ]
    },
    {
      "cell_type": "code",
      "execution_count": 48,
      "metadata": {},
      "outputs": [],
      "source": [
        "class_to_numeric = {'Low': 0, 'Medium': 1, 'High': 2}\n",
        "dataset['Cluster'] = [class_to_numeric[label] for label in dataset['Cluster']]"
      ]
    },
    {
      "cell_type": "code",
      "execution_count": 49,
      "metadata": {},
      "outputs": [
        {
          "data": {
            "text/html": [
              "<div>\n",
              "<style scoped>\n",
              "    .dataframe tbody tr th:only-of-type {\n",
              "        vertical-align: middle;\n",
              "    }\n",
              "\n",
              "    .dataframe tbody tr th {\n",
              "        vertical-align: top;\n",
              "    }\n",
              "\n",
              "    .dataframe thead th {\n",
              "        text-align: right;\n",
              "    }\n",
              "</style>\n",
              "<table border=\"1\" class=\"dataframe\">\n",
              "  <thead>\n",
              "    <tr style=\"text-align: right;\">\n",
              "      <th></th>\n",
              "      <th>Customer Name</th>\n",
              "      <th>Category</th>\n",
              "      <th>Sub Category</th>\n",
              "      <th>City</th>\n",
              "      <th>Order Date</th>\n",
              "      <th>Region</th>\n",
              "      <th>Sales</th>\n",
              "      <th>Discount</th>\n",
              "      <th>Profit</th>\n",
              "      <th>State</th>\n",
              "      <th>profit_margin</th>\n",
              "      <th>Cluster</th>\n",
              "    </tr>\n",
              "  </thead>\n",
              "  <tbody>\n",
              "    <tr>\n",
              "      <th>0</th>\n",
              "      <td>0.0</td>\n",
              "      <td>0.0</td>\n",
              "      <td>0.0</td>\n",
              "      <td>0.0</td>\n",
              "      <td>10</td>\n",
              "      <td>0.0</td>\n",
              "      <td>-0.414559</td>\n",
              "      <td>-1.430908</td>\n",
              "      <td>0.124389</td>\n",
              "      <td>1.0</td>\n",
              "      <td>0.595874</td>\n",
              "      <td>1</td>\n",
              "    </tr>\n",
              "    <tr>\n",
              "      <th>1</th>\n",
              "      <td>0.0</td>\n",
              "      <td>0.0</td>\n",
              "      <td>0.0</td>\n",
              "      <td>0.0</td>\n",
              "      <td>10</td>\n",
              "      <td>0.0</td>\n",
              "      <td>-1.291968</td>\n",
              "      <td>-0.627370</td>\n",
              "      <td>-0.941183</td>\n",
              "      <td>1.0</td>\n",
              "      <td>-0.416872</td>\n",
              "      <td>1</td>\n",
              "    </tr>\n",
              "    <tr>\n",
              "      <th>2</th>\n",
              "      <td>0.0</td>\n",
              "      <td>0.0</td>\n",
              "      <td>1.0</td>\n",
              "      <td>0.0</td>\n",
              "      <td>5</td>\n",
              "      <td>0.0</td>\n",
              "      <td>1.507054</td>\n",
              "      <td>-0.225601</td>\n",
              "      <td>-0.875930</td>\n",
              "      <td>1.0</td>\n",
              "      <td>-1.514014</td>\n",
              "      <td>0</td>\n",
              "    </tr>\n",
              "    <tr>\n",
              "      <th>3</th>\n",
              "      <td>0.0</td>\n",
              "      <td>0.0</td>\n",
              "      <td>0.0</td>\n",
              "      <td>0.0</td>\n",
              "      <td>9</td>\n",
              "      <td>0.0</td>\n",
              "      <td>-1.036563</td>\n",
              "      <td>0.310092</td>\n",
              "      <td>-1.196262</td>\n",
              "      <td>1.0</td>\n",
              "      <td>-1.260827</td>\n",
              "      <td>0</td>\n",
              "    </tr>\n",
              "    <tr>\n",
              "      <th>4</th>\n",
              "      <td>0.0</td>\n",
              "      <td>0.0</td>\n",
              "      <td>0.0</td>\n",
              "      <td>0.0</td>\n",
              "      <td>9</td>\n",
              "      <td>0.0</td>\n",
              "      <td>1.498367</td>\n",
              "      <td>0.444015</td>\n",
              "      <td>2.315743</td>\n",
              "      <td>1.0</td>\n",
              "      <td>1.186643</td>\n",
              "      <td>2</td>\n",
              "    </tr>\n",
              "  </tbody>\n",
              "</table>\n",
              "</div>"
            ],
            "text/plain": [
              "   Customer Name  Category  Sub Category  City  Order Date  Region     Sales  \\\n",
              "0            0.0       0.0           0.0   0.0          10     0.0 -0.414559   \n",
              "1            0.0       0.0           0.0   0.0          10     0.0 -1.291968   \n",
              "2            0.0       0.0           1.0   0.0           5     0.0  1.507054   \n",
              "3            0.0       0.0           0.0   0.0           9     0.0 -1.036563   \n",
              "4            0.0       0.0           0.0   0.0           9     0.0  1.498367   \n",
              "\n",
              "   Discount    Profit  State  profit_margin  Cluster  \n",
              "0 -1.430908  0.124389    1.0       0.595874        1  \n",
              "1 -0.627370 -0.941183    1.0      -0.416872        1  \n",
              "2 -0.225601 -0.875930    1.0      -1.514014        0  \n",
              "3  0.310092 -1.196262    1.0      -1.260827        0  \n",
              "4  0.444015  2.315743    1.0       1.186643        2  "
            ]
          },
          "execution_count": 49,
          "metadata": {},
          "output_type": "execute_result"
        }
      ],
      "source": [
        "dataset.head()"
      ]
    },
    {
      "cell_type": "markdown",
      "metadata": {
        "id": "iVVBNffUZBKf"
      },
      "source": [
        "# **Split Data**"
      ]
    },
    {
      "cell_type": "code",
      "execution_count": 50,
      "metadata": {
        "id": "4qJbO_FaZBKh"
      },
      "outputs": [],
      "source": [
        "X = dataset.drop(['Cluster','Sub Category','State','Profit','profit_margin'],axis=1)\n",
        "y = dataset['Cluster']"
      ]
    },
    {
      "cell_type": "code",
      "execution_count": 51,
      "metadata": {
        "colab": {
          "base_uri": "https://localhost:8080/",
          "height": 206
        },
        "id": "8iy2g1HGZBKi",
        "outputId": "b6c33087-aeef-45cb-d8d8-42a810efd28a"
      },
      "outputs": [
        {
          "data": {
            "text/html": [
              "<div>\n",
              "<style scoped>\n",
              "    .dataframe tbody tr th:only-of-type {\n",
              "        vertical-align: middle;\n",
              "    }\n",
              "\n",
              "    .dataframe tbody tr th {\n",
              "        vertical-align: top;\n",
              "    }\n",
              "\n",
              "    .dataframe thead th {\n",
              "        text-align: right;\n",
              "    }\n",
              "</style>\n",
              "<table border=\"1\" class=\"dataframe\">\n",
              "  <thead>\n",
              "    <tr style=\"text-align: right;\">\n",
              "      <th></th>\n",
              "      <th>Customer Name</th>\n",
              "      <th>Category</th>\n",
              "      <th>City</th>\n",
              "      <th>Order Date</th>\n",
              "      <th>Region</th>\n",
              "      <th>Sales</th>\n",
              "      <th>Discount</th>\n",
              "    </tr>\n",
              "  </thead>\n",
              "  <tbody>\n",
              "    <tr>\n",
              "      <th>0</th>\n",
              "      <td>0.0</td>\n",
              "      <td>0.0</td>\n",
              "      <td>0.0</td>\n",
              "      <td>10</td>\n",
              "      <td>0.0</td>\n",
              "      <td>-0.414559</td>\n",
              "      <td>-1.430908</td>\n",
              "    </tr>\n",
              "    <tr>\n",
              "      <th>1</th>\n",
              "      <td>0.0</td>\n",
              "      <td>0.0</td>\n",
              "      <td>0.0</td>\n",
              "      <td>10</td>\n",
              "      <td>0.0</td>\n",
              "      <td>-1.291968</td>\n",
              "      <td>-0.627370</td>\n",
              "    </tr>\n",
              "    <tr>\n",
              "      <th>2</th>\n",
              "      <td>0.0</td>\n",
              "      <td>0.0</td>\n",
              "      <td>0.0</td>\n",
              "      <td>5</td>\n",
              "      <td>0.0</td>\n",
              "      <td>1.507054</td>\n",
              "      <td>-0.225601</td>\n",
              "    </tr>\n",
              "    <tr>\n",
              "      <th>3</th>\n",
              "      <td>0.0</td>\n",
              "      <td>0.0</td>\n",
              "      <td>0.0</td>\n",
              "      <td>9</td>\n",
              "      <td>0.0</td>\n",
              "      <td>-1.036563</td>\n",
              "      <td>0.310092</td>\n",
              "    </tr>\n",
              "    <tr>\n",
              "      <th>4</th>\n",
              "      <td>0.0</td>\n",
              "      <td>0.0</td>\n",
              "      <td>0.0</td>\n",
              "      <td>9</td>\n",
              "      <td>0.0</td>\n",
              "      <td>1.498367</td>\n",
              "      <td>0.444015</td>\n",
              "    </tr>\n",
              "  </tbody>\n",
              "</table>\n",
              "</div>"
            ],
            "text/plain": [
              "   Customer Name  Category  City  Order Date  Region     Sales  Discount\n",
              "0            0.0       0.0   0.0          10     0.0 -0.414559 -1.430908\n",
              "1            0.0       0.0   0.0          10     0.0 -1.291968 -0.627370\n",
              "2            0.0       0.0   0.0           5     0.0  1.507054 -0.225601\n",
              "3            0.0       0.0   0.0           9     0.0 -1.036563  0.310092\n",
              "4            0.0       0.0   0.0           9     0.0  1.498367  0.444015"
            ]
          },
          "execution_count": 51,
          "metadata": {},
          "output_type": "execute_result"
        }
      ],
      "source": [
        "X.head()"
      ]
    },
    {
      "cell_type": "code",
      "execution_count": 52,
      "metadata": {
        "id": "7tyhjwY2ZBKj"
      },
      "outputs": [],
      "source": [
        "X_train, X_temp, y_train, y_temp = train_test_split(X, y, test_size=0.2, random_state=42)\n",
        "X_val, X_test, y_val, y_test = train_test_split(X_temp, y_temp, test_size=0.5, random_state=42)"
      ]
    },
    {
      "cell_type": "code",
      "execution_count": 53,
      "metadata": {},
      "outputs": [
        {
          "data": {
            "text/plain": [
              "<AxesSubplot:>"
            ]
          },
          "execution_count": 53,
          "metadata": {},
          "output_type": "execute_result"
        },
        {
          "data": {
            "image/png": "[encoded data removed]",
            "text/plain": [
              "<Figure size 640x480 with 2 Axes>"
            ]
          },
          "metadata": {},
          "output_type": "display_data"
        }
      ],
      "source": [
        "heatcol = X.corr()\n",
        "sns.heatmap(heatcol,cmap=\"BrBG\",annot=True)"
      ]
    },
    {
      "cell_type": "code",
      "execution_count": 54,
      "metadata": {
        "colab": {
          "base_uri": "https://localhost:8080/"
        },
        "id": "ERs6RMJLeqBK",
        "outputId": "bd44d89b-8d3c-485b-d780-317f954e57fa"
      },
      "outputs": [
        {
          "name": "stdout",
          "output_type": "stream",
          "text": [
            "Dimension of Train set (7960, 7)\n",
            "Dimension of Val set (995, 7)\n",
            "Dimension of Test set (996, 7) \n",
            "\n",
            "Number of numeric features: 7\n"
          ]
        }
      ],
      "source": [
        "print(\"Dimension of Train set\",X_train.shape)\n",
        "print(\"Dimension of Val set\",X_val.shape)\n",
        "print(\"Dimension of Test set\",X_test.shape,\"\\n\")\n",
        "\n",
        "num_cols = X_train._get_numeric_data().columns\n",
        "print(\"Number of numeric features:\",num_cols.size)"
      ]
    },
    {
      "cell_type": "markdown",
      "metadata": {
        "id": "-v-NPFufZBKj"
      },
      "source": [
        "# **RNN**"
      ]
    },
    {
      "cell_type": "code",
      "execution_count": 55,
      "metadata": {},
      "outputs": [],
      "source": [
        "from tensorflow.keras.models import Sequential\n",
        "from tensorflow.keras.layers import Dense,SimpleRNN,Dropout\n",
        "from tensorflow.keras.utils import to_categorical"
      ]
    },
    {
      "cell_type": "code",
      "execution_count": 56,
      "metadata": {},
      "outputs": [],
      "source": [
        "y_train = to_categorical(y_train, num_classes=3)\n",
        "y_val = to_categorical(y_val, num_classes=3)"
      ]
    },
    {
      "cell_type": "code",
      "execution_count": 57,
      "metadata": {},
      "outputs": [],
      "source": [
        "model = Sequential()\n",
        "model.add(SimpleRNN(64, return_sequences = False, input_shape=(X_train.shape[1], 1)))\n",
        "\n",
        "model.add(Dense(64, activation='relu'))\n",
        "model.add(Dense(units=3, activation='sigmoid'))"
      ]
    },
    {
      "cell_type": "code",
      "execution_count": 58,
      "metadata": {},
      "outputs": [
        {
          "name": "stdout",
          "output_type": "stream",
          "text": [
            "Epoch 1/100\n"
          ]
        },
        {
          "name": "stdout",
          "output_type": "stream",
          "text": [
            "249/249 [==============================] - 2s 3ms/step - loss: 1.1057 - categorical_accuracy: 0.3305 - val_loss: 1.1014 - val_categorical_accuracy: 0.3186\n",
            "Epoch 2/100\n",
            "249/249 [==============================] - 1s 2ms/step - loss: 1.0999 - categorical_accuracy: 0.3426 - val_loss: 1.1077 - val_categorical_accuracy: 0.3276\n",
            "Epoch 3/100\n",
            "249/249 [==============================] - 1s 2ms/step - loss: 1.0985 - categorical_accuracy: 0.3476 - val_loss: 1.1067 - val_categorical_accuracy: 0.3417\n",
            "Epoch 4/100\n",
            "249/249 [==============================] - 0s 2ms/step - loss: 1.0983 - categorical_accuracy: 0.3436 - val_loss: 1.1056 - val_categorical_accuracy: 0.3276\n",
            "Epoch 5/100\n",
            "249/249 [==============================] - 0s 2ms/step - loss: 1.0973 - categorical_accuracy: 0.3511 - val_loss: 1.1013 - val_categorical_accuracy: 0.3296\n",
            "Epoch 6/100\n",
            "249/249 [==============================] - 0s 2ms/step - loss: 1.0976 - categorical_accuracy: 0.3436 - val_loss: 1.1036 - val_categorical_accuracy: 0.3307\n",
            "Epoch 7/100\n",
            "249/249 [==============================] - 0s 2ms/step - loss: 1.0974 - categorical_accuracy: 0.3441 - val_loss: 1.0996 - val_categorical_accuracy: 0.3457\n",
            "Epoch 8/100\n",
            "249/249 [==============================] - 0s 2ms/step - loss: 1.0966 - categorical_accuracy: 0.3469 - val_loss: 1.1024 - val_categorical_accuracy: 0.3296\n",
            "Epoch 9/100\n",
            "249/249 [==============================] - 0s 2ms/step - loss: 1.0961 - categorical_accuracy: 0.3503 - val_loss: 1.1000 - val_categorical_accuracy: 0.3266\n",
            "Epoch 10/100\n",
            "249/249 [==============================] - 0s 2ms/step - loss: 1.0965 - categorical_accuracy: 0.3560 - val_loss: 1.1033 - val_categorical_accuracy: 0.3317\n",
            "Epoch 11/100\n",
            "249/249 [==============================] - 0s 2ms/step - loss: 1.0961 - categorical_accuracy: 0.3500 - val_loss: 1.1011 - val_categorical_accuracy: 0.3256\n",
            "Epoch 12/100\n",
            "249/249 [==============================] - 0s 2ms/step - loss: 1.0959 - categorical_accuracy: 0.3583 - val_loss: 1.1030 - val_categorical_accuracy: 0.3196\n",
            "Epoch 13/100\n",
            "249/249 [==============================] - 0s 2ms/step - loss: 1.0959 - categorical_accuracy: 0.3509 - val_loss: 1.1003 - val_categorical_accuracy: 0.3216\n",
            "Epoch 14/100\n",
            "249/249 [==============================] - 0s 2ms/step - loss: 1.0954 - categorical_accuracy: 0.3559 - val_loss: 1.1043 - val_categorical_accuracy: 0.3337\n",
            "Epoch 15/100\n",
            "249/249 [==============================] - 0s 2ms/step - loss: 1.0955 - categorical_accuracy: 0.3528 - val_loss: 1.1055 - val_categorical_accuracy: 0.3166\n",
            "Epoch 16/100\n",
            "249/249 [==============================] - 0s 2ms/step - loss: 1.0955 - categorical_accuracy: 0.3524 - val_loss: 1.1000 - val_categorical_accuracy: 0.3327\n",
            "Epoch 17/100\n",
            "249/249 [==============================] - 1s 2ms/step - loss: 1.0953 - categorical_accuracy: 0.3543 - val_loss: 1.1007 - val_categorical_accuracy: 0.3236\n",
            "Epoch 18/100\n",
            "249/249 [==============================] - 1s 2ms/step - loss: 1.0947 - categorical_accuracy: 0.3599 - val_loss: 1.1036 - val_categorical_accuracy: 0.3226\n",
            "Epoch 19/100\n",
            "249/249 [==============================] - 0s 2ms/step - loss: 1.0951 - categorical_accuracy: 0.3515 - val_loss: 1.1016 - val_categorical_accuracy: 0.3387\n",
            "Epoch 20/100\n",
            "249/249 [==============================] - 1s 2ms/step - loss: 1.0944 - categorical_accuracy: 0.3526 - val_loss: 1.1034 - val_categorical_accuracy: 0.3317\n",
            "Epoch 21/100\n",
            "249/249 [==============================] - 0s 2ms/step - loss: 1.0955 - categorical_accuracy: 0.3585 - val_loss: 1.1016 - val_categorical_accuracy: 0.3387\n",
            "Epoch 22/100\n",
            "249/249 [==============================] - 0s 2ms/step - loss: 1.0939 - categorical_accuracy: 0.3579 - val_loss: 1.1085 - val_categorical_accuracy: 0.3367\n",
            "Epoch 23/100\n",
            "249/249 [==============================] - 1s 2ms/step - loss: 1.0940 - categorical_accuracy: 0.3553 - val_loss: 1.1049 - val_categorical_accuracy: 0.3186\n",
            "Epoch 24/100\n",
            "249/249 [==============================] - 0s 2ms/step - loss: 1.0941 - categorical_accuracy: 0.3588 - val_loss: 1.1004 - val_categorical_accuracy: 0.3337\n",
            "Epoch 25/100\n",
            "249/249 [==============================] - 0s 2ms/step - loss: 1.0933 - categorical_accuracy: 0.3558 - val_loss: 1.1047 - val_categorical_accuracy: 0.3437\n",
            "Epoch 26/100\n",
            "249/249 [==============================] - 0s 2ms/step - loss: 1.0943 - categorical_accuracy: 0.3526 - val_loss: 1.1059 - val_categorical_accuracy: 0.3397\n",
            "Epoch 27/100\n",
            "249/249 [==============================] - 0s 2ms/step - loss: 1.0938 - categorical_accuracy: 0.3564 - val_loss: 1.1033 - val_categorical_accuracy: 0.3226\n",
            "Epoch 28/100\n",
            "249/249 [==============================] - 0s 2ms/step - loss: 1.0934 - categorical_accuracy: 0.3626 - val_loss: 1.1044 - val_categorical_accuracy: 0.3397\n",
            "Epoch 29/100\n",
            "249/249 [==============================] - 0s 2ms/step - loss: 1.0937 - categorical_accuracy: 0.3589 - val_loss: 1.1020 - val_categorical_accuracy: 0.3276\n",
            "Epoch 30/100\n",
            "249/249 [==============================] - 1s 2ms/step - loss: 1.0928 - categorical_accuracy: 0.3611 - val_loss: 1.1007 - val_categorical_accuracy: 0.3226\n",
            "Epoch 31/100\n",
            "249/249 [==============================] - 1s 2ms/step - loss: 1.0931 - categorical_accuracy: 0.3557 - val_loss: 1.1054 - val_categorical_accuracy: 0.3246\n",
            "Epoch 32/100\n",
            "249/249 [==============================] - 0s 2ms/step - loss: 1.0928 - categorical_accuracy: 0.3573 - val_loss: 1.1052 - val_categorical_accuracy: 0.3246\n",
            "Epoch 33/100\n",
            "249/249 [==============================] - 0s 2ms/step - loss: 1.0927 - categorical_accuracy: 0.3636 - val_loss: 1.1096 - val_categorical_accuracy: 0.3367\n",
            "Epoch 34/100\n",
            "249/249 [==============================] - 0s 2ms/step - loss: 1.0922 - categorical_accuracy: 0.3618 - val_loss: 1.1018 - val_categorical_accuracy: 0.3367\n",
            "Epoch 35/100\n",
            "249/249 [==============================] - 0s 2ms/step - loss: 1.0919 - categorical_accuracy: 0.3623 - val_loss: 1.1030 - val_categorical_accuracy: 0.3347\n",
            "Epoch 36/100\n",
            "249/249 [==============================] - 0s 2ms/step - loss: 1.0913 - categorical_accuracy: 0.3634 - val_loss: 1.1051 - val_categorical_accuracy: 0.3246\n",
            "Epoch 37/100\n",
            "249/249 [==============================] - 0s 2ms/step - loss: 1.0912 - categorical_accuracy: 0.3606 - val_loss: 1.1026 - val_categorical_accuracy: 0.3196\n",
            "Epoch 38/100\n",
            "249/249 [==============================] - 0s 2ms/step - loss: 1.0907 - categorical_accuracy: 0.3648 - val_loss: 1.1051 - val_categorical_accuracy: 0.3266\n",
            "Epoch 39/100\n",
            "249/249 [==============================] - 0s 2ms/step - loss: 1.0907 - categorical_accuracy: 0.3627 - val_loss: 1.1043 - val_categorical_accuracy: 0.3276\n",
            "Epoch 40/100\n",
            "249/249 [==============================] - 0s 2ms/step - loss: 1.0906 - categorical_accuracy: 0.3636 - val_loss: 1.1004 - val_categorical_accuracy: 0.3347\n",
            "Epoch 41/100\n",
            "249/249 [==============================] - 0s 2ms/step - loss: 1.0901 - categorical_accuracy: 0.3644 - val_loss: 1.1047 - val_categorical_accuracy: 0.3347\n",
            "Epoch 42/100\n",
            "249/249 [==============================] - 0s 2ms/step - loss: 1.0891 - categorical_accuracy: 0.3701 - val_loss: 1.1072 - val_categorical_accuracy: 0.3477\n",
            "Epoch 43/100\n",
            "249/249 [==============================] - 0s 2ms/step - loss: 1.0896 - categorical_accuracy: 0.3604 - val_loss: 1.1016 - val_categorical_accuracy: 0.3296\n",
            "Epoch 44/100\n",
            "249/249 [==============================] - 0s 2ms/step - loss: 1.0894 - categorical_accuracy: 0.3623 - val_loss: 1.1044 - val_categorical_accuracy: 0.3377\n",
            "Epoch 45/100\n",
            "249/249 [==============================] - 0s 2ms/step - loss: 1.0894 - categorical_accuracy: 0.3668 - val_loss: 1.1080 - val_categorical_accuracy: 0.3377\n",
            "Epoch 46/100\n",
            "249/249 [==============================] - 0s 2ms/step - loss: 1.0876 - categorical_accuracy: 0.3663 - val_loss: 1.1050 - val_categorical_accuracy: 0.3437\n",
            "Epoch 47/100\n",
            "249/249 [==============================] - 0s 2ms/step - loss: 1.0878 - categorical_accuracy: 0.3671 - val_loss: 1.1061 - val_categorical_accuracy: 0.3447\n",
            "Epoch 48/100\n",
            "249/249 [==============================] - 0s 2ms/step - loss: 1.0864 - categorical_accuracy: 0.3735 - val_loss: 1.1058 - val_categorical_accuracy: 0.3307\n",
            "Epoch 49/100\n",
            "249/249 [==============================] - 0s 2ms/step - loss: 1.0867 - categorical_accuracy: 0.3720 - val_loss: 1.1106 - val_categorical_accuracy: 0.3357\n",
            "Epoch 50/100\n",
            "249/249 [==============================] - 0s 2ms/step - loss: 1.0858 - categorical_accuracy: 0.3736 - val_loss: 1.1086 - val_categorical_accuracy: 0.3276\n",
            "Epoch 51/100\n",
            "249/249 [==============================] - 0s 2ms/step - loss: 1.0857 - categorical_accuracy: 0.3731 - val_loss: 1.1106 - val_categorical_accuracy: 0.3337\n",
            "Epoch 52/100\n",
            "249/249 [==============================] - 0s 2ms/step - loss: 1.0855 - categorical_accuracy: 0.3751 - val_loss: 1.1085 - val_categorical_accuracy: 0.3367\n",
            "Epoch 53/100\n",
            "249/249 [==============================] - 0s 2ms/step - loss: 1.0850 - categorical_accuracy: 0.3741 - val_loss: 1.1071 - val_categorical_accuracy: 0.3407\n",
            "Epoch 54/100\n",
            "249/249 [==============================] - 0s 2ms/step - loss: 1.0854 - categorical_accuracy: 0.3744 - val_loss: 1.1088 - val_categorical_accuracy: 0.3337\n",
            "Epoch 55/100\n",
            "249/249 [==============================] - 0s 2ms/step - loss: 1.0834 - categorical_accuracy: 0.3788 - val_loss: 1.1103 - val_categorical_accuracy: 0.3317\n",
            "Epoch 56/100\n",
            "249/249 [==============================] - 0s 2ms/step - loss: 1.0843 - categorical_accuracy: 0.3717 - val_loss: 1.1094 - val_categorical_accuracy: 0.3357\n",
            "Epoch 57/100\n",
            "249/249 [==============================] - 0s 2ms/step - loss: 1.0828 - categorical_accuracy: 0.3789 - val_loss: 1.1115 - val_categorical_accuracy: 0.3296\n",
            "Epoch 58/100\n",
            "249/249 [==============================] - 0s 2ms/step - loss: 1.0822 - categorical_accuracy: 0.3793 - val_loss: 1.1072 - val_categorical_accuracy: 0.3397\n",
            "Epoch 59/100\n",
            "249/249 [==============================] - 0s 2ms/step - loss: 1.0820 - categorical_accuracy: 0.3784 - val_loss: 1.1069 - val_categorical_accuracy: 0.3437\n",
            "Epoch 60/100\n",
            "249/249 [==============================] - 0s 2ms/step - loss: 1.0829 - categorical_accuracy: 0.3756 - val_loss: 1.1104 - val_categorical_accuracy: 0.3256\n",
            "Epoch 61/100\n",
            "249/249 [==============================] - 0s 2ms/step - loss: 1.0820 - categorical_accuracy: 0.3761 - val_loss: 1.1178 - val_categorical_accuracy: 0.3397\n",
            "Epoch 62/100\n",
            "249/249 [==============================] - 0s 2ms/step - loss: 1.0807 - categorical_accuracy: 0.3775 - val_loss: 1.1056 - val_categorical_accuracy: 0.3377\n",
            "Epoch 63/100\n",
            "249/249 [==============================] - 0s 2ms/step - loss: 1.0809 - categorical_accuracy: 0.3817 - val_loss: 1.1164 - val_categorical_accuracy: 0.3367\n",
            "Epoch 64/100\n",
            "249/249 [==============================] - 0s 2ms/step - loss: 1.0807 - categorical_accuracy: 0.3747 - val_loss: 1.1100 - val_categorical_accuracy: 0.3397\n",
            "Epoch 65/100\n",
            "249/249 [==============================] - 0s 2ms/step - loss: 1.0793 - categorical_accuracy: 0.3802 - val_loss: 1.1122 - val_categorical_accuracy: 0.3417\n",
            "Epoch 66/100\n",
            "249/249 [==============================] - 0s 2ms/step - loss: 1.0797 - categorical_accuracy: 0.3779 - val_loss: 1.1156 - val_categorical_accuracy: 0.3266\n",
            "Epoch 67/100\n",
            "249/249 [==============================] - 0s 2ms/step - loss: 1.0782 - categorical_accuracy: 0.3768 - val_loss: 1.1137 - val_categorical_accuracy: 0.3327\n",
            "Epoch 68/100\n",
            "249/249 [==============================] - 0s 2ms/step - loss: 1.0786 - categorical_accuracy: 0.3812 - val_loss: 1.1133 - val_categorical_accuracy: 0.3417\n",
            "Epoch 69/100\n",
            "249/249 [==============================] - 0s 2ms/step - loss: 1.0774 - categorical_accuracy: 0.3800 - val_loss: 1.1227 - val_categorical_accuracy: 0.3286\n",
            "Epoch 70/100\n",
            "249/249 [==============================] - 0s 2ms/step - loss: 1.0780 - categorical_accuracy: 0.3807 - val_loss: 1.1223 - val_categorical_accuracy: 0.3377\n",
            "Epoch 71/100\n",
            "249/249 [==============================] - 0s 2ms/step - loss: 1.0780 - categorical_accuracy: 0.3820 - val_loss: 1.1178 - val_categorical_accuracy: 0.3337\n",
            "Epoch 72/100\n",
            "249/249 [==============================] - 0s 2ms/step - loss: 1.0760 - categorical_accuracy: 0.3835 - val_loss: 1.1159 - val_categorical_accuracy: 0.3397\n",
            "Epoch 73/100\n",
            "249/249 [==============================] - 0s 2ms/step - loss: 1.0759 - categorical_accuracy: 0.3884 - val_loss: 1.1161 - val_categorical_accuracy: 0.3427\n",
            "Epoch 74/100\n",
            "249/249 [==============================] - 0s 2ms/step - loss: 1.0754 - categorical_accuracy: 0.3851 - val_loss: 1.1231 - val_categorical_accuracy: 0.3317\n",
            "Epoch 75/100\n",
            "249/249 [==============================] - 0s 2ms/step - loss: 1.0743 - categorical_accuracy: 0.3825 - val_loss: 1.1155 - val_categorical_accuracy: 0.3427\n",
            "Epoch 76/100\n",
            "249/249 [==============================] - 0s 2ms/step - loss: 1.0745 - categorical_accuracy: 0.3847 - val_loss: 1.1227 - val_categorical_accuracy: 0.3296\n",
            "Epoch 77/100\n",
            "249/249 [==============================] - 0s 2ms/step - loss: 1.0737 - categorical_accuracy: 0.3902 - val_loss: 1.1319 - val_categorical_accuracy: 0.3276\n",
            "Epoch 78/100\n",
            "249/249 [==============================] - 0s 2ms/step - loss: 1.0740 - categorical_accuracy: 0.3861 - val_loss: 1.1218 - val_categorical_accuracy: 0.3307\n",
            "Epoch 79/100\n",
            "249/249 [==============================] - 0s 2ms/step - loss: 1.0728 - categorical_accuracy: 0.3876 - val_loss: 1.1257 - val_categorical_accuracy: 0.3307\n",
            "Epoch 80/100\n",
            "249/249 [==============================] - 0s 2ms/step - loss: 1.0725 - categorical_accuracy: 0.3894 - val_loss: 1.1202 - val_categorical_accuracy: 0.3317\n",
            "Epoch 81/100\n",
            "249/249 [==============================] - 0s 2ms/step - loss: 1.0715 - categorical_accuracy: 0.3926 - val_loss: 1.1254 - val_categorical_accuracy: 0.3307\n",
            "Epoch 82/100\n",
            "249/249 [==============================] - 0s 2ms/step - loss: 1.0702 - categorical_accuracy: 0.3883 - val_loss: 1.1286 - val_categorical_accuracy: 0.3307\n",
            "Epoch 83/100\n",
            "249/249 [==============================] - 0s 2ms/step - loss: 1.0711 - categorical_accuracy: 0.3881 - val_loss: 1.1251 - val_categorical_accuracy: 0.3337\n",
            "Epoch 84/100\n",
            "249/249 [==============================] - 0s 2ms/step - loss: 1.0705 - categorical_accuracy: 0.3912 - val_loss: 1.1204 - val_categorical_accuracy: 0.3296\n",
            "Epoch 85/100\n",
            "249/249 [==============================] - 0s 2ms/step - loss: 1.0704 - categorical_accuracy: 0.3858 - val_loss: 1.1267 - val_categorical_accuracy: 0.3337\n",
            "Epoch 86/100\n",
            "249/249 [==============================] - 0s 2ms/step - loss: 1.0694 - categorical_accuracy: 0.3897 - val_loss: 1.1215 - val_categorical_accuracy: 0.3347\n",
            "Epoch 87/100\n",
            "249/249 [==============================] - 0s 2ms/step - loss: 1.0695 - categorical_accuracy: 0.3863 - val_loss: 1.1274 - val_categorical_accuracy: 0.3367\n",
            "Epoch 88/100\n",
            "249/249 [==============================] - 0s 2ms/step - loss: 1.0696 - categorical_accuracy: 0.3903 - val_loss: 1.1216 - val_categorical_accuracy: 0.3296\n",
            "Epoch 89/100\n",
            "249/249 [==============================] - 0s 2ms/step - loss: 1.0685 - categorical_accuracy: 0.3894 - val_loss: 1.1228 - val_categorical_accuracy: 0.3307\n",
            "Epoch 90/100\n",
            "249/249 [==============================] - 0s 2ms/step - loss: 1.0687 - categorical_accuracy: 0.3898 - val_loss: 1.1278 - val_categorical_accuracy: 0.3317\n",
            "Epoch 91/100\n",
            "249/249 [==============================] - 0s 2ms/step - loss: 1.0670 - categorical_accuracy: 0.3872 - val_loss: 1.1324 - val_categorical_accuracy: 0.3357\n",
            "Epoch 92/100\n",
            "249/249 [==============================] - 0s 2ms/step - loss: 1.0669 - categorical_accuracy: 0.3905 - val_loss: 1.1253 - val_categorical_accuracy: 0.3276\n",
            "Epoch 93/100\n",
            "249/249 [==============================] - 0s 2ms/step - loss: 1.0667 - categorical_accuracy: 0.3903 - val_loss: 1.1287 - val_categorical_accuracy: 0.3317\n",
            "Epoch 94/100\n",
            "249/249 [==============================] - 0s 2ms/step - loss: 1.0660 - categorical_accuracy: 0.3938 - val_loss: 1.1260 - val_categorical_accuracy: 0.3427\n",
            "Epoch 95/100\n",
            "249/249 [==============================] - 0s 2ms/step - loss: 1.0661 - categorical_accuracy: 0.3897 - val_loss: 1.1352 - val_categorical_accuracy: 0.3276\n",
            "Epoch 96/100\n",
            "249/249 [==============================] - 0s 2ms/step - loss: 1.0642 - categorical_accuracy: 0.3948 - val_loss: 1.1316 - val_categorical_accuracy: 0.3508\n",
            "Epoch 97/100\n",
            "249/249 [==============================] - 0s 2ms/step - loss: 1.0651 - categorical_accuracy: 0.3956 - val_loss: 1.1314 - val_categorical_accuracy: 0.3417\n",
            "Epoch 98/100\n",
            "249/249 [==============================] - 0s 2ms/step - loss: 1.0651 - categorical_accuracy: 0.3956 - val_loss: 1.1363 - val_categorical_accuracy: 0.3176\n",
            "Epoch 99/100\n",
            "249/249 [==============================] - 0s 2ms/step - loss: 1.0635 - categorical_accuracy: 0.3987 - val_loss: 1.1399 - val_categorical_accuracy: 0.3397\n",
            "Epoch 100/100\n",
            "249/249 [==============================] - 0s 2ms/step - loss: 1.0630 - categorical_accuracy: 0.3925 - val_loss: 1.1345 - val_categorical_accuracy: 0.3296\n",
            "32/32 [==============================] - 0s 1ms/step - loss: 1.1345 - categorical_accuracy: 0.3296\n",
            "Accuracy:  [1.1344971656799316, 0.3296482264995575]\n"
          ]
        }
      ],
      "source": [
        "# mse\n",
        "# mae\n",
        "# binary_crossentropy\n",
        "# categorical_crossentropy\n",
        "# sparse_categorical_crossentropy\n",
        "# hinge\n",
        "# kullback_leibler_divergence\n",
        "model.compile(loss='categorical_crossentropy', optimizer='Adam', metrics=['categorical_accuracy'])\n",
        "\n",
        "history = model.fit(X_train, y_train, epochs=100, batch_size=32, validation_data=(X_val, y_val))\n",
        "\n",
        "accuracy = model.evaluate(X_val, y_val)\n",
        "print(\"Accuracy: \", accuracy)"
      ]
    },
    {
      "cell_type": "code",
      "execution_count": 59,
      "metadata": {},
      "outputs": [
        {
          "name": "stdout",
          "output_type": "stream",
          "text": [
            "32/32 [==============================] - 0s 892us/step\n"
          ]
        }
      ],
      "source": [
        "predictions = model.predict(X_test)\n",
        "y_pred = np.argmax(predictions, axis=1)"
      ]
    },
    {
      "cell_type": "code",
      "execution_count": 60,
      "metadata": {},
      "outputs": [
        {
          "data": {
            "text/plain": [
              "array([0.01053183, 0.01060932, 0.01728345, ..., 0.9253655 , 0.9332275 ,\n",
              "       0.99622756], dtype=float32)"
            ]
          },
          "execution_count": 60,
          "metadata": {},
          "output_type": "execute_result"
        }
      ],
      "source": [
        "np.unique(predictions)"
      ]
    },
    {
      "cell_type": "code",
      "execution_count": 61,
      "metadata": {},
      "outputs": [
        {
          "data": {
            "text/plain": [
              "array([0, 1, 2], dtype=int64)"
            ]
          },
          "execution_count": 61,
          "metadata": {},
          "output_type": "execute_result"
        }
      ],
      "source": [
        "np.unique(y_pred)"
      ]
    },
    {
      "cell_type": "code",
      "execution_count": 62,
      "metadata": {},
      "outputs": [
        {
          "data": {
            "text/plain": [
              "array([0, 1, 2], dtype=int64)"
            ]
          },
          "execution_count": 62,
          "metadata": {},
          "output_type": "execute_result"
        }
      ],
      "source": [
        "np.unique(y_test)"
      ]
    },
    {
      "cell_type": "code",
      "execution_count": 63,
      "metadata": {},
      "outputs": [
        {
          "data": {
            "image/png": "[encoded data removed]",
            "text/plain": [
              "<Figure size 1200x500 with 2 Axes>"
            ]
          },
          "metadata": {},
          "output_type": "display_data"
        }
      ],
      "source": [
        "plt.figure(figsize=(12, 5))\n",
        "plt.subplot(1, 2, 1)\n",
        "plt.plot(history.history['loss'])\n",
        "plt.plot(history.history['val_loss'])\n",
        "plt.title('Loss over epochs')\n",
        "plt.ylabel('Loss')\n",
        "plt.xlabel('Epoch')\n",
        "plt.legend(['Train', 'Validation'], loc='best')\n",
        "\n",
        "plt.subplot(1, 2, 2)\n",
        "plt.plot(history.history['categorical_accuracy'])\n",
        "plt.plot(history.history['val_categorical_accuracy'])\n",
        "plt.title('Accuracy over epochs')\n",
        "plt.ylabel('Accuracy')\n",
        "plt.xlabel('Epoch')\n",
        "plt.legend(['Train', 'Validation'], loc='best')\n",
        "\n",
        "plt.tight_layout()\n",
        "plt.show()\n"
      ]
    },
    {
      "cell_type": "code",
      "execution_count": 64,
      "metadata": {},
      "outputs": [
        {
          "data": {
            "image/png": "[encoded data removed]",
            "text/plain": [
              "<Figure size 640x480 with 2 Axes>"
            ]
          },
          "metadata": {},
          "output_type": "display_data"
        },
        {
          "name": "stdout",
          "output_type": "stream",
          "text": [
            "              precision    recall  f1-score   support\n",
            "\n",
            "           0       0.32      0.63      0.42       327\n",
            "           1       0.38      0.28      0.33       352\n",
            "           2       0.29      0.09      0.13       317\n",
            "\n",
            "    accuracy                           0.33       996\n",
            "   macro avg       0.33      0.33      0.29       996\n",
            "weighted avg       0.33      0.33      0.30       996\n",
            "\n"
          ]
        }
      ],
      "source": [
        "cm = confusion_matrix(y_test, y_pred)\n",
        "disp = ConfusionMatrixDisplay(confusion_matrix=cm)\n",
        "disp.plot(cmap='Blues', values_format='d')\n",
        "plt.title(\"Confusion Matrix: RNN\")\n",
        "plt.show()\n",
        "\n",
        "print(classification_report(y_test, y_pred))"
      ]
    }
  ],
  "metadata": {
    "colab": {
      "provenance": []
    },
    "kernelspec": {
      "display_name": "base",
      "language": "python",
      "name": "python3"
    },
    "language_info": {
      "codemirror_mode": {
        "name": "ipython",
        "version": 3
      },
      "file_extension": ".py",
      "mimetype": "text/x-python",
      "name": "python",
      "nbconvert_exporter": "python",
      "pygments_lexer": "ipython3",
      "version": "3.9.13"
    }
  },
  "nbformat": 4,
  "nbformat_minor": 0
}
