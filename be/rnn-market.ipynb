{
  "cells": [
    {
      "cell_type": "markdown",
      "metadata": {
        "id": "ENxOKpN9Oxo9"
      },
      "source": [
        "# **Libraries and Dataset**"
      ]
    },
    {
      "cell_type": "code",
      "execution_count": 201,
      "metadata": {
        "id": "9J-taP_VZBKX"
      },
      "outputs": [],
      "source": [
        "import numpy as np\n",
        "import pandas as pd\n",
        "import seaborn  as sns\n",
        "from sklearn.model_selection import train_test_split\n",
        "from sklearn.preprocessing import LabelEncoder, OneHotEncoder, StandardScaler\n",
        "from sklearn.model_selection import cross_val_score, GridSearchCV\n",
        "import matplotlib.pyplot as plt\n",
        "from sklearn.metrics import confusion_matrix,classification_report, ConfusionMatrixDisplay"
      ]
    },
    {
      "cell_type": "code",
      "execution_count": 202,
      "metadata": {
        "id": "PF6y1Jx8ZBKb"
      },
      "outputs": [],
      "source": [
        "dataset = pd.read_csv('data/market_cluster.csv', encoding='latin1')\n"
      ]
    },
    {
      "cell_type": "code",
      "execution_count": 203,
      "metadata": {
        "colab": {
          "base_uri": "https://localhost:8080/",
          "height": 206
        },
        "id": "tJhiivZTZBKb",
        "outputId": "08d4e63f-057f-4657-bbd0-59adb7448bab"
      },
      "outputs": [
        {
          "data": {
            "text/html": [
              "<div>\n",
              "<style scoped>\n",
              "    .dataframe tbody tr th:only-of-type {\n",
              "        vertical-align: middle;\n",
              "    }\n",
              "\n",
              "    .dataframe tbody tr th {\n",
              "        vertical-align: top;\n",
              "    }\n",
              "\n",
              "    .dataframe thead th {\n",
              "        text-align: right;\n",
              "    }\n",
              "</style>\n",
              "<table border=\"1\" class=\"dataframe\">\n",
              "  <thead>\n",
              "    <tr style=\"text-align: right;\">\n",
              "      <th></th>\n",
              "      <th>Order ID</th>\n",
              "      <th>Customer Name</th>\n",
              "      <th>Category</th>\n",
              "      <th>Sub Category</th>\n",
              "      <th>City</th>\n",
              "      <th>Order Date</th>\n",
              "      <th>Region</th>\n",
              "      <th>Sales</th>\n",
              "      <th>Discount</th>\n",
              "      <th>Profit</th>\n",
              "      <th>State</th>\n",
              "      <th>profit_margin</th>\n",
              "      <th>Cluster</th>\n",
              "    </tr>\n",
              "  </thead>\n",
              "  <tbody>\n",
              "    <tr>\n",
              "      <th>0</th>\n",
              "      <td>OD1</td>\n",
              "      <td>Harish</td>\n",
              "      <td>Oil &amp; Masala</td>\n",
              "      <td>Masalas</td>\n",
              "      <td>Vellore</td>\n",
              "      <td>11-08-2017</td>\n",
              "      <td>North</td>\n",
              "      <td>1254</td>\n",
              "      <td>0.12</td>\n",
              "      <td>401.28</td>\n",
              "      <td>Tamil Nadu</td>\n",
              "      <td>0.32</td>\n",
              "      <td>Medium</td>\n",
              "    </tr>\n",
              "    <tr>\n",
              "      <th>1</th>\n",
              "      <td>OD2</td>\n",
              "      <td>Sudha</td>\n",
              "      <td>Beverages</td>\n",
              "      <td>Health Drinks</td>\n",
              "      <td>Krishnagiri</td>\n",
              "      <td>11-08-2017</td>\n",
              "      <td>South</td>\n",
              "      <td>749</td>\n",
              "      <td>0.18</td>\n",
              "      <td>149.80</td>\n",
              "      <td>Tamil Nadu</td>\n",
              "      <td>0.20</td>\n",
              "      <td>Medium</td>\n",
              "    </tr>\n",
              "    <tr>\n",
              "      <th>2</th>\n",
              "      <td>OD3</td>\n",
              "      <td>Hussain</td>\n",
              "      <td>Food Grains</td>\n",
              "      <td>Atta &amp; Flour</td>\n",
              "      <td>Perambalur</td>\n",
              "      <td>06-12-2017</td>\n",
              "      <td>West</td>\n",
              "      <td>2360</td>\n",
              "      <td>0.21</td>\n",
              "      <td>165.20</td>\n",
              "      <td>Tamil Nadu</td>\n",
              "      <td>0.07</td>\n",
              "      <td>Low</td>\n",
              "    </tr>\n",
              "    <tr>\n",
              "      <th>3</th>\n",
              "      <td>OD4</td>\n",
              "      <td>Jackson</td>\n",
              "      <td>Fruits &amp; Veggies</td>\n",
              "      <td>Fresh Vegetables</td>\n",
              "      <td>Dharmapuri</td>\n",
              "      <td>10-11-2016</td>\n",
              "      <td>South</td>\n",
              "      <td>896</td>\n",
              "      <td>0.25</td>\n",
              "      <td>89.60</td>\n",
              "      <td>Tamil Nadu</td>\n",
              "      <td>0.10</td>\n",
              "      <td>Low</td>\n",
              "    </tr>\n",
              "    <tr>\n",
              "      <th>4</th>\n",
              "      <td>OD5</td>\n",
              "      <td>Ridhesh</td>\n",
              "      <td>Food Grains</td>\n",
              "      <td>Organic Staples</td>\n",
              "      <td>Ooty</td>\n",
              "      <td>10-11-2016</td>\n",
              "      <td>South</td>\n",
              "      <td>2355</td>\n",
              "      <td>0.26</td>\n",
              "      <td>918.45</td>\n",
              "      <td>Tamil Nadu</td>\n",
              "      <td>0.39</td>\n",
              "      <td>High</td>\n",
              "    </tr>\n",
              "  </tbody>\n",
              "</table>\n",
              "</div>"
            ],
            "text/plain": [
              "  Order ID Customer Name          Category      Sub Category         City  \\\n",
              "0      OD1        Harish      Oil & Masala           Masalas      Vellore   \n",
              "1      OD2         Sudha         Beverages     Health Drinks  Krishnagiri   \n",
              "2      OD3       Hussain       Food Grains      Atta & Flour   Perambalur   \n",
              "3      OD4       Jackson  Fruits & Veggies  Fresh Vegetables   Dharmapuri   \n",
              "4      OD5       Ridhesh       Food Grains   Organic Staples         Ooty   \n",
              "\n",
              "   Order Date Region  Sales  Discount  Profit       State  profit_margin  \\\n",
              "0  11-08-2017  North   1254      0.12  401.28  Tamil Nadu           0.32   \n",
              "1  11-08-2017  South    749      0.18  149.80  Tamil Nadu           0.20   \n",
              "2  06-12-2017   West   2360      0.21  165.20  Tamil Nadu           0.07   \n",
              "3  10-11-2016  South    896      0.25   89.60  Tamil Nadu           0.10   \n",
              "4  10-11-2016  South   2355      0.26  918.45  Tamil Nadu           0.39   \n",
              "\n",
              "  Cluster  \n",
              "0  Medium  \n",
              "1  Medium  \n",
              "2     Low  \n",
              "3     Low  \n",
              "4    High  "
            ]
          },
          "execution_count": 203,
          "metadata": {},
          "output_type": "execute_result"
        }
      ],
      "source": [
        "dataset.head()"
      ]
    },
    {
      "cell_type": "code",
      "execution_count": 204,
      "metadata": {
        "colab": {
          "base_uri": "https://localhost:8080/"
        },
        "id": "LInQP5rWZBKe",
        "outputId": "22e7bb1e-552c-4882-8822-66cf9e5f48da"
      },
      "outputs": [
        {
          "name": "stdout",
          "output_type": "stream",
          "text": [
            "<class 'pandas.core.frame.DataFrame'>\n",
            "RangeIndex: 9994 entries, 0 to 9993\n",
            "Data columns (total 13 columns):\n",
            " #   Column         Non-Null Count  Dtype  \n",
            "---  ------         --------------  -----  \n",
            " 0   Order ID       9994 non-null   object \n",
            " 1   Customer Name  9994 non-null   object \n",
            " 2   Category       9994 non-null   object \n",
            " 3   Sub Category   9994 non-null   object \n",
            " 4   City           9994 non-null   object \n",
            " 5   Order Date     9994 non-null   object \n",
            " 6   Region         9994 non-null   object \n",
            " 7   Sales          9994 non-null   int64  \n",
            " 8   Discount       9994 non-null   float64\n",
            " 9   Profit         9994 non-null   float64\n",
            " 10  State          9994 non-null   object \n",
            " 11  profit_margin  9994 non-null   float64\n",
            " 12  Cluster        9994 non-null   object \n",
            "dtypes: float64(3), int64(1), object(9)\n",
            "memory usage: 1015.1+ KB\n"
          ]
        }
      ],
      "source": [
        "dataset.info()"
      ]
    },
    {
      "cell_type": "code",
      "execution_count": 205,
      "metadata": {},
      "outputs": [
        {
          "data": {
            "text/html": [
              "<div>\n",
              "<style scoped>\n",
              "    .dataframe tbody tr th:only-of-type {\n",
              "        vertical-align: middle;\n",
              "    }\n",
              "\n",
              "    .dataframe tbody tr th {\n",
              "        vertical-align: top;\n",
              "    }\n",
              "\n",
              "    .dataframe thead th {\n",
              "        text-align: right;\n",
              "    }\n",
              "</style>\n",
              "<table border=\"1\" class=\"dataframe\">\n",
              "  <thead>\n",
              "    <tr style=\"text-align: right;\">\n",
              "      <th></th>\n",
              "      <th>Sales</th>\n",
              "      <th>Discount</th>\n",
              "      <th>Profit</th>\n",
              "      <th>profit_margin</th>\n",
              "    </tr>\n",
              "  </thead>\n",
              "  <tbody>\n",
              "    <tr>\n",
              "      <th>count</th>\n",
              "      <td>9994.000000</td>\n",
              "      <td>9994.000000</td>\n",
              "      <td>9994.000000</td>\n",
              "      <td>9994.000000</td>\n",
              "    </tr>\n",
              "    <tr>\n",
              "      <th>mean</th>\n",
              "      <td>1496.596158</td>\n",
              "      <td>0.226817</td>\n",
              "      <td>374.937082</td>\n",
              "      <td>0.250228</td>\n",
              "    </tr>\n",
              "    <tr>\n",
              "      <th>std</th>\n",
              "      <td>577.559036</td>\n",
              "      <td>0.074636</td>\n",
              "      <td>239.932881</td>\n",
              "      <td>0.118919</td>\n",
              "    </tr>\n",
              "    <tr>\n",
              "      <th>min</th>\n",
              "      <td>500.000000</td>\n",
              "      <td>0.100000</td>\n",
              "      <td>25.250000</td>\n",
              "      <td>0.050000</td>\n",
              "    </tr>\n",
              "    <tr>\n",
              "      <th>25%</th>\n",
              "      <td>1000.000000</td>\n",
              "      <td>0.160000</td>\n",
              "      <td>180.022500</td>\n",
              "      <td>0.150000</td>\n",
              "    </tr>\n",
              "    <tr>\n",
              "      <th>50%</th>\n",
              "      <td>1498.000000</td>\n",
              "      <td>0.230000</td>\n",
              "      <td>320.780000</td>\n",
              "      <td>0.250000</td>\n",
              "    </tr>\n",
              "    <tr>\n",
              "      <th>75%</th>\n",
              "      <td>1994.750000</td>\n",
              "      <td>0.290000</td>\n",
              "      <td>525.627500</td>\n",
              "      <td>0.350000</td>\n",
              "    </tr>\n",
              "    <tr>\n",
              "      <th>max</th>\n",
              "      <td>2500.000000</td>\n",
              "      <td>0.350000</td>\n",
              "      <td>1120.950000</td>\n",
              "      <td>0.450000</td>\n",
              "    </tr>\n",
              "  </tbody>\n",
              "</table>\n",
              "</div>"
            ],
            "text/plain": [
              "             Sales     Discount       Profit  profit_margin\n",
              "count  9994.000000  9994.000000  9994.000000    9994.000000\n",
              "mean   1496.596158     0.226817   374.937082       0.250228\n",
              "std     577.559036     0.074636   239.932881       0.118919\n",
              "min     500.000000     0.100000    25.250000       0.050000\n",
              "25%    1000.000000     0.160000   180.022500       0.150000\n",
              "50%    1498.000000     0.230000   320.780000       0.250000\n",
              "75%    1994.750000     0.290000   525.627500       0.350000\n",
              "max    2500.000000     0.350000  1120.950000       0.450000"
            ]
          },
          "execution_count": 205,
          "metadata": {},
          "output_type": "execute_result"
        }
      ],
      "source": [
        "dataset.describe()"
      ]
    },
    {
      "cell_type": "code",
      "execution_count": 206,
      "metadata": {},
      "outputs": [
        {
          "name": "stdout",
          "output_type": "stream",
          "text": [
            "<class 'pandas.core.frame.DataFrame'>\n",
            "RangeIndex: 9994 entries, 0 to 9993\n",
            "Data columns (total 13 columns):\n",
            " #   Column         Non-Null Count  Dtype  \n",
            "---  ------         --------------  -----  \n",
            " 0   Order ID       9994 non-null   object \n",
            " 1   Customer Name  9994 non-null   object \n",
            " 2   Category       9994 non-null   object \n",
            " 3   Sub Category   9994 non-null   object \n",
            " 4   City           9994 non-null   object \n",
            " 5   Order Date     9994 non-null   object \n",
            " 6   Region         9994 non-null   object \n",
            " 7   Sales          9994 non-null   int64  \n",
            " 8   Discount       9994 non-null   float64\n",
            " 9   Profit         9994 non-null   float64\n",
            " 10  State          9994 non-null   object \n",
            " 11  profit_margin  9994 non-null   float64\n",
            " 12  Cluster        9994 non-null   object \n",
            "dtypes: float64(3), int64(1), object(9)\n",
            "memory usage: 1015.1+ KB\n"
          ]
        }
      ],
      "source": [
        "dataset.info()"
      ]
    },
    {
      "cell_type": "markdown",
      "metadata": {},
      "source": [
        "# **Data Cleaning & Preprocessing**"
      ]
    },
    {
      "cell_type": "code",
      "execution_count": 207,
      "metadata": {},
      "outputs": [],
      "source": [
        "dataset.drop(['Order ID'], axis=1, inplace=True)"
      ]
    },
    {
      "cell_type": "code",
      "execution_count": 208,
      "metadata": {},
      "outputs": [
        {
          "data": {
            "text/plain": [
              "Customer Name    0\n",
              "Category         0\n",
              "Sub Category     0\n",
              "City             0\n",
              "Order Date       0\n",
              "Region           0\n",
              "Sales            0\n",
              "Discount         0\n",
              "Profit           0\n",
              "State            0\n",
              "profit_margin    0\n",
              "Cluster          0\n",
              "dtype: int64"
            ]
          },
          "execution_count": 208,
          "metadata": {},
          "output_type": "execute_result"
        }
      ],
      "source": [
        "dataset.isna().sum()"
      ]
    },
    {
      "cell_type": "code",
      "execution_count": 209,
      "metadata": {},
      "outputs": [],
      "source": [
        "dataset.dropna(inplace=True)"
      ]
    },
    {
      "cell_type": "code",
      "execution_count": 210,
      "metadata": {},
      "outputs": [],
      "source": [
        "def remove_outliers(data: pd.DataFrame, column: str) -> pd.Series:\n",
        "    q3, q1 = np.nanpercentile(data[column], [75, 25])\n",
        "    iqr = q3 - q1\n",
        "    upper_bound = q3 + 1.5 * iqr\n",
        "    lower_bound = q1 - 1.5 * iqr\n",
        "    data = data[(data[column] > lower_bound) & (data[column] < upper_bound)]\n",
        "\n",
        "    return data\n",
        "\n",
        "dataset = remove_outliers(dataset, 'Discount')\n",
        "dataset = remove_outliers(dataset, 'Sales')\n",
        "dataset = remove_outliers(dataset, 'Profit')"
      ]
    },
    {
      "cell_type": "code",
      "execution_count": 211,
      "metadata": {},
      "outputs": [
        {
          "data": {
            "text/html": [
              "<div>\n",
              "<style scoped>\n",
              "    .dataframe tbody tr th:only-of-type {\n",
              "        vertical-align: middle;\n",
              "    }\n",
              "\n",
              "    .dataframe tbody tr th {\n",
              "        vertical-align: top;\n",
              "    }\n",
              "\n",
              "    .dataframe thead th {\n",
              "        text-align: right;\n",
              "    }\n",
              "</style>\n",
              "<table border=\"1\" class=\"dataframe\">\n",
              "  <thead>\n",
              "    <tr style=\"text-align: right;\">\n",
              "      <th></th>\n",
              "      <th>Customer Name</th>\n",
              "      <th>Category</th>\n",
              "      <th>Sub Category</th>\n",
              "      <th>City</th>\n",
              "      <th>Order Date</th>\n",
              "      <th>Region</th>\n",
              "      <th>Sales</th>\n",
              "      <th>Discount</th>\n",
              "      <th>Profit</th>\n",
              "      <th>State</th>\n",
              "      <th>profit_margin</th>\n",
              "      <th>Cluster</th>\n",
              "    </tr>\n",
              "  </thead>\n",
              "  <tbody>\n",
              "    <tr>\n",
              "      <th>0</th>\n",
              "      <td>Harish</td>\n",
              "      <td>Oil &amp; Masala</td>\n",
              "      <td>Masalas</td>\n",
              "      <td>Vellore</td>\n",
              "      <td>11-08-2017</td>\n",
              "      <td>North</td>\n",
              "      <td>1254</td>\n",
              "      <td>0.12</td>\n",
              "      <td>401.28</td>\n",
              "      <td>Tamil Nadu</td>\n",
              "      <td>0.32</td>\n",
              "      <td>Medium</td>\n",
              "    </tr>\n",
              "    <tr>\n",
              "      <th>1</th>\n",
              "      <td>Sudha</td>\n",
              "      <td>Beverages</td>\n",
              "      <td>Health Drinks</td>\n",
              "      <td>Krishnagiri</td>\n",
              "      <td>11-08-2017</td>\n",
              "      <td>South</td>\n",
              "      <td>749</td>\n",
              "      <td>0.18</td>\n",
              "      <td>149.80</td>\n",
              "      <td>Tamil Nadu</td>\n",
              "      <td>0.20</td>\n",
              "      <td>Medium</td>\n",
              "    </tr>\n",
              "    <tr>\n",
              "      <th>2</th>\n",
              "      <td>Hussain</td>\n",
              "      <td>Food Grains</td>\n",
              "      <td>Atta &amp; Flour</td>\n",
              "      <td>Perambalur</td>\n",
              "      <td>06-12-2017</td>\n",
              "      <td>West</td>\n",
              "      <td>2360</td>\n",
              "      <td>0.21</td>\n",
              "      <td>165.20</td>\n",
              "      <td>Tamil Nadu</td>\n",
              "      <td>0.07</td>\n",
              "      <td>Low</td>\n",
              "    </tr>\n",
              "    <tr>\n",
              "      <th>3</th>\n",
              "      <td>Jackson</td>\n",
              "      <td>Fruits &amp; Veggies</td>\n",
              "      <td>Fresh Vegetables</td>\n",
              "      <td>Dharmapuri</td>\n",
              "      <td>10-11-2016</td>\n",
              "      <td>South</td>\n",
              "      <td>896</td>\n",
              "      <td>0.25</td>\n",
              "      <td>89.60</td>\n",
              "      <td>Tamil Nadu</td>\n",
              "      <td>0.10</td>\n",
              "      <td>Low</td>\n",
              "    </tr>\n",
              "    <tr>\n",
              "      <th>4</th>\n",
              "      <td>Ridhesh</td>\n",
              "      <td>Food Grains</td>\n",
              "      <td>Organic Staples</td>\n",
              "      <td>Ooty</td>\n",
              "      <td>10-11-2016</td>\n",
              "      <td>South</td>\n",
              "      <td>2355</td>\n",
              "      <td>0.26</td>\n",
              "      <td>918.45</td>\n",
              "      <td>Tamil Nadu</td>\n",
              "      <td>0.39</td>\n",
              "      <td>High</td>\n",
              "    </tr>\n",
              "  </tbody>\n",
              "</table>\n",
              "</div>"
            ],
            "text/plain": [
              "  Customer Name          Category      Sub Category         City  Order Date  \\\n",
              "0        Harish      Oil & Masala           Masalas      Vellore  11-08-2017   \n",
              "1         Sudha         Beverages     Health Drinks  Krishnagiri  11-08-2017   \n",
              "2       Hussain       Food Grains      Atta & Flour   Perambalur  06-12-2017   \n",
              "3       Jackson  Fruits & Veggies  Fresh Vegetables   Dharmapuri  10-11-2016   \n",
              "4       Ridhesh       Food Grains   Organic Staples         Ooty  10-11-2016   \n",
              "\n",
              "  Region  Sales  Discount  Profit       State  profit_margin Cluster  \n",
              "0  North   1254      0.12  401.28  Tamil Nadu           0.32  Medium  \n",
              "1  South    749      0.18  149.80  Tamil Nadu           0.20  Medium  \n",
              "2   West   2360      0.21  165.20  Tamil Nadu           0.07     Low  \n",
              "3  South    896      0.25   89.60  Tamil Nadu           0.10     Low  \n",
              "4  South   2355      0.26  918.45  Tamil Nadu           0.39    High  "
            ]
          },
          "execution_count": 211,
          "metadata": {},
          "output_type": "execute_result"
        }
      ],
      "source": [
        "dataset.head()"
      ]
    },
    {
      "cell_type": "code",
      "execution_count": 212,
      "metadata": {},
      "outputs": [
        {
          "data": {
            "text/plain": [
              "<AxesSubplot:xlabel='Cluster', ylabel='Count'>"
            ]
          },
          "execution_count": 212,
          "metadata": {},
          "output_type": "execute_result"
        },
        {
          "data": {
            "image/png": "[encoded data removed]",
            "text/plain": [
              "<Figure size 640x480 with 1 Axes>"
            ]
          },
          "metadata": {},
          "output_type": "display_data"
        }
      ],
      "source": [
        "sns.histplot(dataset['Cluster'])"
      ]
    },
    {
      "cell_type": "code",
      "execution_count": 213,
      "metadata": {},
      "outputs": [],
      "source": [
        "encoder = LabelEncoder()\n",
        "scaler = StandardScaler()\n",
        "onehot = OneHotEncoder()"
      ]
    },
    {
      "cell_type": "code",
      "execution_count": 214,
      "metadata": {},
      "outputs": [],
      "source": [
        "dataset[\"Order Date\"] = pd.to_datetime(dataset[\"Order Date\"])\n",
        "dataset[\"Order Date\"] = dataset[\"Order Date\"].dt.month\n",
        "dataset[\"Customer Name\"] = encoder.fit_transform(dataset[\"Customer Name\"])\n",
        "dataset[\"Category\"] = encoder.fit_transform(dataset[\"Category\"])\n",
        "dataset[\"City\"] = encoder.fit_transform(dataset[\"City\"])\n",
        "dataset[\"Region\"] = encoder.fit_transform(dataset[\"Region\"])\n",
        "dataset[\"State\"] = encoder.fit_transform(dataset[\"State\"])\n",
        "dataset[\"Sub Category\"] = encoder.fit_transform(dataset[\"Sub Category\"])"
      ]
    },
    {
      "cell_type": "code",
      "execution_count": 215,
      "metadata": {},
      "outputs": [],
      "source": [
        "dataset[[\"Sales\", \"Discount\", \"profit_margin\",\"Profit\",\"Order Date\"]] = scaler.fit_transform(dataset[[\"Sales\", \"Discount\", \"profit_margin\",\"Profit\",\"Order Date\"]])"
      ]
    },
    {
      "cell_type": "code",
      "execution_count": 216,
      "metadata": {},
      "outputs": [],
      "source": [
        "class_to_numeric = {'Low': 0, 'Medium': 1, 'High': 2}\n",
        "dataset['Cluster'] = [class_to_numeric[label] for label in dataset['Cluster']]"
      ]
    },
    {
      "cell_type": "code",
      "execution_count": 217,
      "metadata": {},
      "outputs": [
        {
          "data": {
            "text/html": [
              "<div>\n",
              "<style scoped>\n",
              "    .dataframe tbody tr th:only-of-type {\n",
              "        vertical-align: middle;\n",
              "    }\n",
              "\n",
              "    .dataframe tbody tr th {\n",
              "        vertical-align: top;\n",
              "    }\n",
              "\n",
              "    .dataframe thead th {\n",
              "        text-align: right;\n",
              "    }\n",
              "</style>\n",
              "<table border=\"1\" class=\"dataframe\">\n",
              "  <thead>\n",
              "    <tr style=\"text-align: right;\">\n",
              "      <th></th>\n",
              "      <th>Customer Name</th>\n",
              "      <th>Category</th>\n",
              "      <th>Sub Category</th>\n",
              "      <th>City</th>\n",
              "      <th>Order Date</th>\n",
              "      <th>Region</th>\n",
              "      <th>Sales</th>\n",
              "      <th>Discount</th>\n",
              "      <th>Profit</th>\n",
              "      <th>State</th>\n",
              "      <th>profit_margin</th>\n",
              "      <th>Cluster</th>\n",
              "    </tr>\n",
              "  </thead>\n",
              "  <tbody>\n",
              "    <tr>\n",
              "      <th>0</th>\n",
              "      <td>12</td>\n",
              "      <td>5</td>\n",
              "      <td>14</td>\n",
              "      <td>21</td>\n",
              "      <td>0.971837</td>\n",
              "      <td>2</td>\n",
              "      <td>-0.414559</td>\n",
              "      <td>-1.430908</td>\n",
              "      <td>0.124389</td>\n",
              "      <td>0</td>\n",
              "      <td>0.595874</td>\n",
              "      <td>1</td>\n",
              "    </tr>\n",
              "    <tr>\n",
              "      <th>1</th>\n",
              "      <td>37</td>\n",
              "      <td>1</td>\n",
              "      <td>13</td>\n",
              "      <td>8</td>\n",
              "      <td>0.971837</td>\n",
              "      <td>3</td>\n",
              "      <td>-1.291968</td>\n",
              "      <td>-0.627370</td>\n",
              "      <td>-0.941183</td>\n",
              "      <td>0</td>\n",
              "      <td>-0.416872</td>\n",
              "      <td>1</td>\n",
              "    </tr>\n",
              "    <tr>\n",
              "      <th>2</th>\n",
              "      <td>14</td>\n",
              "      <td>3</td>\n",
              "      <td>0</td>\n",
              "      <td>13</td>\n",
              "      <td>-0.550301</td>\n",
              "      <td>4</td>\n",
              "      <td>1.507054</td>\n",
              "      <td>-0.225601</td>\n",
              "      <td>-0.875930</td>\n",
              "      <td>0</td>\n",
              "      <td>-1.514014</td>\n",
              "      <td>0</td>\n",
              "    </tr>\n",
              "    <tr>\n",
              "      <th>3</th>\n",
              "      <td>15</td>\n",
              "      <td>4</td>\n",
              "      <td>12</td>\n",
              "      <td>4</td>\n",
              "      <td>0.667410</td>\n",
              "      <td>3</td>\n",
              "      <td>-1.036563</td>\n",
              "      <td>0.310092</td>\n",
              "      <td>-1.196262</td>\n",
              "      <td>0</td>\n",
              "      <td>-1.260827</td>\n",
              "      <td>0</td>\n",
              "    </tr>\n",
              "    <tr>\n",
              "      <th>4</th>\n",
              "      <td>28</td>\n",
              "      <td>3</td>\n",
              "      <td>18</td>\n",
              "      <td>12</td>\n",
              "      <td>0.667410</td>\n",
              "      <td>3</td>\n",
              "      <td>1.498367</td>\n",
              "      <td>0.444015</td>\n",
              "      <td>2.315743</td>\n",
              "      <td>0</td>\n",
              "      <td>1.186643</td>\n",
              "      <td>2</td>\n",
              "    </tr>\n",
              "  </tbody>\n",
              "</table>\n",
              "</div>"
            ],
            "text/plain": [
              "   Customer Name  Category  Sub Category  City  Order Date  Region     Sales  \\\n",
              "0             12         5            14    21    0.971837       2 -0.414559   \n",
              "1             37         1            13     8    0.971837       3 -1.291968   \n",
              "2             14         3             0    13   -0.550301       4  1.507054   \n",
              "3             15         4            12     4    0.667410       3 -1.036563   \n",
              "4             28         3            18    12    0.667410       3  1.498367   \n",
              "\n",
              "   Discount    Profit  State  profit_margin  Cluster  \n",
              "0 -1.430908  0.124389      0       0.595874        1  \n",
              "1 -0.627370 -0.941183      0      -0.416872        1  \n",
              "2 -0.225601 -0.875930      0      -1.514014        0  \n",
              "3  0.310092 -1.196262      0      -1.260827        0  \n",
              "4  0.444015  2.315743      0       1.186643        2  "
            ]
          },
          "execution_count": 217,
          "metadata": {},
          "output_type": "execute_result"
        }
      ],
      "source": [
        "dataset.head()"
      ]
    },
    {
      "cell_type": "markdown",
      "metadata": {
        "id": "iVVBNffUZBKf"
      },
      "source": [
        "# **Split Data**"
      ]
    },
    {
      "cell_type": "code",
      "execution_count": 218,
      "metadata": {
        "id": "4qJbO_FaZBKh"
      },
      "outputs": [],
      "source": [
        "X = dataset.drop(['Cluster','Sub Category','State','Profit','profit_margin'],axis=1)\n",
        "y = dataset['Cluster']"
      ]
    },
    {
      "cell_type": "code",
      "execution_count": 219,
      "metadata": {
        "colab": {
          "base_uri": "https://localhost:8080/",
          "height": 206
        },
        "id": "8iy2g1HGZBKi",
        "outputId": "b6c33087-aeef-45cb-d8d8-42a810efd28a"
      },
      "outputs": [
        {
          "data": {
            "text/html": [
              "<div>\n",
              "<style scoped>\n",
              "    .dataframe tbody tr th:only-of-type {\n",
              "        vertical-align: middle;\n",
              "    }\n",
              "\n",
              "    .dataframe tbody tr th {\n",
              "        vertical-align: top;\n",
              "    }\n",
              "\n",
              "    .dataframe thead th {\n",
              "        text-align: right;\n",
              "    }\n",
              "</style>\n",
              "<table border=\"1\" class=\"dataframe\">\n",
              "  <thead>\n",
              "    <tr style=\"text-align: right;\">\n",
              "      <th></th>\n",
              "      <th>Customer Name</th>\n",
              "      <th>Category</th>\n",
              "      <th>City</th>\n",
              "      <th>Order Date</th>\n",
              "      <th>Region</th>\n",
              "      <th>Sales</th>\n",
              "      <th>Discount</th>\n",
              "    </tr>\n",
              "  </thead>\n",
              "  <tbody>\n",
              "    <tr>\n",
              "      <th>0</th>\n",
              "      <td>12</td>\n",
              "      <td>5</td>\n",
              "      <td>21</td>\n",
              "      <td>0.971837</td>\n",
              "      <td>2</td>\n",
              "      <td>-0.414559</td>\n",
              "      <td>-1.430908</td>\n",
              "    </tr>\n",
              "    <tr>\n",
              "      <th>1</th>\n",
              "      <td>37</td>\n",
              "      <td>1</td>\n",
              "      <td>8</td>\n",
              "      <td>0.971837</td>\n",
              "      <td>3</td>\n",
              "      <td>-1.291968</td>\n",
              "      <td>-0.627370</td>\n",
              "    </tr>\n",
              "    <tr>\n",
              "      <th>2</th>\n",
              "      <td>14</td>\n",
              "      <td>3</td>\n",
              "      <td>13</td>\n",
              "      <td>-0.550301</td>\n",
              "      <td>4</td>\n",
              "      <td>1.507054</td>\n",
              "      <td>-0.225601</td>\n",
              "    </tr>\n",
              "    <tr>\n",
              "      <th>3</th>\n",
              "      <td>15</td>\n",
              "      <td>4</td>\n",
              "      <td>4</td>\n",
              "      <td>0.667410</td>\n",
              "      <td>3</td>\n",
              "      <td>-1.036563</td>\n",
              "      <td>0.310092</td>\n",
              "    </tr>\n",
              "    <tr>\n",
              "      <th>4</th>\n",
              "      <td>28</td>\n",
              "      <td>3</td>\n",
              "      <td>12</td>\n",
              "      <td>0.667410</td>\n",
              "      <td>3</td>\n",
              "      <td>1.498367</td>\n",
              "      <td>0.444015</td>\n",
              "    </tr>\n",
              "  </tbody>\n",
              "</table>\n",
              "</div>"
            ],
            "text/plain": [
              "   Customer Name  Category  City  Order Date  Region     Sales  Discount\n",
              "0             12         5    21    0.971837       2 -0.414559 -1.430908\n",
              "1             37         1     8    0.971837       3 -1.291968 -0.627370\n",
              "2             14         3    13   -0.550301       4  1.507054 -0.225601\n",
              "3             15         4     4    0.667410       3 -1.036563  0.310092\n",
              "4             28         3    12    0.667410       3  1.498367  0.444015"
            ]
          },
          "execution_count": 219,
          "metadata": {},
          "output_type": "execute_result"
        }
      ],
      "source": [
        "X.head()"
      ]
    },
    {
      "cell_type": "code",
      "execution_count": 220,
      "metadata": {
        "id": "7tyhjwY2ZBKj"
      },
      "outputs": [],
      "source": [
        "X_train, X_temp, y_train, y_temp = train_test_split(X, y, test_size=0.2, random_state=42)\n",
        "X_val, X_test, y_val, y_test = train_test_split(X_temp, y_temp, test_size=0.5, random_state=42)"
      ]
    },
    {
      "cell_type": "code",
      "execution_count": 221,
      "metadata": {},
      "outputs": [
        {
          "data": {
            "text/plain": [
              "<AxesSubplot:>"
            ]
          },
          "execution_count": 221,
          "metadata": {},
          "output_type": "execute_result"
        },
        {
          "data": {
            "image/png": "[encoded data removed]",
            "text/plain": [
              "<Figure size 640x480 with 2 Axes>"
            ]
          },
          "metadata": {},
          "output_type": "display_data"
        }
      ],
      "source": [
        "heatcol = X.corr()\n",
        "sns.heatmap(heatcol,cmap=\"BrBG\",annot=True)"
      ]
    },
    {
      "cell_type": "code",
      "execution_count": 222,
      "metadata": {
        "colab": {
          "base_uri": "https://localhost:8080/"
        },
        "id": "ERs6RMJLeqBK",
        "outputId": "bd44d89b-8d3c-485b-d780-317f954e57fa"
      },
      "outputs": [
        {
          "name": "stdout",
          "output_type": "stream",
          "text": [
            "Dimension of Train set (7960, 7)\n",
            "Dimension of Val set (995, 7)\n",
            "Dimension of Test set (996, 7) \n",
            "\n",
            "Number of numeric features: 7\n"
          ]
        }
      ],
      "source": [
        "print(\"Dimension of Train set\",X_train.shape)\n",
        "print(\"Dimension of Val set\",X_val.shape)\n",
        "print(\"Dimension of Test set\",X_test.shape,\"\\n\")\n",
        "\n",
        "num_cols = X_train._get_numeric_data().columns\n",
        "print(\"Number of numeric features:\",num_cols.size)"
      ]
    },
    {
      "cell_type": "markdown",
      "metadata": {
        "id": "-v-NPFufZBKj"
      },
      "source": [
        "# **RNN**"
      ]
    },
    {
      "cell_type": "code",
      "execution_count": 223,
      "metadata": {},
      "outputs": [],
      "source": [
        "from tensorflow.keras.models import Sequential\n",
        "from tensorflow.keras.layers import Dense,SimpleRNN,Dropout\n",
        "from tensorflow.keras.utils import to_categorical"
      ]
    },
    {
      "cell_type": "code",
      "execution_count": 224,
      "metadata": {},
      "outputs": [],
      "source": [
        "y_train = to_categorical(y_train, num_classes=3)\n",
        "y_val = to_categorical(y_val, num_classes=3)"
      ]
    },
    {
      "cell_type": "code",
      "execution_count": 225,
      "metadata": {},
      "outputs": [],
      "source": [
        "model = Sequential()\n",
        "model.add(SimpleRNN(64, return_sequences = False, input_shape=(X_train.shape[1], 1)))\n",
        "\n",
        "model.add(Dense(64, activation='relu'))\n",
        "model.add(Dense(units=3, activation='sigmoid'))"
      ]
    },
    {
      "cell_type": "code",
      "execution_count": 226,
      "metadata": {},
      "outputs": [
        {
          "name": "stdout",
          "output_type": "stream",
          "text": [
            "Epoch 1/100\n"
          ]
        },
        {
          "name": "stdout",
          "output_type": "stream",
          "text": [
            "249/249 [==============================] - 2s 3ms/step - loss: 1.1070 - accuracy: 0.3431 - val_loss: 1.1065 - val_accuracy: 0.3347\n",
            "Epoch 2/100\n",
            "249/249 [==============================] - 1s 2ms/step - loss: 1.1010 - accuracy: 0.3435 - val_loss: 1.1027 - val_accuracy: 0.3357\n",
            "Epoch 3/100\n",
            "249/249 [==============================] - 0s 2ms/step - loss: 1.0994 - accuracy: 0.3518 - val_loss: 1.1058 - val_accuracy: 0.3347\n",
            "Epoch 4/100\n",
            "249/249 [==============================] - 0s 2ms/step - loss: 1.0982 - accuracy: 0.3402 - val_loss: 1.1000 - val_accuracy: 0.3256\n",
            "Epoch 5/100\n",
            "249/249 [==============================] - 0s 2ms/step - loss: 1.0980 - accuracy: 0.3481 - val_loss: 1.0978 - val_accuracy: 0.3347\n",
            "Epoch 6/100\n",
            "249/249 [==============================] - 0s 2ms/step - loss: 1.0979 - accuracy: 0.3544 - val_loss: 1.0997 - val_accuracy: 0.3417\n",
            "Epoch 7/100\n",
            "249/249 [==============================] - 0s 2ms/step - loss: 1.0975 - accuracy: 0.3579 - val_loss: 1.1017 - val_accuracy: 0.3256\n",
            "Epoch 8/100\n",
            "249/249 [==============================] - 0s 2ms/step - loss: 1.0982 - accuracy: 0.3504 - val_loss: 1.1092 - val_accuracy: 0.3367\n",
            "Epoch 9/100\n",
            "249/249 [==============================] - 0s 2ms/step - loss: 1.0964 - accuracy: 0.3541 - val_loss: 1.1017 - val_accuracy: 0.3387\n",
            "Epoch 10/100\n",
            "249/249 [==============================] - 0s 2ms/step - loss: 1.0968 - accuracy: 0.3560 - val_loss: 1.0999 - val_accuracy: 0.3407\n",
            "Epoch 11/100\n",
            "249/249 [==============================] - 0s 2ms/step - loss: 1.0959 - accuracy: 0.3558 - val_loss: 1.1047 - val_accuracy: 0.3176\n",
            "Epoch 12/100\n",
            "249/249 [==============================] - 0s 2ms/step - loss: 1.0952 - accuracy: 0.3557 - val_loss: 1.0991 - val_accuracy: 0.3477\n",
            "Epoch 13/100\n",
            "249/249 [==============================] - 0s 2ms/step - loss: 1.0955 - accuracy: 0.3553 - val_loss: 1.0998 - val_accuracy: 0.3216\n",
            "Epoch 14/100\n",
            "249/249 [==============================] - 0s 2ms/step - loss: 1.0941 - accuracy: 0.3582 - val_loss: 1.1068 - val_accuracy: 0.3156\n",
            "Epoch 15/100\n",
            "249/249 [==============================] - 0s 2ms/step - loss: 1.0956 - accuracy: 0.3554 - val_loss: 1.1004 - val_accuracy: 0.3236\n",
            "Epoch 16/100\n",
            "249/249 [==============================] - 0s 2ms/step - loss: 1.0956 - accuracy: 0.3618 - val_loss: 1.0992 - val_accuracy: 0.3407\n",
            "Epoch 17/100\n",
            "249/249 [==============================] - 0s 2ms/step - loss: 1.0935 - accuracy: 0.3665 - val_loss: 1.1043 - val_accuracy: 0.3276\n",
            "Epoch 18/100\n",
            "249/249 [==============================] - 0s 2ms/step - loss: 1.0943 - accuracy: 0.3632 - val_loss: 1.0999 - val_accuracy: 0.3467\n",
            "Epoch 19/100\n",
            "249/249 [==============================] - 0s 2ms/step - loss: 1.0933 - accuracy: 0.3639 - val_loss: 1.1002 - val_accuracy: 0.3327\n",
            "Epoch 20/100\n",
            "249/249 [==============================] - 0s 2ms/step - loss: 1.0925 - accuracy: 0.3693 - val_loss: 1.1014 - val_accuracy: 0.3437\n",
            "Epoch 21/100\n",
            "249/249 [==============================] - 1s 2ms/step - loss: 1.0919 - accuracy: 0.3648 - val_loss: 1.1013 - val_accuracy: 0.3538\n",
            "Epoch 22/100\n",
            "249/249 [==============================] - 1s 2ms/step - loss: 1.0930 - accuracy: 0.3644 - val_loss: 1.1005 - val_accuracy: 0.3296\n",
            "Epoch 23/100\n",
            "249/249 [==============================] - 1s 2ms/step - loss: 1.0911 - accuracy: 0.3681 - val_loss: 1.1040 - val_accuracy: 0.3397\n",
            "Epoch 24/100\n",
            "249/249 [==============================] - 1s 2ms/step - loss: 1.0902 - accuracy: 0.3750 - val_loss: 1.1052 - val_accuracy: 0.3186\n",
            "Epoch 25/100\n",
            "249/249 [==============================] - 0s 2ms/step - loss: 1.0892 - accuracy: 0.3676 - val_loss: 1.1079 - val_accuracy: 0.3327\n",
            "Epoch 26/100\n",
            "249/249 [==============================] - 0s 2ms/step - loss: 1.0886 - accuracy: 0.3735 - val_loss: 1.1041 - val_accuracy: 0.3286\n",
            "Epoch 27/100\n",
            "249/249 [==============================] - 0s 2ms/step - loss: 1.0859 - accuracy: 0.3804 - val_loss: 1.1100 - val_accuracy: 0.3126\n",
            "Epoch 28/100\n",
            "249/249 [==============================] - 0s 2ms/step - loss: 1.0844 - accuracy: 0.3843 - val_loss: 1.1119 - val_accuracy: 0.3206\n",
            "Epoch 29/100\n",
            "249/249 [==============================] - 1s 2ms/step - loss: 1.0846 - accuracy: 0.3775 - val_loss: 1.1094 - val_accuracy: 0.3457\n",
            "Epoch 30/100\n",
            "249/249 [==============================] - 0s 2ms/step - loss: 1.0848 - accuracy: 0.3835 - val_loss: 1.1050 - val_accuracy: 0.3266\n",
            "Epoch 31/100\n",
            "249/249 [==============================] - 0s 2ms/step - loss: 1.0822 - accuracy: 0.3907 - val_loss: 1.1121 - val_accuracy: 0.3186\n",
            "Epoch 32/100\n",
            "249/249 [==============================] - 0s 2ms/step - loss: 1.0813 - accuracy: 0.3906 - val_loss: 1.1109 - val_accuracy: 0.3337\n",
            "Epoch 33/100\n",
            "249/249 [==============================] - 0s 2ms/step - loss: 1.0786 - accuracy: 0.3907 - val_loss: 1.1178 - val_accuracy: 0.3307\n",
            "Epoch 34/100\n",
            "249/249 [==============================] - 0s 2ms/step - loss: 1.0783 - accuracy: 0.3878 - val_loss: 1.1113 - val_accuracy: 0.3296\n",
            "Epoch 35/100\n",
            "249/249 [==============================] - 0s 2ms/step - loss: 1.0754 - accuracy: 0.3954 - val_loss: 1.1150 - val_accuracy: 0.3196\n",
            "Epoch 36/100\n",
            "249/249 [==============================] - 1s 2ms/step - loss: 1.0744 - accuracy: 0.3955 - val_loss: 1.1207 - val_accuracy: 0.3246\n",
            "Epoch 37/100\n",
            "249/249 [==============================] - 0s 2ms/step - loss: 1.0727 - accuracy: 0.4038 - val_loss: 1.1184 - val_accuracy: 0.3236\n",
            "Epoch 38/100\n",
            "249/249 [==============================] - 0s 2ms/step - loss: 1.0706 - accuracy: 0.4038 - val_loss: 1.1169 - val_accuracy: 0.3276\n",
            "Epoch 39/100\n",
            "249/249 [==============================] - 0s 2ms/step - loss: 1.0682 - accuracy: 0.4074 - val_loss: 1.1217 - val_accuracy: 0.3176\n",
            "Epoch 40/100\n",
            "249/249 [==============================] - 0s 2ms/step - loss: 1.0670 - accuracy: 0.4132 - val_loss: 1.1228 - val_accuracy: 0.3437\n",
            "Epoch 41/100\n",
            "249/249 [==============================] - 0s 2ms/step - loss: 1.0634 - accuracy: 0.4050 - val_loss: 1.1197 - val_accuracy: 0.3337\n",
            "Epoch 42/100\n",
            "249/249 [==============================] - 0s 2ms/step - loss: 1.0604 - accuracy: 0.4206 - val_loss: 1.1362 - val_accuracy: 0.3397\n",
            "Epoch 43/100\n",
            "249/249 [==============================] - 0s 2ms/step - loss: 1.0601 - accuracy: 0.4166 - val_loss: 1.1220 - val_accuracy: 0.3236\n",
            "Epoch 44/100\n",
            "249/249 [==============================] - 0s 2ms/step - loss: 1.0571 - accuracy: 0.4222 - val_loss: 1.1371 - val_accuracy: 0.3246\n",
            "Epoch 45/100\n",
            "249/249 [==============================] - 0s 2ms/step - loss: 1.0542 - accuracy: 0.4225 - val_loss: 1.1451 - val_accuracy: 0.3397\n",
            "Epoch 46/100\n",
            "249/249 [==============================] - 0s 2ms/step - loss: 1.0513 - accuracy: 0.4240 - val_loss: 1.1448 - val_accuracy: 0.3327\n",
            "Epoch 47/100\n",
            "249/249 [==============================] - 0s 2ms/step - loss: 1.0491 - accuracy: 0.4307 - val_loss: 1.1417 - val_accuracy: 0.3347\n",
            "Epoch 48/100\n",
            "249/249 [==============================] - 0s 2ms/step - loss: 1.0467 - accuracy: 0.4340 - val_loss: 1.1315 - val_accuracy: 0.3367\n",
            "Epoch 49/100\n",
            "249/249 [==============================] - 0s 2ms/step - loss: 1.0435 - accuracy: 0.4366 - val_loss: 1.1346 - val_accuracy: 0.3377\n",
            "Epoch 50/100\n",
            "249/249 [==============================] - 0s 2ms/step - loss: 1.0407 - accuracy: 0.4343 - val_loss: 1.1375 - val_accuracy: 0.3377\n",
            "Epoch 51/100\n",
            "249/249 [==============================] - 0s 2ms/step - loss: 1.0394 - accuracy: 0.4377 - val_loss: 1.1569 - val_accuracy: 0.3317\n",
            "Epoch 52/100\n",
            "249/249 [==============================] - 0s 2ms/step - loss: 1.0314 - accuracy: 0.4487 - val_loss: 1.1557 - val_accuracy: 0.3367\n",
            "Epoch 53/100\n",
            "249/249 [==============================] - 0s 2ms/step - loss: 1.0290 - accuracy: 0.4452 - val_loss: 1.1546 - val_accuracy: 0.3337\n",
            "Epoch 54/100\n",
            "249/249 [==============================] - 0s 2ms/step - loss: 1.0273 - accuracy: 0.4494 - val_loss: 1.1567 - val_accuracy: 0.3307\n",
            "Epoch 55/100\n",
            "249/249 [==============================] - 0s 2ms/step - loss: 1.0233 - accuracy: 0.4516 - val_loss: 1.1633 - val_accuracy: 0.3367\n",
            "Epoch 56/100\n",
            "249/249 [==============================] - 0s 2ms/step - loss: 1.0199 - accuracy: 0.4521 - val_loss: 1.1613 - val_accuracy: 0.3327\n",
            "Epoch 57/100\n",
            "249/249 [==============================] - 0s 2ms/step - loss: 1.0162 - accuracy: 0.4607 - val_loss: 1.1574 - val_accuracy: 0.3327\n",
            "Epoch 58/100\n",
            "249/249 [==============================] - 1s 2ms/step - loss: 1.0144 - accuracy: 0.4671 - val_loss: 1.1841 - val_accuracy: 0.3367\n",
            "Epoch 59/100\n",
            "249/249 [==============================] - 0s 2ms/step - loss: 1.0111 - accuracy: 0.4641 - val_loss: 1.1764 - val_accuracy: 0.3266\n",
            "Epoch 60/100\n",
            "249/249 [==============================] - 1s 2ms/step - loss: 1.0086 - accuracy: 0.4695 - val_loss: 1.1837 - val_accuracy: 0.3367\n",
            "Epoch 61/100\n",
            "249/249 [==============================] - 0s 2ms/step - loss: 1.0039 - accuracy: 0.4707 - val_loss: 1.1843 - val_accuracy: 0.3417\n",
            "Epoch 62/100\n",
            "249/249 [==============================] - 1s 2ms/step - loss: 0.9987 - accuracy: 0.4726 - val_loss: 1.1910 - val_accuracy: 0.3196\n",
            "Epoch 63/100\n",
            "249/249 [==============================] - 1s 2ms/step - loss: 0.9935 - accuracy: 0.4817 - val_loss: 1.1801 - val_accuracy: 0.3327\n",
            "Epoch 64/100\n",
            "249/249 [==============================] - 1s 3ms/step - loss: 0.9912 - accuracy: 0.4848 - val_loss: 1.2074 - val_accuracy: 0.3357\n",
            "Epoch 65/100\n",
            "249/249 [==============================] - 1s 2ms/step - loss: 0.9874 - accuracy: 0.4809 - val_loss: 1.1854 - val_accuracy: 0.3447\n",
            "Epoch 66/100\n",
            "249/249 [==============================] - 1s 3ms/step - loss: 0.9867 - accuracy: 0.4864 - val_loss: 1.2174 - val_accuracy: 0.3286\n",
            "Epoch 67/100\n",
            "249/249 [==============================] - 1s 2ms/step - loss: 0.9803 - accuracy: 0.4856 - val_loss: 1.2081 - val_accuracy: 0.3457\n",
            "Epoch 68/100\n",
            "249/249 [==============================] - 1s 3ms/step - loss: 0.9761 - accuracy: 0.4969 - val_loss: 1.2061 - val_accuracy: 0.3327\n",
            "Epoch 69/100\n",
            "249/249 [==============================] - 1s 3ms/step - loss: 0.9707 - accuracy: 0.5005 - val_loss: 1.2340 - val_accuracy: 0.3437\n",
            "Epoch 70/100\n",
            "249/249 [==============================] - 1s 2ms/step - loss: 0.9676 - accuracy: 0.5021 - val_loss: 1.2370 - val_accuracy: 0.3276\n",
            "Epoch 71/100\n",
            "249/249 [==============================] - 1s 2ms/step - loss: 0.9658 - accuracy: 0.5062 - val_loss: 1.2496 - val_accuracy: 0.3427\n",
            "Epoch 72/100\n",
            "249/249 [==============================] - 1s 2ms/step - loss: 0.9583 - accuracy: 0.5055 - val_loss: 1.2325 - val_accuracy: 0.3427\n",
            "Epoch 73/100\n",
            "249/249 [==============================] - 1s 2ms/step - loss: 0.9519 - accuracy: 0.5147 - val_loss: 1.2540 - val_accuracy: 0.3377\n",
            "Epoch 74/100\n",
            "249/249 [==============================] - 1s 2ms/step - loss: 0.9475 - accuracy: 0.5187 - val_loss: 1.2446 - val_accuracy: 0.3427\n",
            "Epoch 75/100\n",
            "249/249 [==============================] - 1s 2ms/step - loss: 0.9458 - accuracy: 0.5124 - val_loss: 1.2530 - val_accuracy: 0.3417\n",
            "Epoch 76/100\n",
            "249/249 [==============================] - 1s 2ms/step - loss: 0.9411 - accuracy: 0.5186 - val_loss: 1.2727 - val_accuracy: 0.3437\n",
            "Epoch 77/100\n",
            "249/249 [==============================] - 1s 2ms/step - loss: 0.9352 - accuracy: 0.5209 - val_loss: 1.2540 - val_accuracy: 0.3437\n",
            "Epoch 78/100\n",
            "249/249 [==============================] - 1s 2ms/step - loss: 0.9313 - accuracy: 0.5246 - val_loss: 1.2869 - val_accuracy: 0.3377\n",
            "Epoch 79/100\n",
            "249/249 [==============================] - 1s 2ms/step - loss: 0.9244 - accuracy: 0.5310 - val_loss: 1.3023 - val_accuracy: 0.3407\n",
            "Epoch 80/100\n",
            "249/249 [==============================] - 1s 3ms/step - loss: 0.9233 - accuracy: 0.5361 - val_loss: 1.2858 - val_accuracy: 0.3487\n",
            "Epoch 81/100\n",
            "249/249 [==============================] - 1s 2ms/step - loss: 0.9163 - accuracy: 0.5396 - val_loss: 1.2953 - val_accuracy: 0.3437\n",
            "Epoch 82/100\n",
            "249/249 [==============================] - 1s 3ms/step - loss: 0.9119 - accuracy: 0.5406 - val_loss: 1.3091 - val_accuracy: 0.3487\n",
            "Epoch 83/100\n",
            "249/249 [==============================] - 1s 2ms/step - loss: 0.9089 - accuracy: 0.5476 - val_loss: 1.3144 - val_accuracy: 0.3387\n",
            "Epoch 84/100\n",
            "249/249 [==============================] - 1s 2ms/step - loss: 0.9022 - accuracy: 0.5475 - val_loss: 1.3160 - val_accuracy: 0.3397\n",
            "Epoch 85/100\n",
            "249/249 [==============================] - 1s 2ms/step - loss: 0.9026 - accuracy: 0.5497 - val_loss: 1.3510 - val_accuracy: 0.3407\n",
            "Epoch 86/100\n",
            "249/249 [==============================] - 1s 2ms/step - loss: 0.8929 - accuracy: 0.5520 - val_loss: 1.3744 - val_accuracy: 0.3437\n",
            "Epoch 87/100\n",
            "249/249 [==============================] - 1s 2ms/step - loss: 0.8900 - accuracy: 0.5602 - val_loss: 1.3447 - val_accuracy: 0.3276\n",
            "Epoch 88/100\n",
            "249/249 [==============================] - 1s 2ms/step - loss: 0.8864 - accuracy: 0.5577 - val_loss: 1.3640 - val_accuracy: 0.3487\n",
            "Epoch 89/100\n",
            "249/249 [==============================] - 1s 2ms/step - loss: 0.8787 - accuracy: 0.5647 - val_loss: 1.3682 - val_accuracy: 0.3497\n",
            "Epoch 90/100\n",
            "249/249 [==============================] - 1s 2ms/step - loss: 0.8778 - accuracy: 0.5666 - val_loss: 1.3604 - val_accuracy: 0.3397\n",
            "Epoch 91/100\n",
            "249/249 [==============================] - 1s 2ms/step - loss: 0.8722 - accuracy: 0.5678 - val_loss: 1.3943 - val_accuracy: 0.3407\n",
            "Epoch 92/100\n",
            "249/249 [==============================] - 1s 3ms/step - loss: 0.8692 - accuracy: 0.5668 - val_loss: 1.3971 - val_accuracy: 0.3307\n",
            "Epoch 93/100\n",
            "249/249 [==============================] - 1s 2ms/step - loss: 0.8636 - accuracy: 0.5780 - val_loss: 1.4016 - val_accuracy: 0.3367\n",
            "Epoch 94/100\n",
            "249/249 [==============================] - 1s 2ms/step - loss: 0.8607 - accuracy: 0.5735 - val_loss: 1.4174 - val_accuracy: 0.3166\n",
            "Epoch 95/100\n",
            "249/249 [==============================] - 1s 2ms/step - loss: 0.8537 - accuracy: 0.5840 - val_loss: 1.4167 - val_accuracy: 0.3457\n",
            "Epoch 96/100\n",
            "249/249 [==============================] - 1s 2ms/step - loss: 0.8504 - accuracy: 0.5810 - val_loss: 1.4626 - val_accuracy: 0.3508\n",
            "Epoch 97/100\n",
            "249/249 [==============================] - 1s 3ms/step - loss: 0.8431 - accuracy: 0.5852 - val_loss: 1.4444 - val_accuracy: 0.3236\n",
            "Epoch 98/100\n",
            "249/249 [==============================] - 1s 3ms/step - loss: 0.8426 - accuracy: 0.5813 - val_loss: 1.4240 - val_accuracy: 0.3437\n",
            "Epoch 99/100\n",
            "249/249 [==============================] - 1s 3ms/step - loss: 0.8354 - accuracy: 0.5948 - val_loss: 1.4563 - val_accuracy: 0.3276\n",
            "Epoch 100/100\n",
            "249/249 [==============================] - 1s 2ms/step - loss: 0.8289 - accuracy: 0.5966 - val_loss: 1.4765 - val_accuracy: 0.3377\n",
            "32/32 [==============================] - 0s 1ms/step - loss: 1.4765 - accuracy: 0.3377\n",
            "Accuracy:  [1.476478099822998, 0.3376884460449219]\n"
          ]
        }
      ],
      "source": [
        "# mse\n",
        "# mae\n",
        "# binary_crossentropy\n",
        "# categorical_crossentropy\n",
        "# sparse_categorical_crossentropy\n",
        "# hinge\n",
        "# kullback_leibler_divergence\n",
        "model.compile(loss='categorical_crossentropy', optimizer='Adam', metrics=['accuracy'])\n",
        "\n",
        "history = model.fit(X_train, y_train, epochs=100, batch_size=32, validation_data=(X_val, y_val))\n",
        "\n",
        "accuracy = model.evaluate(X_val, y_val)\n",
        "print(\"Accuracy: \", accuracy)"
      ]
    },
    {
      "cell_type": "code",
      "execution_count": 227,
      "metadata": {},
      "outputs": [
        {
          "name": "stdout",
          "output_type": "stream",
          "text": [
            "32/32 [==============================] - 0s 2ms/step\n"
          ]
        }
      ],
      "source": [
        "predictions = model.predict(X_test)\n",
        "y_pred = np.argmax(predictions, axis=1)"
      ]
    },
    {
      "cell_type": "code",
      "execution_count": 228,
      "metadata": {},
      "outputs": [
        {
          "data": {
            "text/plain": [
              "array([2.6767850e-09, 7.5359395e-08, 1.4223187e-07, ..., 9.9999142e-01,\n",
              "       9.9999177e-01, 9.9999851e-01], dtype=float32)"
            ]
          },
          "execution_count": 228,
          "metadata": {},
          "output_type": "execute_result"
        }
      ],
      "source": [
        "np.unique(predictions)"
      ]
    },
    {
      "cell_type": "code",
      "execution_count": 229,
      "metadata": {},
      "outputs": [
        {
          "data": {
            "text/plain": [
              "array([0, 1, 2], dtype=int64)"
            ]
          },
          "execution_count": 229,
          "metadata": {},
          "output_type": "execute_result"
        }
      ],
      "source": [
        "np.unique(y_pred)"
      ]
    },
    {
      "cell_type": "code",
      "execution_count": 230,
      "metadata": {},
      "outputs": [
        {
          "data": {
            "text/plain": [
              "array([0, 1, 2], dtype=int64)"
            ]
          },
          "execution_count": 230,
          "metadata": {},
          "output_type": "execute_result"
        }
      ],
      "source": [
        "np.unique(y_test)"
      ]
    },
    {
      "cell_type": "code",
      "execution_count": 231,
      "metadata": {},
      "outputs": [
        {
          "data": {
            "image/png": "[encoded data removed]",
            "text/plain": [
              "<Figure size 1200x500 with 2 Axes>"
            ]
          },
          "metadata": {},
          "output_type": "display_data"
        }
      ],
      "source": [
        "plt.figure(figsize=(12, 5))\n",
        "plt.subplot(1, 2, 1)\n",
        "plt.plot(history.history['loss'])\n",
        "plt.plot(history.history['val_loss'])\n",
        "plt.title('Loss over epochs')\n",
        "plt.ylabel('Loss')\n",
        "plt.xlabel('Epoch')\n",
        "plt.legend(['Train', 'Validation'], loc='best')\n",
        "\n",
        "plt.subplot(1, 2, 2)\n",
        "plt.plot(history.history['accuracy'])\n",
        "plt.plot(history.history['val_accuracy'])\n",
        "plt.title('Accuracy over epochs')\n",
        "plt.ylabel('Accuracy')\n",
        "plt.xlabel('Epoch')\n",
        "plt.legend(['Train', 'Validation'], loc='best')\n",
        "\n",
        "plt.tight_layout()\n",
        "plt.show()\n"
      ]
    },
    {
      "cell_type": "code",
      "execution_count": 232,
      "metadata": {},
      "outputs": [
        {
          "data": {
            "image/png": "[encoded data removed]",
            "text/plain": [
              "<Figure size 640x480 with 2 Axes>"
            ]
          },
          "metadata": {},
          "output_type": "display_data"
        },
        {
          "name": "stdout",
          "output_type": "stream",
          "text": [
            "              precision    recall  f1-score   support\n",
            "\n",
            "           0       0.30      0.35      0.32       327\n",
            "           1       0.39      0.44      0.41       352\n",
            "           2       0.34      0.25      0.29       317\n",
            "\n",
            "    accuracy                           0.35       996\n",
            "   macro avg       0.35      0.34      0.34       996\n",
            "weighted avg       0.35      0.35      0.34       996\n",
            "\n"
          ]
        }
      ],
      "source": [
        "cm = confusion_matrix(y_test, y_pred)\n",
        "disp = ConfusionMatrixDisplay(confusion_matrix=cm)\n",
        "disp.plot(cmap='Blues', values_format='d')\n",
        "plt.title(\"Confusion Matrix: RNN\")\n",
        "plt.show()\n",
        "\n",
        "print(classification_report(y_test, y_pred))"
      ]
    }
  ],
  "metadata": {
    "colab": {
      "provenance": []
    },
    "kernelspec": {
      "display_name": "base",
      "language": "python",
      "name": "python3"
    },
    "language_info": {
      "codemirror_mode": {
        "name": "ipython",
        "version": 3
      },
      "file_extension": ".py",
      "mimetype": "text/x-python",
      "name": "python",
      "nbconvert_exporter": "python",
      "pygments_lexer": "ipython3",
      "version": "3.9.13"
    }
  },
  "nbformat": 4,
  "nbformat_minor": 0
}
