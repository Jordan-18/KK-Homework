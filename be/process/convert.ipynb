{
 "cells": [
  {
   "cell_type": "code",
   "execution_count": 2,
   "metadata": {},
   "outputs": [
    {
     "name": "stdout",
     "output_type": "stream",
     "text": [
      "Converted ../decision-tree-market.ipynb to ../html/decisiontree.html\n",
      "Converted ../random-forest-market.ipynb to ../html/randomforest.html\n",
      "Converted ../fuzzy-market.ipynb to ../html/fuzzy.html\n",
      "Converted ../svm-market.ipynb to ../html/svm.html\n",
      "Converted ../svmr-market.ipynb to ../html/svmr.html\n",
      "Converted ../svr-market.ipynb to ../html/svr.html\n",
      "Converted ../rnn-market.ipynb to ../html/rnn.html\n",
      "Converted ../rnnr-market.ipynb to ../html/rnnr.html\n",
      "Converted ../lstm-market.ipynb to ../html/lstm.html\n",
      "Converted ../lstmr-market.ipynb to ../html/lstmr.html\n",
      "Array data has been saved to ../html/model.ai.json.\n"
     ]
    }
   ],
   "source": [
    "from nbconvert import HTMLExporter\n",
    "import nbformat\n",
    "import os\n",
    "\n",
    "input_notebooks = [\n",
    "    '../decision-tree-market.ipynb',\n",
    "    '../random-forest-market.ipynb',\n",
    "    '../fuzzy-market.ipynb',\n",
    "    '../svm-market.ipynb',\n",
    "    '../svmr-market.ipynb',\n",
    "    '../svr-market.ipynb',\n",
    "    '../rnn-market.ipynb',\n",
    "    '../rnnr-market.ipynb',\n",
    "    '../lstm-market.ipynb',\n",
    "    '../lstmr-market.ipynb',\n",
    "    # './k-means.ipynb',\n",
    "]\n",
    "\n",
    "output_dir = '../html/'\n",
    "\n",
    "os.makedirs(output_dir, exist_ok=True)\n",
    "\n",
    "html_exporter = HTMLExporter()\n",
    "\n",
    "for input_notebook in input_notebooks:\n",
    "    with open(input_notebook, 'r') as notebook_file:\n",
    "        notebook_content = nbformat.read(notebook_file, as_version=4)\n",
    "\n",
    "    (html, resources) = html_exporter.from_notebook_node(notebook_content)\n",
    "\n",
    "    notebook_name = (os.path.splitext(os.path.basename(input_notebook))[0]).replace('-market','').replace('_market', '').replace('-', '')\n",
    "\n",
    "    output_html = os.path.join(output_dir, f'{notebook_name}.html')\n",
    "\n",
    "    with open(output_html, 'w') as output_file:\n",
    "        output_file.write(html)\n",
    "\n",
    "    print(f'Converted {input_notebook} to {output_html}')\n",
    "\n",
    "import re\n",
    "metric_values = []\n",
    "\n",
    "for input_notebook in input_notebooks:\n",
    "    with open(input_notebook, 'r') as notebook_file:\n",
    "        notebook_content = nbformat.read(notebook_file, as_version=4)\n",
    "\n",
    "    (html, resources) = html_exporter.from_notebook_node(notebook_content)\n",
    "    \n",
    "    notebook_name = (os.path.splitext(os.path.basename(input_notebook))[0]).replace('-market','').replace('_market', '').replace('-', '')\n",
    "    pattern = r'accuracy[:\\s]+([\\d.]+)'    \n",
    "    accuracy_occurrences = re.findall(pattern, html, re.IGNORECASE)\n",
    "\n",
    "    metric_values.append({\n",
    "        'model': notebook_name,\n",
    "        'accuracy': accuracy_occurrences[0]\n",
    "    })\n",
    "\n",
    "\n",
    "import json\n",
    "json_file_name = (f\"{output_dir}model.ai.json\")\n",
    "\n",
    "with open(json_file_name, \"w\") as json_file:\n",
    "    json.dump(metric_values, json_file)\n",
    "\n",
    "print(f\"Array data has been saved to {json_file_name}.\")"
   ]
  }
 ],
 "metadata": {
  "kernelspec": {
   "display_name": "base",
   "language": "python",
   "name": "python3"
  },
  "language_info": {
   "codemirror_mode": {
    "name": "ipython",
    "version": 3
   },
   "file_extension": ".py",
   "mimetype": "text/x-python",
   "name": "python",
   "nbconvert_exporter": "python",
   "pygments_lexer": "ipython3",
   "version": "3.9.13"
  }
 },
 "nbformat": 4,
 "nbformat_minor": 2
}
