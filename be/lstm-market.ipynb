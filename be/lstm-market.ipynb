{
  "cells": [
    {
      "cell_type": "markdown",
      "metadata": {
        "id": "ENxOKpN9Oxo9"
      },
      "source": [
        "# **Libraries and Dataset**"
      ]
    },
    {
      "cell_type": "code",
      "execution_count": 1,
      "metadata": {
        "id": "9J-taP_VZBKX"
      },
      "outputs": [],
      "source": [
        "import numpy as np\n",
        "import pandas as pd\n",
        "import seaborn  as sns\n",
        "from sklearn.model_selection import train_test_split\n",
        "from sklearn.preprocessing import LabelEncoder, OneHotEncoder, StandardScaler\n",
        "from sklearn.model_selection import cross_val_score, GridSearchCV\n",
        "import matplotlib.pyplot as plt\n",
        "from sklearn.metrics import confusion_matrix,classification_report, ConfusionMatrixDisplay"
      ]
    },
    {
      "cell_type": "code",
      "execution_count": 2,
      "metadata": {
        "id": "PF6y1Jx8ZBKb"
      },
      "outputs": [],
      "source": [
        "dataset = pd.read_csv('data/market_cluster.csv', encoding='latin1')\n"
      ]
    },
    {
      "cell_type": "code",
      "execution_count": 3,
      "metadata": {
        "colab": {
          "base_uri": "https://localhost:8080/",
          "height": 206
        },
        "id": "tJhiivZTZBKb",
        "outputId": "08d4e63f-057f-4657-bbd0-59adb7448bab"
      },
      "outputs": [
        {
          "data": {
            "text/html": [
              "<div>\n",
              "<style scoped>\n",
              "    .dataframe tbody tr th:only-of-type {\n",
              "        vertical-align: middle;\n",
              "    }\n",
              "\n",
              "    .dataframe tbody tr th {\n",
              "        vertical-align: top;\n",
              "    }\n",
              "\n",
              "    .dataframe thead th {\n",
              "        text-align: right;\n",
              "    }\n",
              "</style>\n",
              "<table border=\"1\" class=\"dataframe\">\n",
              "  <thead>\n",
              "    <tr style=\"text-align: right;\">\n",
              "      <th></th>\n",
              "      <th>Order ID</th>\n",
              "      <th>Customer Name</th>\n",
              "      <th>Category</th>\n",
              "      <th>Sub Category</th>\n",
              "      <th>City</th>\n",
              "      <th>Order Date</th>\n",
              "      <th>Region</th>\n",
              "      <th>Sales</th>\n",
              "      <th>Discount</th>\n",
              "      <th>Profit</th>\n",
              "      <th>State</th>\n",
              "      <th>profit_margin</th>\n",
              "      <th>Cluster</th>\n",
              "    </tr>\n",
              "  </thead>\n",
              "  <tbody>\n",
              "    <tr>\n",
              "      <th>0</th>\n",
              "      <td>OD1</td>\n",
              "      <td>Harish</td>\n",
              "      <td>Oil &amp; Masala</td>\n",
              "      <td>Masalas</td>\n",
              "      <td>Vellore</td>\n",
              "      <td>11-08-2017</td>\n",
              "      <td>North</td>\n",
              "      <td>1254</td>\n",
              "      <td>0.12</td>\n",
              "      <td>401.28</td>\n",
              "      <td>Tamil Nadu</td>\n",
              "      <td>0.32</td>\n",
              "      <td>Medium</td>\n",
              "    </tr>\n",
              "    <tr>\n",
              "      <th>1</th>\n",
              "      <td>OD2</td>\n",
              "      <td>Sudha</td>\n",
              "      <td>Beverages</td>\n",
              "      <td>Health Drinks</td>\n",
              "      <td>Krishnagiri</td>\n",
              "      <td>11-08-2017</td>\n",
              "      <td>South</td>\n",
              "      <td>749</td>\n",
              "      <td>0.18</td>\n",
              "      <td>149.80</td>\n",
              "      <td>Tamil Nadu</td>\n",
              "      <td>0.20</td>\n",
              "      <td>Medium</td>\n",
              "    </tr>\n",
              "    <tr>\n",
              "      <th>2</th>\n",
              "      <td>OD3</td>\n",
              "      <td>Hussain</td>\n",
              "      <td>Food Grains</td>\n",
              "      <td>Atta &amp; Flour</td>\n",
              "      <td>Perambalur</td>\n",
              "      <td>06-12-2017</td>\n",
              "      <td>West</td>\n",
              "      <td>2360</td>\n",
              "      <td>0.21</td>\n",
              "      <td>165.20</td>\n",
              "      <td>Tamil Nadu</td>\n",
              "      <td>0.07</td>\n",
              "      <td>Low</td>\n",
              "    </tr>\n",
              "    <tr>\n",
              "      <th>3</th>\n",
              "      <td>OD4</td>\n",
              "      <td>Jackson</td>\n",
              "      <td>Fruits &amp; Veggies</td>\n",
              "      <td>Fresh Vegetables</td>\n",
              "      <td>Dharmapuri</td>\n",
              "      <td>10-11-2016</td>\n",
              "      <td>South</td>\n",
              "      <td>896</td>\n",
              "      <td>0.25</td>\n",
              "      <td>89.60</td>\n",
              "      <td>Tamil Nadu</td>\n",
              "      <td>0.10</td>\n",
              "      <td>Low</td>\n",
              "    </tr>\n",
              "    <tr>\n",
              "      <th>4</th>\n",
              "      <td>OD5</td>\n",
              "      <td>Ridhesh</td>\n",
              "      <td>Food Grains</td>\n",
              "      <td>Organic Staples</td>\n",
              "      <td>Ooty</td>\n",
              "      <td>10-11-2016</td>\n",
              "      <td>South</td>\n",
              "      <td>2355</td>\n",
              "      <td>0.26</td>\n",
              "      <td>918.45</td>\n",
              "      <td>Tamil Nadu</td>\n",
              "      <td>0.39</td>\n",
              "      <td>High</td>\n",
              "    </tr>\n",
              "  </tbody>\n",
              "</table>\n",
              "</div>"
            ],
            "text/plain": [
              "  Order ID Customer Name          Category      Sub Category         City  \\\n",
              "0      OD1        Harish      Oil & Masala           Masalas      Vellore   \n",
              "1      OD2         Sudha         Beverages     Health Drinks  Krishnagiri   \n",
              "2      OD3       Hussain       Food Grains      Atta & Flour   Perambalur   \n",
              "3      OD4       Jackson  Fruits & Veggies  Fresh Vegetables   Dharmapuri   \n",
              "4      OD5       Ridhesh       Food Grains   Organic Staples         Ooty   \n",
              "\n",
              "   Order Date Region  Sales  Discount  Profit       State  profit_margin  \\\n",
              "0  11-08-2017  North   1254      0.12  401.28  Tamil Nadu           0.32   \n",
              "1  11-08-2017  South    749      0.18  149.80  Tamil Nadu           0.20   \n",
              "2  06-12-2017   West   2360      0.21  165.20  Tamil Nadu           0.07   \n",
              "3  10-11-2016  South    896      0.25   89.60  Tamil Nadu           0.10   \n",
              "4  10-11-2016  South   2355      0.26  918.45  Tamil Nadu           0.39   \n",
              "\n",
              "  Cluster  \n",
              "0  Medium  \n",
              "1  Medium  \n",
              "2     Low  \n",
              "3     Low  \n",
              "4    High  "
            ]
          },
          "execution_count": 3,
          "metadata": {},
          "output_type": "execute_result"
        }
      ],
      "source": [
        "dataset.head()"
      ]
    },
    {
      "cell_type": "code",
      "execution_count": 4,
      "metadata": {
        "colab": {
          "base_uri": "https://localhost:8080/"
        },
        "id": "LInQP5rWZBKe",
        "outputId": "22e7bb1e-552c-4882-8822-66cf9e5f48da"
      },
      "outputs": [
        {
          "name": "stdout",
          "output_type": "stream",
          "text": [
            "<class 'pandas.core.frame.DataFrame'>\n",
            "RangeIndex: 9994 entries, 0 to 9993\n",
            "Data columns (total 13 columns):\n",
            " #   Column         Non-Null Count  Dtype  \n",
            "---  ------         --------------  -----  \n",
            " 0   Order ID       9994 non-null   object \n",
            " 1   Customer Name  9994 non-null   object \n",
            " 2   Category       9994 non-null   object \n",
            " 3   Sub Category   9994 non-null   object \n",
            " 4   City           9994 non-null   object \n",
            " 5   Order Date     9994 non-null   object \n",
            " 6   Region         9994 non-null   object \n",
            " 7   Sales          9994 non-null   int64  \n",
            " 8   Discount       9994 non-null   float64\n",
            " 9   Profit         9994 non-null   float64\n",
            " 10  State          9994 non-null   object \n",
            " 11  profit_margin  9994 non-null   float64\n",
            " 12  Cluster        9994 non-null   object \n",
            "dtypes: float64(3), int64(1), object(9)\n",
            "memory usage: 1015.1+ KB\n"
          ]
        }
      ],
      "source": [
        "dataset.info()"
      ]
    },
    {
      "cell_type": "code",
      "execution_count": 5,
      "metadata": {},
      "outputs": [
        {
          "data": {
            "text/html": [
              "<div>\n",
              "<style scoped>\n",
              "    .dataframe tbody tr th:only-of-type {\n",
              "        vertical-align: middle;\n",
              "    }\n",
              "\n",
              "    .dataframe tbody tr th {\n",
              "        vertical-align: top;\n",
              "    }\n",
              "\n",
              "    .dataframe thead th {\n",
              "        text-align: right;\n",
              "    }\n",
              "</style>\n",
              "<table border=\"1\" class=\"dataframe\">\n",
              "  <thead>\n",
              "    <tr style=\"text-align: right;\">\n",
              "      <th></th>\n",
              "      <th>Sales</th>\n",
              "      <th>Discount</th>\n",
              "      <th>Profit</th>\n",
              "      <th>profit_margin</th>\n",
              "    </tr>\n",
              "  </thead>\n",
              "  <tbody>\n",
              "    <tr>\n",
              "      <th>count</th>\n",
              "      <td>9994.000000</td>\n",
              "      <td>9994.000000</td>\n",
              "      <td>9994.000000</td>\n",
              "      <td>9994.000000</td>\n",
              "    </tr>\n",
              "    <tr>\n",
              "      <th>mean</th>\n",
              "      <td>1496.596158</td>\n",
              "      <td>0.226817</td>\n",
              "      <td>374.937082</td>\n",
              "      <td>0.250228</td>\n",
              "    </tr>\n",
              "    <tr>\n",
              "      <th>std</th>\n",
              "      <td>577.559036</td>\n",
              "      <td>0.074636</td>\n",
              "      <td>239.932881</td>\n",
              "      <td>0.118919</td>\n",
              "    </tr>\n",
              "    <tr>\n",
              "      <th>min</th>\n",
              "      <td>500.000000</td>\n",
              "      <td>0.100000</td>\n",
              "      <td>25.250000</td>\n",
              "      <td>0.050000</td>\n",
              "    </tr>\n",
              "    <tr>\n",
              "      <th>25%</th>\n",
              "      <td>1000.000000</td>\n",
              "      <td>0.160000</td>\n",
              "      <td>180.022500</td>\n",
              "      <td>0.150000</td>\n",
              "    </tr>\n",
              "    <tr>\n",
              "      <th>50%</th>\n",
              "      <td>1498.000000</td>\n",
              "      <td>0.230000</td>\n",
              "      <td>320.780000</td>\n",
              "      <td>0.250000</td>\n",
              "    </tr>\n",
              "    <tr>\n",
              "      <th>75%</th>\n",
              "      <td>1994.750000</td>\n",
              "      <td>0.290000</td>\n",
              "      <td>525.627500</td>\n",
              "      <td>0.350000</td>\n",
              "    </tr>\n",
              "    <tr>\n",
              "      <th>max</th>\n",
              "      <td>2500.000000</td>\n",
              "      <td>0.350000</td>\n",
              "      <td>1120.950000</td>\n",
              "      <td>0.450000</td>\n",
              "    </tr>\n",
              "  </tbody>\n",
              "</table>\n",
              "</div>"
            ],
            "text/plain": [
              "             Sales     Discount       Profit  profit_margin\n",
              "count  9994.000000  9994.000000  9994.000000    9994.000000\n",
              "mean   1496.596158     0.226817   374.937082       0.250228\n",
              "std     577.559036     0.074636   239.932881       0.118919\n",
              "min     500.000000     0.100000    25.250000       0.050000\n",
              "25%    1000.000000     0.160000   180.022500       0.150000\n",
              "50%    1498.000000     0.230000   320.780000       0.250000\n",
              "75%    1994.750000     0.290000   525.627500       0.350000\n",
              "max    2500.000000     0.350000  1120.950000       0.450000"
            ]
          },
          "execution_count": 5,
          "metadata": {},
          "output_type": "execute_result"
        }
      ],
      "source": [
        "dataset.describe()"
      ]
    },
    {
      "cell_type": "code",
      "execution_count": 6,
      "metadata": {},
      "outputs": [
        {
          "name": "stdout",
          "output_type": "stream",
          "text": [
            "<class 'pandas.core.frame.DataFrame'>\n",
            "RangeIndex: 9994 entries, 0 to 9993\n",
            "Data columns (total 13 columns):\n",
            " #   Column         Non-Null Count  Dtype  \n",
            "---  ------         --------------  -----  \n",
            " 0   Order ID       9994 non-null   object \n",
            " 1   Customer Name  9994 non-null   object \n",
            " 2   Category       9994 non-null   object \n",
            " 3   Sub Category   9994 non-null   object \n",
            " 4   City           9994 non-null   object \n",
            " 5   Order Date     9994 non-null   object \n",
            " 6   Region         9994 non-null   object \n",
            " 7   Sales          9994 non-null   int64  \n",
            " 8   Discount       9994 non-null   float64\n",
            " 9   Profit         9994 non-null   float64\n",
            " 10  State          9994 non-null   object \n",
            " 11  profit_margin  9994 non-null   float64\n",
            " 12  Cluster        9994 non-null   object \n",
            "dtypes: float64(3), int64(1), object(9)\n",
            "memory usage: 1015.1+ KB\n"
          ]
        }
      ],
      "source": [
        "dataset.info()"
      ]
    },
    {
      "cell_type": "markdown",
      "metadata": {},
      "source": [
        "# **Data Cleaning & Preprocessing**"
      ]
    },
    {
      "cell_type": "code",
      "execution_count": 7,
      "metadata": {},
      "outputs": [],
      "source": [
        "dataset.drop(['Order ID'], axis=1, inplace=True)"
      ]
    },
    {
      "cell_type": "code",
      "execution_count": 8,
      "metadata": {},
      "outputs": [
        {
          "data": {
            "text/plain": [
              "Customer Name    0\n",
              "Category         0\n",
              "Sub Category     0\n",
              "City             0\n",
              "Order Date       0\n",
              "Region           0\n",
              "Sales            0\n",
              "Discount         0\n",
              "Profit           0\n",
              "State            0\n",
              "profit_margin    0\n",
              "Cluster          0\n",
              "dtype: int64"
            ]
          },
          "execution_count": 8,
          "metadata": {},
          "output_type": "execute_result"
        }
      ],
      "source": [
        "dataset.isna().sum()"
      ]
    },
    {
      "cell_type": "code",
      "execution_count": 9,
      "metadata": {},
      "outputs": [],
      "source": [
        "dataset.dropna(inplace=True)"
      ]
    },
    {
      "cell_type": "code",
      "execution_count": 10,
      "metadata": {},
      "outputs": [],
      "source": [
        "def remove_outliers(data: pd.DataFrame, column: str) -> pd.Series:\n",
        "    q3, q1 = np.nanpercentile(data[column], [75, 25])\n",
        "    iqr = q3 - q1\n",
        "    upper_bound = q3 + 1.5 * iqr\n",
        "    lower_bound = q1 - 1.5 * iqr\n",
        "    data = data[(data[column] > lower_bound) & (data[column] < upper_bound)]\n",
        "\n",
        "    return data\n",
        "\n",
        "dataset = remove_outliers(dataset, 'Discount')\n",
        "dataset = remove_outliers(dataset, 'Sales')\n",
        "dataset = remove_outliers(dataset, 'Profit')"
      ]
    },
    {
      "cell_type": "code",
      "execution_count": 11,
      "metadata": {},
      "outputs": [
        {
          "data": {
            "text/html": [
              "<div>\n",
              "<style scoped>\n",
              "    .dataframe tbody tr th:only-of-type {\n",
              "        vertical-align: middle;\n",
              "    }\n",
              "\n",
              "    .dataframe tbody tr th {\n",
              "        vertical-align: top;\n",
              "    }\n",
              "\n",
              "    .dataframe thead th {\n",
              "        text-align: right;\n",
              "    }\n",
              "</style>\n",
              "<table border=\"1\" class=\"dataframe\">\n",
              "  <thead>\n",
              "    <tr style=\"text-align: right;\">\n",
              "      <th></th>\n",
              "      <th>Customer Name</th>\n",
              "      <th>Category</th>\n",
              "      <th>Sub Category</th>\n",
              "      <th>City</th>\n",
              "      <th>Order Date</th>\n",
              "      <th>Region</th>\n",
              "      <th>Sales</th>\n",
              "      <th>Discount</th>\n",
              "      <th>Profit</th>\n",
              "      <th>State</th>\n",
              "      <th>profit_margin</th>\n",
              "      <th>Cluster</th>\n",
              "    </tr>\n",
              "  </thead>\n",
              "  <tbody>\n",
              "    <tr>\n",
              "      <th>0</th>\n",
              "      <td>Harish</td>\n",
              "      <td>Oil &amp; Masala</td>\n",
              "      <td>Masalas</td>\n",
              "      <td>Vellore</td>\n",
              "      <td>11-08-2017</td>\n",
              "      <td>North</td>\n",
              "      <td>1254</td>\n",
              "      <td>0.12</td>\n",
              "      <td>401.28</td>\n",
              "      <td>Tamil Nadu</td>\n",
              "      <td>0.32</td>\n",
              "      <td>Medium</td>\n",
              "    </tr>\n",
              "    <tr>\n",
              "      <th>1</th>\n",
              "      <td>Sudha</td>\n",
              "      <td>Beverages</td>\n",
              "      <td>Health Drinks</td>\n",
              "      <td>Krishnagiri</td>\n",
              "      <td>11-08-2017</td>\n",
              "      <td>South</td>\n",
              "      <td>749</td>\n",
              "      <td>0.18</td>\n",
              "      <td>149.80</td>\n",
              "      <td>Tamil Nadu</td>\n",
              "      <td>0.20</td>\n",
              "      <td>Medium</td>\n",
              "    </tr>\n",
              "    <tr>\n",
              "      <th>2</th>\n",
              "      <td>Hussain</td>\n",
              "      <td>Food Grains</td>\n",
              "      <td>Atta &amp; Flour</td>\n",
              "      <td>Perambalur</td>\n",
              "      <td>06-12-2017</td>\n",
              "      <td>West</td>\n",
              "      <td>2360</td>\n",
              "      <td>0.21</td>\n",
              "      <td>165.20</td>\n",
              "      <td>Tamil Nadu</td>\n",
              "      <td>0.07</td>\n",
              "      <td>Low</td>\n",
              "    </tr>\n",
              "    <tr>\n",
              "      <th>3</th>\n",
              "      <td>Jackson</td>\n",
              "      <td>Fruits &amp; Veggies</td>\n",
              "      <td>Fresh Vegetables</td>\n",
              "      <td>Dharmapuri</td>\n",
              "      <td>10-11-2016</td>\n",
              "      <td>South</td>\n",
              "      <td>896</td>\n",
              "      <td>0.25</td>\n",
              "      <td>89.60</td>\n",
              "      <td>Tamil Nadu</td>\n",
              "      <td>0.10</td>\n",
              "      <td>Low</td>\n",
              "    </tr>\n",
              "    <tr>\n",
              "      <th>4</th>\n",
              "      <td>Ridhesh</td>\n",
              "      <td>Food Grains</td>\n",
              "      <td>Organic Staples</td>\n",
              "      <td>Ooty</td>\n",
              "      <td>10-11-2016</td>\n",
              "      <td>South</td>\n",
              "      <td>2355</td>\n",
              "      <td>0.26</td>\n",
              "      <td>918.45</td>\n",
              "      <td>Tamil Nadu</td>\n",
              "      <td>0.39</td>\n",
              "      <td>High</td>\n",
              "    </tr>\n",
              "  </tbody>\n",
              "</table>\n",
              "</div>"
            ],
            "text/plain": [
              "  Customer Name          Category      Sub Category         City  Order Date  \\\n",
              "0        Harish      Oil & Masala           Masalas      Vellore  11-08-2017   \n",
              "1         Sudha         Beverages     Health Drinks  Krishnagiri  11-08-2017   \n",
              "2       Hussain       Food Grains      Atta & Flour   Perambalur  06-12-2017   \n",
              "3       Jackson  Fruits & Veggies  Fresh Vegetables   Dharmapuri  10-11-2016   \n",
              "4       Ridhesh       Food Grains   Organic Staples         Ooty  10-11-2016   \n",
              "\n",
              "  Region  Sales  Discount  Profit       State  profit_margin Cluster  \n",
              "0  North   1254      0.12  401.28  Tamil Nadu           0.32  Medium  \n",
              "1  South    749      0.18  149.80  Tamil Nadu           0.20  Medium  \n",
              "2   West   2360      0.21  165.20  Tamil Nadu           0.07     Low  \n",
              "3  South    896      0.25   89.60  Tamil Nadu           0.10     Low  \n",
              "4  South   2355      0.26  918.45  Tamil Nadu           0.39    High  "
            ]
          },
          "execution_count": 11,
          "metadata": {},
          "output_type": "execute_result"
        }
      ],
      "source": [
        "dataset.head()"
      ]
    },
    {
      "cell_type": "code",
      "execution_count": 12,
      "metadata": {},
      "outputs": [
        {
          "data": {
            "text/plain": [
              "<AxesSubplot:xlabel='Cluster', ylabel='Count'>"
            ]
          },
          "execution_count": 12,
          "metadata": {},
          "output_type": "execute_result"
        },
        {
          "data": {
            "image/png": "[encoded data removed]",
            "text/plain": [
              "<Figure size 640x480 with 1 Axes>"
            ]
          },
          "metadata": {},
          "output_type": "display_data"
        }
      ],
      "source": [
        "sns.histplot(dataset['Cluster'])"
      ]
    },
    {
      "cell_type": "code",
      "execution_count": 13,
      "metadata": {},
      "outputs": [],
      "source": [
        "encoder = LabelEncoder()\n",
        "scaler = StandardScaler()\n",
        "onehot = OneHotEncoder()"
      ]
    },
    {
      "cell_type": "code",
      "execution_count": 14,
      "metadata": {},
      "outputs": [],
      "source": [
        "# dataset[\"Order Date\"] = pd.to_datetime(dataset[\"Order Date\"])\n",
        "# dataset[\"Order Date\"] = dataset[\"Order Date\"].dt.month\n",
        "# dataset[\"Customer Name\"] = encoder.fit_transform(dataset[\"Customer Name\"])\n",
        "# dataset[\"Category\"] = encoder.fit_transform(dataset[\"Category\"])\n",
        "# dataset[\"City\"] = encoder.fit_transform(dataset[\"City\"])\n",
        "# dataset[\"Region\"] = encoder.fit_transform(dataset[\"Region\"])\n",
        "# dataset[\"State\"] = encoder.fit_transform(dataset[\"State\"])\n",
        "# dataset[\"Sub Category\"] = encoder.fit_transform(dataset[\"Sub Category\"])\n",
        "\n",
        "dataset[\"Order Date\"] = pd.to_datetime(dataset[\"Order Date\"])\n",
        "dataset[\"Order Date\"] = dataset[\"Order Date\"].dt.month\n",
        "dataset[\"Customer Name\"] = onehot.fit_transform(dataset[\"Customer Name\"].values.reshape(-1, 1)).toarray()\n",
        "dataset[\"Category\"] = onehot.fit_transform(dataset[\"Category\"].values.reshape(-1, 1)).toarray()\n",
        "dataset[\"City\"] = onehot.fit_transform(dataset[\"City\"].values.reshape(-1, 1)).toarray()\n",
        "dataset[\"Region\"] = onehot.fit_transform(dataset[\"Region\"].values.reshape(-1, 1)).toarray()\n",
        "dataset[\"State\"] = onehot.fit_transform(dataset[\"State\"].values.reshape(-1, 1)).toarray()\n",
        "dataset[\"Sub Category\"] = onehot.fit_transform(dataset[\"Sub Category\"].values.reshape(-1, 1)).toarray()\n",
        "dataset[\"Order Date\"] = encoder.fit_transform(dataset[\"Order Date\"])"
      ]
    },
    {
      "cell_type": "code",
      "execution_count": 15,
      "metadata": {},
      "outputs": [],
      "source": [
        "dataset[[\"Sales\", \"Discount\", \"profit_margin\",\"Profit\"]] = scaler.fit_transform(dataset[[\"Sales\", \"Discount\", \"profit_margin\",\"Profit\"]])"
      ]
    },
    {
      "cell_type": "code",
      "execution_count": 16,
      "metadata": {},
      "outputs": [],
      "source": [
        "class_to_numeric = {'Low': 0, 'Medium': 1, 'High': 2}\n",
        "dataset['Cluster'] = [class_to_numeric[label] for label in dataset['Cluster']]"
      ]
    },
    {
      "cell_type": "code",
      "execution_count": 17,
      "metadata": {},
      "outputs": [
        {
          "data": {
            "text/html": [
              "<div>\n",
              "<style scoped>\n",
              "    .dataframe tbody tr th:only-of-type {\n",
              "        vertical-align: middle;\n",
              "    }\n",
              "\n",
              "    .dataframe tbody tr th {\n",
              "        vertical-align: top;\n",
              "    }\n",
              "\n",
              "    .dataframe thead th {\n",
              "        text-align: right;\n",
              "    }\n",
              "</style>\n",
              "<table border=\"1\" class=\"dataframe\">\n",
              "  <thead>\n",
              "    <tr style=\"text-align: right;\">\n",
              "      <th></th>\n",
              "      <th>Customer Name</th>\n",
              "      <th>Category</th>\n",
              "      <th>Sub Category</th>\n",
              "      <th>City</th>\n",
              "      <th>Order Date</th>\n",
              "      <th>Region</th>\n",
              "      <th>Sales</th>\n",
              "      <th>Discount</th>\n",
              "      <th>Profit</th>\n",
              "      <th>State</th>\n",
              "      <th>profit_margin</th>\n",
              "      <th>Cluster</th>\n",
              "    </tr>\n",
              "  </thead>\n",
              "  <tbody>\n",
              "    <tr>\n",
              "      <th>0</th>\n",
              "      <td>12</td>\n",
              "      <td>5</td>\n",
              "      <td>14</td>\n",
              "      <td>21</td>\n",
              "      <td>0.971837</td>\n",
              "      <td>2</td>\n",
              "      <td>-0.414559</td>\n",
              "      <td>-1.430908</td>\n",
              "      <td>0.124389</td>\n",
              "      <td>0</td>\n",
              "      <td>0.595874</td>\n",
              "      <td>1</td>\n",
              "    </tr>\n",
              "    <tr>\n",
              "      <th>1</th>\n",
              "      <td>37</td>\n",
              "      <td>1</td>\n",
              "      <td>13</td>\n",
              "      <td>8</td>\n",
              "      <td>0.971837</td>\n",
              "      <td>3</td>\n",
              "      <td>-1.291968</td>\n",
              "      <td>-0.627370</td>\n",
              "      <td>-0.941183</td>\n",
              "      <td>0</td>\n",
              "      <td>-0.416872</td>\n",
              "      <td>1</td>\n",
              "    </tr>\n",
              "    <tr>\n",
              "      <th>2</th>\n",
              "      <td>14</td>\n",
              "      <td>3</td>\n",
              "      <td>0</td>\n",
              "      <td>13</td>\n",
              "      <td>-0.550301</td>\n",
              "      <td>4</td>\n",
              "      <td>1.507054</td>\n",
              "      <td>-0.225601</td>\n",
              "      <td>-0.875930</td>\n",
              "      <td>0</td>\n",
              "      <td>-1.514014</td>\n",
              "      <td>0</td>\n",
              "    </tr>\n",
              "    <tr>\n",
              "      <th>3</th>\n",
              "      <td>15</td>\n",
              "      <td>4</td>\n",
              "      <td>12</td>\n",
              "      <td>4</td>\n",
              "      <td>0.667410</td>\n",
              "      <td>3</td>\n",
              "      <td>-1.036563</td>\n",
              "      <td>0.310092</td>\n",
              "      <td>-1.196262</td>\n",
              "      <td>0</td>\n",
              "      <td>-1.260827</td>\n",
              "      <td>0</td>\n",
              "    </tr>\n",
              "    <tr>\n",
              "      <th>4</th>\n",
              "      <td>28</td>\n",
              "      <td>3</td>\n",
              "      <td>18</td>\n",
              "      <td>12</td>\n",
              "      <td>0.667410</td>\n",
              "      <td>3</td>\n",
              "      <td>1.498367</td>\n",
              "      <td>0.444015</td>\n",
              "      <td>2.315743</td>\n",
              "      <td>0</td>\n",
              "      <td>1.186643</td>\n",
              "      <td>2</td>\n",
              "    </tr>\n",
              "  </tbody>\n",
              "</table>\n",
              "</div>"
            ],
            "text/plain": [
              "   Customer Name  Category  Sub Category  City  Order Date  Region     Sales  \\\n",
              "0             12         5            14    21    0.971837       2 -0.414559   \n",
              "1             37         1            13     8    0.971837       3 -1.291968   \n",
              "2             14         3             0    13   -0.550301       4  1.507054   \n",
              "3             15         4            12     4    0.667410       3 -1.036563   \n",
              "4             28         3            18    12    0.667410       3  1.498367   \n",
              "\n",
              "   Discount    Profit  State  profit_margin  Cluster  \n",
              "0 -1.430908  0.124389      0       0.595874        1  \n",
              "1 -0.627370 -0.941183      0      -0.416872        1  \n",
              "2 -0.225601 -0.875930      0      -1.514014        0  \n",
              "3  0.310092 -1.196262      0      -1.260827        0  \n",
              "4  0.444015  2.315743      0       1.186643        2  "
            ]
          },
          "execution_count": 17,
          "metadata": {},
          "output_type": "execute_result"
        }
      ],
      "source": [
        "dataset.head()"
      ]
    },
    {
      "cell_type": "markdown",
      "metadata": {
        "id": "iVVBNffUZBKf"
      },
      "source": [
        "# **Split Data**"
      ]
    },
    {
      "cell_type": "code",
      "execution_count": 18,
      "metadata": {
        "id": "4qJbO_FaZBKh"
      },
      "outputs": [],
      "source": [
        "X = dataset.drop(['Cluster','Sub Category','State','Profit','profit_margin'],axis=1)\n",
        "y = dataset['Cluster']"
      ]
    },
    {
      "cell_type": "code",
      "execution_count": 19,
      "metadata": {
        "colab": {
          "base_uri": "https://localhost:8080/",
          "height": 206
        },
        "id": "8iy2g1HGZBKi",
        "outputId": "b6c33087-aeef-45cb-d8d8-42a810efd28a"
      },
      "outputs": [
        {
          "data": {
            "text/html": [
              "<div>\n",
              "<style scoped>\n",
              "    .dataframe tbody tr th:only-of-type {\n",
              "        vertical-align: middle;\n",
              "    }\n",
              "\n",
              "    .dataframe tbody tr th {\n",
              "        vertical-align: top;\n",
              "    }\n",
              "\n",
              "    .dataframe thead th {\n",
              "        text-align: right;\n",
              "    }\n",
              "</style>\n",
              "<table border=\"1\" class=\"dataframe\">\n",
              "  <thead>\n",
              "    <tr style=\"text-align: right;\">\n",
              "      <th></th>\n",
              "      <th>Customer Name</th>\n",
              "      <th>Category</th>\n",
              "      <th>City</th>\n",
              "      <th>Order Date</th>\n",
              "      <th>Region</th>\n",
              "      <th>Sales</th>\n",
              "      <th>Discount</th>\n",
              "    </tr>\n",
              "  </thead>\n",
              "  <tbody>\n",
              "    <tr>\n",
              "      <th>0</th>\n",
              "      <td>12</td>\n",
              "      <td>5</td>\n",
              "      <td>21</td>\n",
              "      <td>0.971837</td>\n",
              "      <td>2</td>\n",
              "      <td>-0.414559</td>\n",
              "      <td>-1.430908</td>\n",
              "    </tr>\n",
              "    <tr>\n",
              "      <th>1</th>\n",
              "      <td>37</td>\n",
              "      <td>1</td>\n",
              "      <td>8</td>\n",
              "      <td>0.971837</td>\n",
              "      <td>3</td>\n",
              "      <td>-1.291968</td>\n",
              "      <td>-0.627370</td>\n",
              "    </tr>\n",
              "    <tr>\n",
              "      <th>2</th>\n",
              "      <td>14</td>\n",
              "      <td>3</td>\n",
              "      <td>13</td>\n",
              "      <td>-0.550301</td>\n",
              "      <td>4</td>\n",
              "      <td>1.507054</td>\n",
              "      <td>-0.225601</td>\n",
              "    </tr>\n",
              "    <tr>\n",
              "      <th>3</th>\n",
              "      <td>15</td>\n",
              "      <td>4</td>\n",
              "      <td>4</td>\n",
              "      <td>0.667410</td>\n",
              "      <td>3</td>\n",
              "      <td>-1.036563</td>\n",
              "      <td>0.310092</td>\n",
              "    </tr>\n",
              "    <tr>\n",
              "      <th>4</th>\n",
              "      <td>28</td>\n",
              "      <td>3</td>\n",
              "      <td>12</td>\n",
              "      <td>0.667410</td>\n",
              "      <td>3</td>\n",
              "      <td>1.498367</td>\n",
              "      <td>0.444015</td>\n",
              "    </tr>\n",
              "  </tbody>\n",
              "</table>\n",
              "</div>"
            ],
            "text/plain": [
              "   Customer Name  Category  City  Order Date  Region     Sales  Discount\n",
              "0             12         5    21    0.971837       2 -0.414559 -1.430908\n",
              "1             37         1     8    0.971837       3 -1.291968 -0.627370\n",
              "2             14         3    13   -0.550301       4  1.507054 -0.225601\n",
              "3             15         4     4    0.667410       3 -1.036563  0.310092\n",
              "4             28         3    12    0.667410       3  1.498367  0.444015"
            ]
          },
          "execution_count": 19,
          "metadata": {},
          "output_type": "execute_result"
        }
      ],
      "source": [
        "X.head()"
      ]
    },
    {
      "cell_type": "code",
      "execution_count": 20,
      "metadata": {
        "id": "7tyhjwY2ZBKj"
      },
      "outputs": [],
      "source": [
        "X_train, X_temp, y_train, y_temp = train_test_split(X, y, test_size=0.2, random_state=42)\n",
        "X_val, X_test, y_val, y_test = train_test_split(X_temp, y_temp, test_size=0.5, random_state=42)"
      ]
    },
    {
      "cell_type": "code",
      "execution_count": 21,
      "metadata": {},
      "outputs": [
        {
          "data": {
            "text/plain": [
              "<AxesSubplot:>"
            ]
          },
          "execution_count": 21,
          "metadata": {},
          "output_type": "execute_result"
        },
        {
          "data": {
            "image/png": "[encoded data removed]",
            "text/plain": [
              "<Figure size 640x480 with 2 Axes>"
            ]
          },
          "metadata": {},
          "output_type": "display_data"
        }
      ],
      "source": [
        "heatcol = X.corr()\n",
        "sns.heatmap(heatcol,cmap=\"BrBG\",annot=True)"
      ]
    },
    {
      "cell_type": "code",
      "execution_count": 22,
      "metadata": {
        "colab": {
          "base_uri": "https://localhost:8080/"
        },
        "id": "ERs6RMJLeqBK",
        "outputId": "bd44d89b-8d3c-485b-d780-317f954e57fa"
      },
      "outputs": [
        {
          "name": "stdout",
          "output_type": "stream",
          "text": [
            "Dimension of Train set (7960, 7)\n",
            "Dimension of Val set (995, 7)\n",
            "Dimension of Test set (996, 7) \n",
            "\n",
            "Number of numeric features: 7\n"
          ]
        }
      ],
      "source": [
        "print(\"Dimension of Train set\",X_train.shape)\n",
        "print(\"Dimension of Val set\",X_val.shape)\n",
        "print(\"Dimension of Test set\",X_test.shape,\"\\n\")\n",
        "\n",
        "num_cols = X_train._get_numeric_data().columns\n",
        "print(\"Number of numeric features:\",num_cols.size)"
      ]
    },
    {
      "cell_type": "markdown",
      "metadata": {
        "id": "-v-NPFufZBKj"
      },
      "source": [
        "# **LSTM**"
      ]
    },
    {
      "cell_type": "code",
      "execution_count": 23,
      "metadata": {},
      "outputs": [],
      "source": [
        "from tensorflow.keras.models import Sequential\n",
        "from tensorflow.keras.layers import LSTM, Dense\n",
        "from tensorflow.keras.utils import to_categorical\n",
        "\n",
        "y_train = to_categorical(y_train, num_classes=3)\n",
        "y_val = to_categorical(y_val, num_classes=3)"
      ]
    },
    {
      "cell_type": "code",
      "execution_count": 24,
      "metadata": {},
      "outputs": [],
      "source": [
        "model = Sequential()\n",
        "model.add(LSTM(64, input_shape=(X_train.shape[1], 1)))\n",
        "\n",
        "model.add(Dense(64, activation='relu'))\n",
        "model.add(Dense(units=3, activation='sigmoid'))"
      ]
    },
    {
      "cell_type": "code",
      "execution_count": 25,
      "metadata": {},
      "outputs": [
        {
          "name": "stdout",
          "output_type": "stream",
          "text": [
            "Epoch 1/100\n",
            "249/249 [==============================] - 3s 5ms/step - loss: 1.1001 - categorical_accuracy: 0.3289 - val_loss: 1.1000 - val_categorical_accuracy: 0.3256\n",
            "Epoch 2/100\n",
            "249/249 [==============================] - 1s 3ms/step - loss: 1.0985 - categorical_accuracy: 0.3480 - val_loss: 1.1033 - val_categorical_accuracy: 0.3246\n",
            "Epoch 3/100\n",
            "249/249 [==============================] - 1s 3ms/step - loss: 1.0986 - categorical_accuracy: 0.3459 - val_loss: 1.1008 - val_categorical_accuracy: 0.3256\n",
            "Epoch 4/100\n",
            "249/249 [==============================] - 1s 3ms/step - loss: 1.0981 - categorical_accuracy: 0.3510 - val_loss: 1.1004 - val_categorical_accuracy: 0.3206\n",
            "Epoch 5/100\n",
            "249/249 [==============================] - 1s 4ms/step - loss: 1.0979 - categorical_accuracy: 0.3533 - val_loss: 1.0996 - val_categorical_accuracy: 0.3347\n",
            "Epoch 6/100\n",
            "249/249 [==============================] - 1s 3ms/step - loss: 1.0978 - categorical_accuracy: 0.3456 - val_loss: 1.1010 - val_categorical_accuracy: 0.3206\n",
            "Epoch 7/100\n",
            "249/249 [==============================] - 1s 3ms/step - loss: 1.0976 - categorical_accuracy: 0.3506 - val_loss: 1.0991 - val_categorical_accuracy: 0.3196\n",
            "Epoch 8/100\n",
            "249/249 [==============================] - 1s 3ms/step - loss: 1.0976 - categorical_accuracy: 0.3496 - val_loss: 1.1002 - val_categorical_accuracy: 0.3146\n",
            "Epoch 9/100\n",
            "249/249 [==============================] - 1s 3ms/step - loss: 1.0975 - categorical_accuracy: 0.3567 - val_loss: 1.1009 - val_categorical_accuracy: 0.3226\n",
            "Epoch 10/100\n",
            "249/249 [==============================] - 1s 3ms/step - loss: 1.0974 - categorical_accuracy: 0.3530 - val_loss: 1.0992 - val_categorical_accuracy: 0.3477\n",
            "Epoch 11/100\n",
            "249/249 [==============================] - 1s 3ms/step - loss: 1.0975 - categorical_accuracy: 0.3603 - val_loss: 1.1000 - val_categorical_accuracy: 0.3266\n",
            "Epoch 12/100\n",
            "249/249 [==============================] - 1s 3ms/step - loss: 1.0972 - categorical_accuracy: 0.3601 - val_loss: 1.1006 - val_categorical_accuracy: 0.3327\n",
            "Epoch 13/100\n",
            "249/249 [==============================] - 1s 3ms/step - loss: 1.0969 - categorical_accuracy: 0.3514 - val_loss: 1.1001 - val_categorical_accuracy: 0.3317\n",
            "Epoch 14/100\n",
            "249/249 [==============================] - 1s 3ms/step - loss: 1.0972 - categorical_accuracy: 0.3570 - val_loss: 1.0989 - val_categorical_accuracy: 0.3307\n",
            "Epoch 15/100\n",
            "249/249 [==============================] - 1s 4ms/step - loss: 1.0971 - categorical_accuracy: 0.3572 - val_loss: 1.0992 - val_categorical_accuracy: 0.3367\n",
            "Epoch 16/100\n",
            "249/249 [==============================] - 1s 4ms/step - loss: 1.0966 - categorical_accuracy: 0.3580 - val_loss: 1.0998 - val_categorical_accuracy: 0.3256\n",
            "Epoch 17/100\n",
            "249/249 [==============================] - 1s 4ms/step - loss: 1.0968 - categorical_accuracy: 0.3564 - val_loss: 1.1010 - val_categorical_accuracy: 0.3256\n",
            "Epoch 18/100\n",
            "249/249 [==============================] - 1s 3ms/step - loss: 1.0965 - categorical_accuracy: 0.3560 - val_loss: 1.0994 - val_categorical_accuracy: 0.3327\n",
            "Epoch 19/100\n",
            "249/249 [==============================] - 1s 3ms/step - loss: 1.0957 - categorical_accuracy: 0.3584 - val_loss: 1.0996 - val_categorical_accuracy: 0.3307\n",
            "Epoch 20/100\n",
            "249/249 [==============================] - 1s 3ms/step - loss: 1.0958 - categorical_accuracy: 0.3592 - val_loss: 1.0996 - val_categorical_accuracy: 0.3226\n",
            "Epoch 21/100\n",
            "249/249 [==============================] - 1s 3ms/step - loss: 1.0958 - categorical_accuracy: 0.3612 - val_loss: 1.1011 - val_categorical_accuracy: 0.3417\n",
            "Epoch 22/100\n",
            "249/249 [==============================] - 1s 3ms/step - loss: 1.0962 - categorical_accuracy: 0.3579 - val_loss: 1.1002 - val_categorical_accuracy: 0.3216\n",
            "Epoch 23/100\n",
            "249/249 [==============================] - 1s 3ms/step - loss: 1.0956 - categorical_accuracy: 0.3634 - val_loss: 1.1000 - val_categorical_accuracy: 0.3538\n",
            "Epoch 24/100\n",
            "249/249 [==============================] - 1s 3ms/step - loss: 1.0952 - categorical_accuracy: 0.3637 - val_loss: 1.0989 - val_categorical_accuracy: 0.3317\n",
            "Epoch 25/100\n",
            "249/249 [==============================] - 1s 4ms/step - loss: 1.0953 - categorical_accuracy: 0.3661 - val_loss: 1.1021 - val_categorical_accuracy: 0.3286\n",
            "Epoch 26/100\n",
            "249/249 [==============================] - 1s 4ms/step - loss: 1.0950 - categorical_accuracy: 0.3634 - val_loss: 1.0997 - val_categorical_accuracy: 0.3317\n",
            "Epoch 27/100\n",
            "249/249 [==============================] - 1s 3ms/step - loss: 1.0948 - categorical_accuracy: 0.3661 - val_loss: 1.1021 - val_categorical_accuracy: 0.3286\n",
            "Epoch 28/100\n",
            "249/249 [==============================] - 1s 4ms/step - loss: 1.0939 - categorical_accuracy: 0.3667 - val_loss: 1.1024 - val_categorical_accuracy: 0.3296\n",
            "Epoch 29/100\n",
            "249/249 [==============================] - 1s 4ms/step - loss: 1.0938 - categorical_accuracy: 0.3691 - val_loss: 1.0998 - val_categorical_accuracy: 0.3357\n",
            "Epoch 30/100\n",
            "249/249 [==============================] - 1s 3ms/step - loss: 1.0938 - categorical_accuracy: 0.3700 - val_loss: 1.1014 - val_categorical_accuracy: 0.3397\n",
            "Epoch 31/100\n",
            "249/249 [==============================] - 1s 3ms/step - loss: 1.0932 - categorical_accuracy: 0.3697 - val_loss: 1.1012 - val_categorical_accuracy: 0.3568\n",
            "Epoch 32/100\n",
            "249/249 [==============================] - 1s 3ms/step - loss: 1.0924 - categorical_accuracy: 0.3711 - val_loss: 1.1045 - val_categorical_accuracy: 0.3307\n",
            "Epoch 33/100\n",
            "249/249 [==============================] - 1s 4ms/step - loss: 1.0929 - categorical_accuracy: 0.3716 - val_loss: 1.1037 - val_categorical_accuracy: 0.3337\n",
            "Epoch 34/100\n",
            "249/249 [==============================] - 1s 3ms/step - loss: 1.0919 - categorical_accuracy: 0.3720 - val_loss: 1.1032 - val_categorical_accuracy: 0.3407\n",
            "Epoch 35/100\n",
            "249/249 [==============================] - 1s 3ms/step - loss: 1.0919 - categorical_accuracy: 0.3740 - val_loss: 1.1034 - val_categorical_accuracy: 0.3407\n",
            "Epoch 36/100\n",
            "249/249 [==============================] - 1s 3ms/step - loss: 1.0910 - categorical_accuracy: 0.3780 - val_loss: 1.1024 - val_categorical_accuracy: 0.3317\n",
            "Epoch 37/100\n",
            "249/249 [==============================] - 1s 3ms/step - loss: 1.0913 - categorical_accuracy: 0.3800 - val_loss: 1.1042 - val_categorical_accuracy: 0.3387\n",
            "Epoch 38/100\n",
            "249/249 [==============================] - 1s 3ms/step - loss: 1.0904 - categorical_accuracy: 0.3814 - val_loss: 1.1056 - val_categorical_accuracy: 0.3357\n",
            "Epoch 39/100\n",
            "249/249 [==============================] - 1s 4ms/step - loss: 1.0903 - categorical_accuracy: 0.3812 - val_loss: 1.1047 - val_categorical_accuracy: 0.3226\n",
            "Epoch 40/100\n",
            "249/249 [==============================] - 1s 3ms/step - loss: 1.0892 - categorical_accuracy: 0.3791 - val_loss: 1.1069 - val_categorical_accuracy: 0.3357\n",
            "Epoch 41/100\n",
            "249/249 [==============================] - 1s 3ms/step - loss: 1.0893 - categorical_accuracy: 0.3800 - val_loss: 1.1066 - val_categorical_accuracy: 0.3266\n",
            "Epoch 42/100\n",
            "249/249 [==============================] - 1s 3ms/step - loss: 1.0884 - categorical_accuracy: 0.3837 - val_loss: 1.1064 - val_categorical_accuracy: 0.3397\n",
            "Epoch 43/100\n",
            "249/249 [==============================] - 1s 3ms/step - loss: 1.0874 - categorical_accuracy: 0.3825 - val_loss: 1.1075 - val_categorical_accuracy: 0.3186\n",
            "Epoch 44/100\n",
            "249/249 [==============================] - 1s 3ms/step - loss: 1.0871 - categorical_accuracy: 0.3807 - val_loss: 1.1101 - val_categorical_accuracy: 0.3276\n",
            "Epoch 45/100\n",
            "249/249 [==============================] - 1s 3ms/step - loss: 1.0860 - categorical_accuracy: 0.3913 - val_loss: 1.1116 - val_categorical_accuracy: 0.3397\n",
            "Epoch 46/100\n",
            "249/249 [==============================] - 1s 3ms/step - loss: 1.0851 - categorical_accuracy: 0.3913 - val_loss: 1.1102 - val_categorical_accuracy: 0.3286\n",
            "Epoch 47/100\n",
            "249/249 [==============================] - 1s 3ms/step - loss: 1.0845 - categorical_accuracy: 0.3878 - val_loss: 1.1102 - val_categorical_accuracy: 0.3095\n",
            "Epoch 48/100\n",
            "249/249 [==============================] - 1s 4ms/step - loss: 1.0838 - categorical_accuracy: 0.3912 - val_loss: 1.1116 - val_categorical_accuracy: 0.3226\n",
            "Epoch 49/100\n",
            "249/249 [==============================] - 1s 4ms/step - loss: 1.0823 - categorical_accuracy: 0.3948 - val_loss: 1.1114 - val_categorical_accuracy: 0.3327\n",
            "Epoch 50/100\n",
            "249/249 [==============================] - 1s 4ms/step - loss: 1.0806 - categorical_accuracy: 0.3925 - val_loss: 1.1133 - val_categorical_accuracy: 0.3317\n",
            "Epoch 51/100\n",
            "249/249 [==============================] - 1s 4ms/step - loss: 1.0791 - categorical_accuracy: 0.3975 - val_loss: 1.1189 - val_categorical_accuracy: 0.3467\n",
            "Epoch 52/100\n",
            "249/249 [==============================] - 1s 4ms/step - loss: 1.0788 - categorical_accuracy: 0.3987 - val_loss: 1.1167 - val_categorical_accuracy: 0.3276\n",
            "Epoch 53/100\n",
            "249/249 [==============================] - 1s 4ms/step - loss: 1.0763 - categorical_accuracy: 0.4028 - val_loss: 1.1213 - val_categorical_accuracy: 0.3166\n",
            "Epoch 54/100\n",
            "249/249 [==============================] - 1s 3ms/step - loss: 1.0758 - categorical_accuracy: 0.4020 - val_loss: 1.1146 - val_categorical_accuracy: 0.3286\n",
            "Epoch 55/100\n",
            "249/249 [==============================] - 1s 3ms/step - loss: 1.0738 - categorical_accuracy: 0.4074 - val_loss: 1.1265 - val_categorical_accuracy: 0.3377\n",
            "Epoch 56/100\n",
            "249/249 [==============================] - 1s 3ms/step - loss: 1.0709 - categorical_accuracy: 0.4129 - val_loss: 1.1324 - val_categorical_accuracy: 0.3206\n",
            "Epoch 57/100\n",
            "249/249 [==============================] - 1s 3ms/step - loss: 1.0702 - categorical_accuracy: 0.4114 - val_loss: 1.1265 - val_categorical_accuracy: 0.3106\n",
            "Epoch 58/100\n",
            "249/249 [==============================] - 1s 3ms/step - loss: 1.0677 - categorical_accuracy: 0.4107 - val_loss: 1.1383 - val_categorical_accuracy: 0.3307\n",
            "Epoch 59/100\n",
            "249/249 [==============================] - 1s 3ms/step - loss: 1.0660 - categorical_accuracy: 0.4143 - val_loss: 1.1257 - val_categorical_accuracy: 0.3337\n",
            "Epoch 60/100\n",
            "249/249 [==============================] - 1s 3ms/step - loss: 1.0630 - categorical_accuracy: 0.4171 - val_loss: 1.1352 - val_categorical_accuracy: 0.3407\n",
            "Epoch 61/100\n",
            "249/249 [==============================] - 1s 4ms/step - loss: 1.0618 - categorical_accuracy: 0.4137 - val_loss: 1.1318 - val_categorical_accuracy: 0.3106\n",
            "Epoch 62/100\n",
            "249/249 [==============================] - 1s 4ms/step - loss: 1.0594 - categorical_accuracy: 0.4166 - val_loss: 1.1355 - val_categorical_accuracy: 0.3236\n",
            "Epoch 63/100\n",
            "249/249 [==============================] - 1s 3ms/step - loss: 1.0568 - categorical_accuracy: 0.4261 - val_loss: 1.1377 - val_categorical_accuracy: 0.3337\n",
            "Epoch 64/100\n",
            "249/249 [==============================] - 1s 3ms/step - loss: 1.0527 - categorical_accuracy: 0.4327 - val_loss: 1.1392 - val_categorical_accuracy: 0.2965\n",
            "Epoch 65/100\n",
            "249/249 [==============================] - 1s 3ms/step - loss: 1.0497 - categorical_accuracy: 0.4325 - val_loss: 1.1433 - val_categorical_accuracy: 0.3276\n",
            "Epoch 66/100\n",
            "249/249 [==============================] - 1s 4ms/step - loss: 1.0469 - categorical_accuracy: 0.4396 - val_loss: 1.1450 - val_categorical_accuracy: 0.3286\n",
            "Epoch 67/100\n",
            "249/249 [==============================] - 1s 3ms/step - loss: 1.0439 - categorical_accuracy: 0.4418 - val_loss: 1.1522 - val_categorical_accuracy: 0.3427\n",
            "Epoch 68/100\n",
            "249/249 [==============================] - 1s 3ms/step - loss: 1.0413 - categorical_accuracy: 0.4443 - val_loss: 1.1603 - val_categorical_accuracy: 0.3246\n",
            "Epoch 69/100\n",
            "249/249 [==============================] - 1s 4ms/step - loss: 1.0366 - categorical_accuracy: 0.4486 - val_loss: 1.1624 - val_categorical_accuracy: 0.3337\n",
            "Epoch 70/100\n",
            "249/249 [==============================] - 1s 3ms/step - loss: 1.0336 - categorical_accuracy: 0.4543 - val_loss: 1.1717 - val_categorical_accuracy: 0.3186\n",
            "Epoch 71/100\n",
            "249/249 [==============================] - 1s 4ms/step - loss: 1.0269 - categorical_accuracy: 0.4594 - val_loss: 1.1708 - val_categorical_accuracy: 0.3296\n",
            "Epoch 72/100\n",
            "249/249 [==============================] - 1s 4ms/step - loss: 1.0252 - categorical_accuracy: 0.4632 - val_loss: 1.1779 - val_categorical_accuracy: 0.3106\n",
            "Epoch 73/100\n",
            "249/249 [==============================] - 1s 4ms/step - loss: 1.0205 - categorical_accuracy: 0.4662 - val_loss: 1.1970 - val_categorical_accuracy: 0.3246\n",
            "Epoch 74/100\n",
            "249/249 [==============================] - 1s 4ms/step - loss: 1.0172 - categorical_accuracy: 0.4683 - val_loss: 1.1812 - val_categorical_accuracy: 0.3266\n",
            "Epoch 75/100\n",
            "249/249 [==============================] - 1s 4ms/step - loss: 1.0105 - categorical_accuracy: 0.4746 - val_loss: 1.1971 - val_categorical_accuracy: 0.3327\n",
            "Epoch 76/100\n",
            "249/249 [==============================] - 1s 3ms/step - loss: 1.0055 - categorical_accuracy: 0.4721 - val_loss: 1.1932 - val_categorical_accuracy: 0.3317\n",
            "Epoch 77/100\n",
            "249/249 [==============================] - 1s 3ms/step - loss: 1.0012 - categorical_accuracy: 0.4886 - val_loss: 1.2148 - val_categorical_accuracy: 0.3166\n",
            "Epoch 78/100\n",
            "249/249 [==============================] - 1s 3ms/step - loss: 0.9968 - categorical_accuracy: 0.4910 - val_loss: 1.2084 - val_categorical_accuracy: 0.3387\n",
            "Epoch 79/100\n",
            "249/249 [==============================] - 1s 3ms/step - loss: 0.9908 - categorical_accuracy: 0.4979 - val_loss: 1.2112 - val_categorical_accuracy: 0.3377\n",
            "Epoch 80/100\n",
            "249/249 [==============================] - 1s 4ms/step - loss: 0.9856 - categorical_accuracy: 0.4982 - val_loss: 1.2141 - val_categorical_accuracy: 0.3317\n",
            "Epoch 81/100\n",
            "249/249 [==============================] - 1s 4ms/step - loss: 0.9799 - categorical_accuracy: 0.5019 - val_loss: 1.2373 - val_categorical_accuracy: 0.3317\n",
            "Epoch 82/100\n",
            "249/249 [==============================] - 1s 4ms/step - loss: 0.9742 - categorical_accuracy: 0.5078 - val_loss: 1.2379 - val_categorical_accuracy: 0.3457\n",
            "Epoch 83/100\n",
            "249/249 [==============================] - 1s 4ms/step - loss: 0.9682 - categorical_accuracy: 0.5108 - val_loss: 1.2525 - val_categorical_accuracy: 0.3447\n",
            "Epoch 84/100\n",
            "249/249 [==============================] - 1s 4ms/step - loss: 0.9617 - categorical_accuracy: 0.5157 - val_loss: 1.2604 - val_categorical_accuracy: 0.3357\n",
            "Epoch 85/100\n",
            "249/249 [==============================] - 1s 4ms/step - loss: 0.9570 - categorical_accuracy: 0.5186 - val_loss: 1.2567 - val_categorical_accuracy: 0.3397\n",
            "Epoch 86/100\n",
            "249/249 [==============================] - 1s 4ms/step - loss: 0.9506 - categorical_accuracy: 0.5242 - val_loss: 1.2564 - val_categorical_accuracy: 0.3337\n",
            "Epoch 87/100\n",
            "249/249 [==============================] - 1s 4ms/step - loss: 0.9467 - categorical_accuracy: 0.5352 - val_loss: 1.2725 - val_categorical_accuracy: 0.3246\n",
            "Epoch 88/100\n",
            "249/249 [==============================] - 1s 4ms/step - loss: 0.9390 - categorical_accuracy: 0.5345 - val_loss: 1.2870 - val_categorical_accuracy: 0.3387\n",
            "Epoch 89/100\n",
            "249/249 [==============================] - 1s 4ms/step - loss: 0.9299 - categorical_accuracy: 0.5403 - val_loss: 1.3000 - val_categorical_accuracy: 0.3307\n",
            "Epoch 90/100\n",
            "249/249 [==============================] - 1s 4ms/step - loss: 0.9263 - categorical_accuracy: 0.5368 - val_loss: 1.2939 - val_categorical_accuracy: 0.3397\n",
            "Epoch 91/100\n",
            "249/249 [==============================] - 1s 4ms/step - loss: 0.9175 - categorical_accuracy: 0.5462 - val_loss: 1.3024 - val_categorical_accuracy: 0.3327\n",
            "Epoch 92/100\n",
            "249/249 [==============================] - 1s 4ms/step - loss: 0.9107 - categorical_accuracy: 0.5590 - val_loss: 1.2937 - val_categorical_accuracy: 0.3427\n",
            "Epoch 93/100\n",
            "249/249 [==============================] - 1s 4ms/step - loss: 0.9075 - categorical_accuracy: 0.5580 - val_loss: 1.3319 - val_categorical_accuracy: 0.3437\n",
            "Epoch 94/100\n",
            "249/249 [==============================] - 1s 4ms/step - loss: 0.8988 - categorical_accuracy: 0.5597 - val_loss: 1.3209 - val_categorical_accuracy: 0.3286\n",
            "Epoch 95/100\n",
            "249/249 [==============================] - 1s 4ms/step - loss: 0.8939 - categorical_accuracy: 0.5678 - val_loss: 1.3406 - val_categorical_accuracy: 0.3327\n",
            "Epoch 96/100\n",
            "249/249 [==============================] - 1s 4ms/step - loss: 0.8853 - categorical_accuracy: 0.5769 - val_loss: 1.3342 - val_categorical_accuracy: 0.3437\n",
            "Epoch 97/100\n",
            "249/249 [==============================] - 1s 4ms/step - loss: 0.8762 - categorical_accuracy: 0.5810 - val_loss: 1.3760 - val_categorical_accuracy: 0.3508\n",
            "Epoch 98/100\n",
            "249/249 [==============================] - 1s 4ms/step - loss: 0.8704 - categorical_accuracy: 0.5810 - val_loss: 1.3794 - val_categorical_accuracy: 0.3457\n",
            "Epoch 99/100\n",
            "249/249 [==============================] - 1s 4ms/step - loss: 0.8625 - categorical_accuracy: 0.5898 - val_loss: 1.3773 - val_categorical_accuracy: 0.3437\n",
            "Epoch 100/100\n",
            "249/249 [==============================] - 1s 4ms/step - loss: 0.8535 - categorical_accuracy: 0.5892 - val_loss: 1.3865 - val_categorical_accuracy: 0.3327\n",
            "32/32 [==============================] - 0s 2ms/step - loss: 1.3865 - categorical_accuracy: 0.3327\n",
            "Accuracy:  [1.3864691257476807, 0.33266332745552063]\n"
          ]
        }
      ],
      "source": [
        "# mse\n",
        "# mae\n",
        "# binary_crossentropy\n",
        "# categorical_crossentropy\n",
        "# sparse_categorical_crossentropy\n",
        "# hinge\n",
        "# kullback_leibler_divergence\n",
        "model.compile(loss='categorical_crossentropy', optimizer='Adam', metrics=['categorical_accuracy'])\n",
        "history = model.fit(X_train, y_train, epochs=100, batch_size=32, validation_data=(X_val, y_val))\n",
        "\n",
        "accuracy = model.evaluate(X_val, y_val)\n",
        "print(\"Accuracy: \", accuracy)"
      ]
    },
    {
      "cell_type": "code",
      "execution_count": 26,
      "metadata": {},
      "outputs": [
        {
          "name": "stdout",
          "output_type": "stream",
          "text": [
            "32/32 [==============================] - 0s 2ms/step\n"
          ]
        }
      ],
      "source": [
        "predictions = model.predict(X_test)\n",
        "y_pred = np.argmax(predictions, axis=1)"
      ]
    },
    {
      "cell_type": "code",
      "execution_count": 27,
      "metadata": {},
      "outputs": [
        {
          "data": {
            "text/plain": [
              "array([8.1655753e-06, 2.8808257e-05, 3.2415588e-05, ..., 9.9416399e-01,\n",
              "       9.9997592e-01, 9.9998355e-01], dtype=float32)"
            ]
          },
          "execution_count": 27,
          "metadata": {},
          "output_type": "execute_result"
        }
      ],
      "source": [
        "np.unique(predictions)"
      ]
    },
    {
      "cell_type": "code",
      "execution_count": 28,
      "metadata": {},
      "outputs": [
        {
          "data": {
            "text/plain": [
              "array([0, 1, 2], dtype=int64)"
            ]
          },
          "execution_count": 28,
          "metadata": {},
          "output_type": "execute_result"
        }
      ],
      "source": [
        "np.unique(y_pred)"
      ]
    },
    {
      "cell_type": "code",
      "execution_count": 29,
      "metadata": {},
      "outputs": [
        {
          "data": {
            "text/plain": [
              "array([0, 1, 2], dtype=int64)"
            ]
          },
          "execution_count": 29,
          "metadata": {},
          "output_type": "execute_result"
        }
      ],
      "source": [
        "np.unique(y_test)"
      ]
    },
    {
      "cell_type": "code",
      "execution_count": 30,
      "metadata": {},
      "outputs": [
        {
          "data": {
            "image/png": "[encoded data removed]",
            "text/plain": [
              "<Figure size 1200x500 with 2 Axes>"
            ]
          },
          "metadata": {},
          "output_type": "display_data"
        }
      ],
      "source": [
        "plt.figure(figsize=(12, 5))\n",
        "plt.subplot(1, 2, 1)\n",
        "plt.plot(history.history['loss'])\n",
        "plt.plot(history.history['val_loss'])\n",
        "plt.title('Loss over epochs')\n",
        "plt.ylabel('Loss')\n",
        "plt.xlabel('Epoch')\n",
        "plt.legend(['Train', 'Validation'], loc='best')\n",
        "\n",
        "plt.subplot(1, 2, 2)\n",
        "plt.plot(history.history['categorical_accuracy'])\n",
        "plt.plot(history.history['val_categorical_accuracy'])\n",
        "plt.title('Accuracy over epochs')\n",
        "plt.ylabel('Accuracy')\n",
        "plt.xlabel('Epoch')\n",
        "plt.legend(['Train', 'Validation'], loc='best')\n",
        "\n",
        "plt.tight_layout()\n",
        "plt.show()\n"
      ]
    },
    {
      "cell_type": "code",
      "execution_count": 31,
      "metadata": {},
      "outputs": [
        {
          "data": {
            "image/png": "[encoded data removed]",
            "text/plain": [
              "<Figure size 640x480 with 2 Axes>"
            ]
          },
          "metadata": {},
          "output_type": "display_data"
        },
        {
          "name": "stdout",
          "output_type": "stream",
          "text": [
            "              precision    recall  f1-score   support\n",
            "\n",
            "           0       0.31      0.38      0.34       327\n",
            "           1       0.35      0.32      0.34       352\n",
            "           2       0.32      0.28      0.30       317\n",
            "\n",
            "    accuracy                           0.33       996\n",
            "   macro avg       0.33      0.33      0.33       996\n",
            "weighted avg       0.33      0.33      0.33       996\n",
            "\n"
          ]
        }
      ],
      "source": [
        "cm = confusion_matrix(y_test, y_pred)\n",
        "disp = ConfusionMatrixDisplay(confusion_matrix=cm)\n",
        "disp.plot(cmap='Blues', values_format='d')\n",
        "plt.title(\"Confusion Matrix: RNN\")\n",
        "plt.show()\n",
        "\n",
        "print(classification_report(y_test, y_pred))"
      ]
    }
  ],
  "metadata": {
    "colab": {
      "provenance": []
    },
    "kernelspec": {
      "display_name": "base",
      "language": "python",
      "name": "python3"
    },
    "language_info": {
      "codemirror_mode": {
        "name": "ipython",
        "version": 3
      },
      "file_extension": ".py",
      "mimetype": "text/x-python",
      "name": "python",
      "nbconvert_exporter": "python",
      "pygments_lexer": "ipython3",
      "version": "3.9.13"
    }
  },
  "nbformat": 4,
  "nbformat_minor": 0
}
